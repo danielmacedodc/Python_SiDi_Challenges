{
  "nbformat": 4,
  "nbformat_minor": 0,
  "metadata": {
    "kernelspec": {
      "display_name": "Python 3",
      "language": "python",
      "name": "python3"
    },
    "language_info": {
      "codemirror_mode": {
        "name": "ipython",
        "version": 3
      },
      "file_extension": ".py",
      "mimetype": "text/x-python",
      "name": "python",
      "nbconvert_exporter": "python",
      "pygments_lexer": "ipython3",
      "version": "3.8.11"
    },
    "colab": {
      "name": "21_gerenciando_excessoes - Daniel M.ipynb",
      "provenance": [],
      "collapsed_sections": []
    }
  },
  "cells": [
    {
      "cell_type": "markdown",
      "metadata": {
        "id": "eKKxlpt0F0GT"
      },
      "source": [
        "# Curso de Python Básico\n",
        "\n",
        "Este é um curso básico de python que tem o objetivo de apresentar a linguagem python de uma **maneira rápida e objetiva**. Vamos direto ao ponto nos conceitos básicos da programação e python com muita mão na massa! \n",
        "\n",
        "Neste curso, vamos trabalhar no **modo iterativo** do python. Porém, entenda que você pode trabalhar no modo script com várias linhas de código usando um arquivo no formato .py.\n",
        "\n",
        "Ao final desse Curso, espero que você se aprenda python e se motive cada vez mais em utilizar a linguagem para diversas tarefas e problemas do mundo real.\n",
        "\n",
        "Este notebook vai apenas passar pelos tópicos básicos em ordem:\n",
        "\n",
        "* 9. Tratando Erros em Python\n",
        "  "
      ]
    },
    {
      "cell_type": "markdown",
      "metadata": {
        "ExecuteTime": {
          "end_time": "2021-08-27T15:01:10.782500Z",
          "start_time": "2021-08-27T15:01:10.774502Z"
        },
        "id": "AlPeZLEOF0GY"
      },
      "source": [
        "## 9 Tratando Erros em Python"
      ]
    },
    {
      "cell_type": "code",
      "metadata": {
        "id": "WDIL2YhLF0GZ",
        "colab": {
          "base_uri": "https://localhost:8080/"
        },
        "outputId": "25445923-2b8a-4960-8bfd-dc0d72a6b51e"
      },
      "source": [
        "try:\n",
        "    print(x)\n",
        "except NameError:\n",
        "    print(\"Variable x is not defined\")\n",
        "except:\n",
        "    print(\"Something else went wrong\")"
      ],
      "execution_count": 1,
      "outputs": [
        {
          "output_type": "stream",
          "name": "stdout",
          "text": [
            "Variable x is not defined\n"
          ]
        }
      ]
    },
    {
      "cell_type": "code",
      "metadata": {
        "id": "ZA6vHX_4F0Ga",
        "colab": {
          "base_uri": "https://localhost:8080/"
        },
        "outputId": "c570b924-4e9f-4d28-a15d-1d73208206c4"
      },
      "source": [
        "try:\n",
        "    print(\"Hello\")\n",
        "except:\n",
        "    print(\"Something went wrong\")\n",
        "else:\n",
        "    print(\"Nothing went wrong\")"
      ],
      "execution_count": 2,
      "outputs": [
        {
          "output_type": "stream",
          "name": "stdout",
          "text": [
            "Hello\n",
            "Nothing went wrong\n"
          ]
        }
      ]
    },
    {
      "cell_type": "code",
      "metadata": {
        "id": "-vXyg-8uF0Ga",
        "colab": {
          "base_uri": "https://localhost:8080/"
        },
        "outputId": "5f20487a-2a4e-4620-cc49-2c1b67200da7"
      },
      "source": [
        "try:\n",
        "    print(x)\n",
        "except:\n",
        "    print(\"Something went wrong\")\n",
        "finally:\n",
        "    print(\"The 'try except' is finished\")"
      ],
      "execution_count": 3,
      "outputs": [
        {
          "output_type": "stream",
          "name": "stdout",
          "text": [
            "Something went wrong\n",
            "The 'try except' is finished\n"
          ]
        }
      ]
    },
    {
      "cell_type": "code",
      "metadata": {
        "id": "gy8y9EV9F0Gc",
        "colab": {
          "base_uri": "https://localhost:8080/"
        },
        "outputId": "5d5c20fa-7aa9-458d-ace5-63e5c5c09c05"
      },
      "source": [
        "try:\n",
        "    f = open(\"demofile.txt\")\n",
        "    try:\n",
        "        f.write(\"Lorum Ipsum\")\n",
        "    except:\n",
        "        print(\"Something went wrong when writing to the file\")\n",
        "    finally:\n",
        "        f.close()\n",
        "except:\n",
        "    print(\"Something went wrong when opening the file\")"
      ],
      "execution_count": 4,
      "outputs": [
        {
          "output_type": "stream",
          "name": "stdout",
          "text": [
            "Something went wrong when opening the file\n"
          ]
        }
      ]
    },
    {
      "cell_type": "code",
      "metadata": {
        "id": "4vJmaQjkF0Gc",
        "colab": {
          "base_uri": "https://localhost:8080/",
          "height": 209
        },
        "outputId": "7727cee1-93c9-4b80-a917-05164fcadbd4"
      },
      "source": [
        "x = -1\n",
        "if x < 0:\n",
        "    raise Exception(\"Sorry, no numbers below zero\")"
      ],
      "execution_count": 5,
      "outputs": [
        {
          "output_type": "error",
          "ename": "Exception",
          "evalue": "ignored",
          "traceback": [
            "\u001b[0;31m---------------------------------------------------------------------------\u001b[0m",
            "\u001b[0;31mException\u001b[0m                                 Traceback (most recent call last)",
            "\u001b[0;32m<ipython-input-5-23d0eb626da9>\u001b[0m in \u001b[0;36m<module>\u001b[0;34m()\u001b[0m\n\u001b[1;32m      1\u001b[0m \u001b[0mx\u001b[0m \u001b[0;34m=\u001b[0m \u001b[0;34m-\u001b[0m\u001b[0;36m1\u001b[0m\u001b[0;34m\u001b[0m\u001b[0;34m\u001b[0m\u001b[0m\n\u001b[1;32m      2\u001b[0m \u001b[0;32mif\u001b[0m \u001b[0mx\u001b[0m \u001b[0;34m<\u001b[0m \u001b[0;36m0\u001b[0m\u001b[0;34m:\u001b[0m\u001b[0;34m\u001b[0m\u001b[0;34m\u001b[0m\u001b[0m\n\u001b[0;32m----> 3\u001b[0;31m     \u001b[0;32mraise\u001b[0m \u001b[0mException\u001b[0m\u001b[0;34m(\u001b[0m\u001b[0;34m\"Sorry, no numbers below zero\"\u001b[0m\u001b[0;34m)\u001b[0m\u001b[0;34m\u001b[0m\u001b[0;34m\u001b[0m\u001b[0m\n\u001b[0m",
            "\u001b[0;31mException\u001b[0m: Sorry, no numbers below zero"
          ]
        }
      ]
    }
  ]
}