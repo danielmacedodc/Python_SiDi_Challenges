{
  "nbformat": 4,
  "nbformat_minor": 0,
  "metadata": {
    "kernelspec": {
      "display_name": "Python 3",
      "language": "python",
      "name": "python3"
    },
    "language_info": {
      "codemirror_mode": {
        "name": "ipython",
        "version": 3
      },
      "file_extension": ".py",
      "mimetype": "text/x-python",
      "name": "python",
      "nbconvert_exporter": "python",
      "pygments_lexer": "ipython3",
      "version": "3.8.11"
    },
    "colab": {
      "name": "14_list_comprehenssion - Daniel M.ipynb",
      "provenance": [],
      "collapsed_sections": []
    }
  },
  "cells": [
    {
      "cell_type": "markdown",
      "metadata": {
        "id": "GTPibI4PCtoW"
      },
      "source": [
        "# Curso de Python Básico\n",
        "\n",
        "Este é um curso básico de python que tem o objetivo de apresentar a linguagem python de uma **maneira rápida e objetiva**. Vamos direto ao ponto nos conceitos básicos da programação e python com muita mão na massa! \n",
        "\n",
        "Neste curso, vamos trabalhar no **modo iterativo** do python. Porém, entenda que você pode trabalhar no modo script com várias linhas de código usando um arquivo no formato .py.\n",
        "\n",
        "Ao final desse Curso, espero que você se aprenda python e se motive cada vez mais em utilizar a linguagem para diversas tarefas e problemas do mundo real.\n",
        "\n",
        "Este notebook vai apenas passar pelos tópicos básicos em ordem:\n",
        "\n",
        "* 8. Python intermediário\n",
        "    * 8.1 List Comprehension\n",
        "    * 8.2 Generators\n",
        "    * 8.3 Tratando erros em Python\n",
        "    * 8.4 Lidando com String\n",
        "    * 8.5 Lidando com datas e tempo"
      ]
    },
    {
      "cell_type": "markdown",
      "metadata": {
        "id": "inDTLbC0Ctob"
      },
      "source": [
        "###  8. Python Intermediario\n",
        "\n",
        "##### 8.1 Compreensão de Listas (list comprehension)\n",
        "É uma estrutura disponível em algumas linguagens de programação para  criar listas baseados em listas existentes. Use list comprehension para deixar o código mais robusto \n",
        "\n",
        "Estrutura é:\n",
        "- retorne este elemento | para a iteração | se a condição acontecer\n"
      ]
    },
    {
      "cell_type": "code",
      "metadata": {
        "ExecuteTime": {
          "end_time": "2021-08-27T14:31:03.974738Z",
          "start_time": "2021-08-27T14:31:03.969738Z"
        },
        "id": "YVkUVI1HCtoc"
      },
      "source": [
        "x = [1,2,3,4,5,6]"
      ],
      "execution_count": 1,
      "outputs": []
    },
    {
      "cell_type": "code",
      "metadata": {
        "ExecuteTime": {
          "end_time": "2021-08-27T14:31:04.256989Z",
          "start_time": "2021-08-27T14:31:04.239998Z"
        },
        "id": "m79pKNL8Ctod",
        "colab": {
          "base_uri": "https://localhost:8080/"
        },
        "outputId": "ded4d790-fd2f-4d8d-f826-45c82768718b"
      },
      "source": [
        "pares = []\n",
        "for item in x:\n",
        "    if item % 2 ==0:\n",
        "        pares.append(item)\n",
        "print(pares)"
      ],
      "execution_count": 2,
      "outputs": [
        {
          "output_type": "stream",
          "name": "stdout",
          "text": [
            "[2, 4, 6]\n"
          ]
        }
      ]
    },
    {
      "cell_type": "code",
      "metadata": {
        "ExecuteTime": {
          "end_time": "2021-08-27T14:32:39.527297Z",
          "start_time": "2021-08-27T14:32:39.520294Z"
        },
        "id": "oZ8Q2XQSCtod",
        "colab": {
          "base_uri": "https://localhost:8080/"
        },
        "outputId": "cea3c445-32e7-48b8-8fa3-89267a71a589"
      },
      "source": [
        "[a for a in x if a % 2==0]"
      ],
      "execution_count": 3,
      "outputs": [
        {
          "output_type": "execute_result",
          "data": {
            "text/plain": [
              "[2, 4, 6]"
            ]
          },
          "metadata": {},
          "execution_count": 3
        }
      ]
    },
    {
      "cell_type": "code",
      "metadata": {
        "id": "tUe1inIRCtod",
        "colab": {
          "base_uri": "https://localhost:8080/"
        },
        "outputId": "32fb6f6a-2414-40ee-9d85-e03cc932d7eb"
      },
      "source": [
        "[i**2 for i in [1,2,3,4,5] if i %2 !=0]"
      ],
      "execution_count": 4,
      "outputs": [
        {
          "output_type": "execute_result",
          "data": {
            "text/plain": [
              "[1, 9, 25]"
            ]
          },
          "metadata": {},
          "execution_count": 4
        }
      ]
    },
    {
      "cell_type": "code",
      "metadata": {
        "id": "c3ouEvLACtoe"
      },
      "source": [
        ""
      ],
      "execution_count": null,
      "outputs": []
    },
    {
      "cell_type": "markdown",
      "metadata": {
        "id": "5gbI19MwCtoe"
      },
      "source": [
        "## Agora é sua vez"
      ]
    },
    {
      "cell_type": "markdown",
      "metadata": {
        "ExecuteTime": {
          "end_time": "2021-09-27T19:16:33.728027Z",
          "start_time": "2021-09-27T19:16:33.719025Z"
        },
        "id": "f8wb0yJMCtoe"
      },
      "source": [
        "**1) Crie um list comprehension que irá retornar os números ímpares dados uma sequência de 0 até 10**"
      ]
    },
    {
      "cell_type": "code",
      "metadata": {
        "id": "JMxyY9SUCtof",
        "colab": {
          "base_uri": "https://localhost:8080/"
        },
        "outputId": "66183146-6cae-4eaa-b2a9-c7aaad3ce730"
      },
      "source": [
        "y = [0,1,2,3,4,5,6,7,8,9,10]\n",
        "[a for a in y if a % 2 != 0]"
      ],
      "execution_count": 6,
      "outputs": [
        {
          "output_type": "execute_result",
          "data": {
            "text/plain": [
              "[1, 3, 5, 7, 9]"
            ]
          },
          "metadata": {},
          "execution_count": 6
        }
      ]
    },
    {
      "cell_type": "markdown",
      "metadata": {
        "ExecuteTime": {
          "end_time": "2021-09-27T19:24:18.167685Z",
          "start_time": "2021-09-27T19:24:18.152685Z"
        },
        "id": "OLtUibQgCtog"
      },
      "source": [
        "**2) Crie um list comprehension que irá retornar os números divisíveis por 2 e por 3 dados uma sequência de 0 até 10**"
      ]
    },
    {
      "cell_type": "code",
      "metadata": {
        "id": "j2a_hZf2Ctog",
        "colab": {
          "base_uri": "https://localhost:8080/"
        },
        "outputId": "b5a352b3-291a-46e4-eb95-3c0f8fb46df9"
      },
      "source": [
        "[a for a in y if (a%2 == 0) and (a%3 == 0)]"
      ],
      "execution_count": 7,
      "outputs": [
        {
          "output_type": "execute_result",
          "data": {
            "text/plain": [
              "[0, 6]"
            ]
          },
          "metadata": {},
          "execution_count": 7
        }
      ]
    }
  ]
}