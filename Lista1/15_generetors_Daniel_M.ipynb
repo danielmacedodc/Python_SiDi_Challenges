{
  "nbformat": 4,
  "nbformat_minor": 0,
  "metadata": {
    "kernelspec": {
      "display_name": "Python 3",
      "language": "python",
      "name": "python3"
    },
    "language_info": {
      "codemirror_mode": {
        "name": "ipython",
        "version": 3
      },
      "file_extension": ".py",
      "mimetype": "text/x-python",
      "name": "python",
      "nbconvert_exporter": "python",
      "pygments_lexer": "ipython3",
      "version": "3.8.11"
    },
    "colab": {
      "name": "15_generetors - Daniel M.ipynb",
      "provenance": [],
      "collapsed_sections": []
    }
  },
  "cells": [
    {
      "cell_type": "markdown",
      "metadata": {
        "id": "nuPmPsyYESCb"
      },
      "source": [
        "# Curso de Python Básico\n",
        "\n",
        "Este é um curso básico de python que tem o objetivo de apresentar a linguagem python de uma **maneira rápida e objetiva**. Vamos direto ao ponto nos conceitos básicos da programação e python com muita mão na massa! \n",
        "\n",
        "Neste curso, vamos trabalhar no **modo iterativo** do python. Porém, entenda que você pode trabalhar no modo script com várias linhas de código usando um arquivo no formato .py.\n",
        "\n",
        "Ao final desse Curso, espero que você se aprenda python e se motive cada vez mais em utilizar a linguagem para diversas tarefas e problemas do mundo real.\n",
        "\n",
        "Este notebook vai apenas passar pelos tópicos básicos em ordem:\n",
        "\n",
        "* 8. Python intermediário\n",
        "    * 8.1 List Comprehension\n",
        "    * 8.2 Generators\n",
        "    * 8.3 Tratando erros em Python\n",
        "    * 8.4 Lidando com String\n",
        "    * 8.5 Lidando com datas e tempo"
      ]
    },
    {
      "cell_type": "markdown",
      "metadata": {
        "ExecuteTime": {
          "end_time": "2021-08-27T14:41:00.259327Z",
          "start_time": "2021-08-27T14:41:00.248329Z"
        },
        "id": "8JpKl-2FESCf"
      },
      "source": [
        "##### 8.2 Generators \n",
        "\n",
        "Um recurso para criar iterators em python. Um generator é uma função que retorna um objeto que podemos interar sobre ele. Um generator não armazena todos os valores em memória, eles geram os valores interando sobre os dados. A maioria dos generators são implementados como função"
      ]
    },
    {
      "cell_type": "code",
      "metadata": {
        "ExecuteTime": {
          "end_time": "2021-09-27T19:18:52.310636Z",
          "start_time": "2021-09-27T19:18:52.292636Z"
        },
        "id": "kOL9EuwPESCg"
      },
      "source": [
        "def count():\n",
        "    for i in range(10):\n",
        "        yield i"
      ],
      "execution_count": 1,
      "outputs": []
    },
    {
      "cell_type": "code",
      "metadata": {
        "ExecuteTime": {
          "end_time": "2021-09-27T19:18:53.104635Z",
          "start_time": "2021-09-27T19:18:53.089635Z"
        },
        "id": "xl-IRhO0ESCj",
        "colab": {
          "base_uri": "https://localhost:8080/"
        },
        "outputId": "1b9e0e6e-b744-4fe8-9646-aa648f4143b7"
      },
      "source": [
        "for item in count():\n",
        "    print(item, end = ' ')"
      ],
      "execution_count": 4,
      "outputs": [
        {
          "output_type": "stream",
          "name": "stdout",
          "text": [
            "0 1 2 3 4 5 6 7 8 9 "
          ]
        }
      ]
    },
    {
      "cell_type": "code",
      "metadata": {
        "ExecuteTime": {
          "end_time": "2021-09-27T19:18:53.652198Z",
          "start_time": "2021-09-27T19:18:53.641198Z"
        },
        "id": "TQibeFwnESCl"
      },
      "source": [
        "# generator version\n",
        "def fibonacci(n):\n",
        "    a = b = 1\n",
        "    for i in range(n):\n",
        "        yield a\n",
        "        a, b = b, a + b"
      ],
      "execution_count": 5,
      "outputs": []
    },
    {
      "cell_type": "code",
      "metadata": {
        "ExecuteTime": {
          "end_time": "2021-09-27T19:18:54.164627Z",
          "start_time": "2021-09-27T19:18:54.145627Z"
        },
        "id": "m1iMWXQyESCm",
        "colab": {
          "base_uri": "https://localhost:8080/"
        },
        "outputId": "0ef439a7-bde7-4444-fbe7-8023f9fd0687"
      },
      "source": [
        "for x in fibonacci(10):\n",
        "    print(x, end=' ')"
      ],
      "execution_count": 6,
      "outputs": [
        {
          "output_type": "stream",
          "name": "stdout",
          "text": [
            "1 1 2 3 5 8 13 21 34 55 "
          ]
        }
      ]
    },
    {
      "cell_type": "code",
      "metadata": {
        "ExecuteTime": {
          "end_time": "2021-09-27T19:18:54.554622Z",
          "start_time": "2021-09-27T19:18:54.545621Z"
        },
        "id": "yddd7EDpESCn"
      },
      "source": [
        "sequencia = fibonacci(10)"
      ],
      "execution_count": 7,
      "outputs": []
    },
    {
      "cell_type": "code",
      "metadata": {
        "ExecuteTime": {
          "end_time": "2021-09-27T19:18:55.131625Z",
          "start_time": "2021-09-27T19:18:55.113625Z"
        },
        "id": "mzgXEQ73ESCn",
        "colab": {
          "base_uri": "https://localhost:8080/"
        },
        "outputId": "fd5c7180-11e2-4738-c851-df1f55243e9a"
      },
      "source": [
        "sequencia"
      ],
      "execution_count": 8,
      "outputs": [
        {
          "output_type": "execute_result",
          "data": {
            "text/plain": [
              "<generator object fibonacci at 0x7fef5f7fde50>"
            ]
          },
          "metadata": {},
          "execution_count": 8
        }
      ]
    },
    {
      "cell_type": "code",
      "metadata": {
        "ExecuteTime": {
          "end_time": "2021-09-27T19:18:56.000621Z",
          "start_time": "2021-09-27T19:18:55.984623Z"
        },
        "id": "6StJR0sGESCo",
        "colab": {
          "base_uri": "https://localhost:8080/"
        },
        "outputId": "84872d40-dbc3-41d1-8587-2fd18caf57c0"
      },
      "source": [
        "next(sequencia)"
      ],
      "execution_count": 10,
      "outputs": [
        {
          "output_type": "execute_result",
          "data": {
            "text/plain": [
              "1"
            ]
          },
          "metadata": {},
          "execution_count": 10
        }
      ]
    },
    {
      "cell_type": "code",
      "metadata": {
        "ExecuteTime": {
          "end_time": "2021-09-27T19:18:56.838621Z",
          "start_time": "2021-09-27T19:18:56.825620Z"
        },
        "id": "eX8AnMsKESCp"
      },
      "source": [
        "# criando objeto iterável\n",
        "String = 'Meu Nome é Nicksson'\n",
        "it_String = iter(String)"
      ],
      "execution_count": 11,
      "outputs": []
    },
    {
      "cell_type": "code",
      "metadata": {
        "ExecuteTime": {
          "end_time": "2021-09-27T19:18:58.692405Z",
          "start_time": "2021-09-27T19:18:58.681406Z"
        },
        "id": "L2NUJUsFESCp",
        "colab": {
          "base_uri": "https://localhost:8080/",
          "height": 36
        },
        "outputId": "b7a34ad4-da4d-4ba4-d699-106829ff543f"
      },
      "source": [
        "next(it_String)"
      ],
      "execution_count": 13,
      "outputs": [
        {
          "output_type": "execute_result",
          "data": {
            "application/vnd.google.colaboratory.intrinsic+json": {
              "type": "string"
            },
            "text/plain": [
              "'e'"
            ]
          },
          "metadata": {},
          "execution_count": 13
        }
      ]
    },
    {
      "cell_type": "code",
      "metadata": {
        "ExecuteTime": {
          "end_time": "2021-09-27T19:18:58.926615Z",
          "start_time": "2021-09-27T19:18:58.913611Z"
        },
        "id": "rWZDYesWESCr"
      },
      "source": [
        "# criando objeto iterável\n",
        "my_list = iter([1,2,3,4,5,6,7,8,9,10])"
      ],
      "execution_count": 14,
      "outputs": []
    },
    {
      "cell_type": "code",
      "metadata": {
        "ExecuteTime": {
          "end_time": "2021-09-27T19:18:59.443902Z",
          "start_time": "2021-09-27T19:18:59.434904Z"
        },
        "id": "pcxGZDdPESCs",
        "colab": {
          "base_uri": "https://localhost:8080/"
        },
        "outputId": "2ced0b06-0808-439b-ae9f-c787fa0db96a"
      },
      "source": [
        "next(my_list)"
      ],
      "execution_count": 15,
      "outputs": [
        {
          "output_type": "execute_result",
          "data": {
            "text/plain": [
              "1"
            ]
          },
          "metadata": {},
          "execution_count": 15
        }
      ]
    }
  ]
}