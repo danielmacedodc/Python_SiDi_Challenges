{
  "nbformat": 4,
  "nbformat_minor": 0,
  "metadata": {
    "kernelspec": {
      "display_name": "Python 3",
      "language": "python",
      "name": "python3"
    },
    "language_info": {
      "codemirror_mode": {
        "name": "ipython",
        "version": 3
      },
      "file_extension": ".py",
      "mimetype": "text/x-python",
      "name": "python",
      "nbconvert_exporter": "python",
      "pygments_lexer": "ipython3",
      "version": "3.8.11"
    },
    "colab": {
      "name": "02_tipos_de_dados_convertendo_tipos - Daniel M.ipynb",
      "provenance": [],
      "collapsed_sections": []
    }
  },
  "cells": [
    {
      "cell_type": "markdown",
      "metadata": {
        "id": "0mwP4XhkxsSz"
      },
      "source": [
        "# Curso de Python Básico\n",
        "\n",
        "Este é um curso básico de python que tem o objetivo de apresentar a linguagem python de uma **maneira rápida e objetiva**. Vamos direto ao ponto nos conceitos básicos da programação e python com muita mão na massa! \n",
        "\n",
        "Neste curso, vamos trabalhar no **modo iterativo** do python. Porém, entenda que você pode trabalhar no modo script com várias linhas de código usando um arquivo no formato .py.\n",
        "\n",
        "Ao final desse Curso, espero que você se aprenda python e se motive cada vez mais em utilizar a linguagem para diversas tarefas e problemas do mundo real.\n",
        "\n",
        "Este notebook vai apenas passar pelos tópicos básicos em ordem:\n",
        "\n",
        "* 1. Conceitos Básicos\n",
        "    * 1.1 Variáveis\n",
        "    * 1.2 Comentários\n",
        "    * 1.3 Expressões\n",
        "    * 1.4 Imprimindo Valores\n",
        "    * 1.5 Tipos de dados\n",
        "        * 1.4.1 Inteiro\n",
        "        * 1.4.2 Float\n",
        "        * 1.4.3 String\n",
        "        * 1.4.4 Boelano\n",
        "        * 1.4.5 Nulo\n",
        "    * 1.6 Verificando e Modificando os diferentes Tipos de Dados\n",
        "    * 1.7 Operadores Aritméticos\n",
        "* 2. Estrutura de dados\n",
        "    * 2.1 Listas\n",
        "    * 2.2 Dicionários\n",
        "    * 2.3 Tuplas\n",
        "    * 2.4 Sets\n",
        "* 3. Operadores de comparação\n",
        "    * 3.1 Maior que\n",
        "    * 3.2 Menor que\n",
        "    * 3.3 Maior ou igual que\n",
        "    * 3.4 Menor ou igual que\n",
        "    * 3.5 Igual a\n",
        "    * 3.6 Diferente de\n",
        "    * 3.7 Pertence \n",
        "    * 3.8 Negação\n",
        "* 4. Operadores Lógicos\n",
        "    * 4.1 and\n",
        "    * 4.2 or\n",
        "* 5. Estrutura condicionais\n",
        "    * 5.1 if\n",
        "    * 5.2 else\n",
        "    * 5.3 elif\n",
        "* 6. Estrutura de Repetição\n",
        "    * 6.1 for \n",
        "    * 6.2 range\n",
        "    * 6.3 while \n",
        "    * 6.4 while-else\n",
        "    * 6.5 break\n",
        "\n",
        "* 7. funções\n",
        "    * 7.1 Funções SEM retorno\n",
        "    * 7.2 Funções COM retorno\n",
        "    * 7.3 Funções anônimas (lambda)\n",
        "    * 7.4 map e filter\n",
        "* 8. Python intermediário\n",
        "    * 8.1 List Comprehension\n",
        "    * 8.2 Generators\n",
        "    * 8.3 Tratando erros em Python\n",
        "    * 8.4 Lidando com String\n",
        "    * 8.5 Lidando com datas e tempo\n",
        "\n",
        "* 9. Python Orientação a Objetos\n",
        "    * 9.1 Classes e Objetos\n",
        "    * 9.2 Instância\n",
        "    * 9.3 Atributos\n",
        "    * 9.4 Construtor\n",
        "    * 9.5 Herança\n",
        "    * 9.6 Polimofismo\n",
        "  "
      ]
    },
    {
      "cell_type": "markdown",
      "metadata": {
        "id": "3HKsWbEqxsS4"
      },
      "source": [
        "##  1. Conceitos Básicos"
      ]
    },
    {
      "cell_type": "markdown",
      "metadata": {
        "id": "UuucKuR7xsS5"
      },
      "source": [
        "#### 1.5. Tipos de dados\n",
        "- Inteiro\n",
        "- Float\n",
        "- Boleano\n",
        "- String\n",
        "- Nulo"
      ]
    },
    {
      "cell_type": "code",
      "metadata": {
        "id": "kgsQlaAWxsS6"
      },
      "source": [
        "# Int\n",
        "numero = 1"
      ],
      "execution_count": null,
      "outputs": []
    },
    {
      "cell_type": "code",
      "metadata": {
        "id": "kvOxV21ExsS7"
      },
      "source": [
        "# Float\n",
        "numero = 1.0"
      ],
      "execution_count": 2,
      "outputs": []
    },
    {
      "cell_type": "code",
      "metadata": {
        "id": "axjm62AyxsS8"
      },
      "source": [
        "# String\n",
        "texto = \"'Python é fácil'\"\n",
        "# 'Citação simples'\n",
        "# \"Citações duplas\""
      ],
      "execution_count": null,
      "outputs": []
    },
    {
      "cell_type": "code",
      "metadata": {
        "id": "hOEw_C3ixsS8"
      },
      "source": [
        "# Boleano\n",
        "brasileiro = True"
      ],
      "execution_count": 5,
      "outputs": []
    },
    {
      "cell_type": "code",
      "metadata": {
        "id": "BexiKf62xsS9"
      },
      "source": [
        "# Nulo\n",
        "dado = None"
      ],
      "execution_count": 1,
      "outputs": []
    },
    {
      "cell_type": "code",
      "metadata": {
        "id": "MoWgKQjgxsS-"
      },
      "source": [
        "valor = '25'"
      ],
      "execution_count": null,
      "outputs": []
    },
    {
      "cell_type": "markdown",
      "metadata": {
        "id": "zeWk3HDtxsS-"
      },
      "source": [
        "#### 1.6 Verificando e modificando os tipos de dados"
      ]
    },
    {
      "cell_type": "code",
      "metadata": {
        "ExecuteTime": {
          "end_time": "2021-08-27T12:57:20.533380Z",
          "start_time": "2021-08-27T12:57:20.417383Z"
        },
        "id": "NJlS_v8jxsS_",
        "colab": {
          "base_uri": "https://localhost:8080/"
        },
        "outputId": "0cfb902e-7d70-4233-cee7-930728d5becd"
      },
      "source": [
        "# Consultando tipos de dados\n",
        "type(dado)"
      ],
      "execution_count": 3,
      "outputs": [
        {
          "output_type": "execute_result",
          "data": {
            "text/plain": [
              "NoneType"
            ]
          },
          "metadata": {},
          "execution_count": 3
        }
      ]
    },
    {
      "cell_type": "code",
      "metadata": {
        "id": "m34b5mYQxsS_",
        "colab": {
          "base_uri": "https://localhost:8080/"
        },
        "outputId": "c25457a4-5c65-4698-80ef-4a4a5d287b44"
      },
      "source": [
        "# Convertendo tipos de dados\n",
        "int(numero)"
      ],
      "execution_count": 4,
      "outputs": [
        {
          "output_type": "execute_result",
          "data": {
            "text/plain": [
              "1"
            ]
          },
          "metadata": {},
          "execution_count": 4
        }
      ]
    },
    {
      "cell_type": "markdown",
      "metadata": {
        "id": "YLkrZS07xsTA"
      },
      "source": [
        "## Agora é sua vez\n",
        "\n",
        "1) Crie um programa que receberá nome, idade, salário e brasileiro. o nome é uma variável String, a idade é uma variável inteira, o salário é uma variável float e brasileiro é uma variável boleana. \n",
        "\n",
        "2) Converta o a variável idade para float e a variável brasileiro para string.\n",
        "\n",
        "3) Verifique o tipo de cada variável e imprima os valores e seus tipos conforme a saída abaixo:\n",
        "\n",
        "**Saída:** \n",
        "- 'a variável idade é do tipo: {TIPO_DA_VARIAVEL}'\n",
        "- 'a variável brasileiro é do tipo: {TIPO_DA_VARIAVEL}'\n",
        "- 'a variável nome é do tipo: {TIPO_DA_VARIAVEL}'"
      ]
    },
    {
      "cell_type": "code",
      "metadata": {
        "id": "xo0f0HC1xsTB"
      },
      "source": [
        "nome = 'Marco'\n",
        "idade = 40\n",
        "salario = 2550.25\n",
        "brasileiro = False"
      ],
      "execution_count": 6,
      "outputs": []
    },
    {
      "cell_type": "code",
      "metadata": {
        "id": "4qUCymitxsTB"
      },
      "source": [
        "brasileiro = str(brasileiro)"
      ],
      "execution_count": 17,
      "outputs": []
    },
    {
      "cell_type": "code",
      "metadata": {
        "id": "FpFYT3G3y6nF"
      },
      "source": [
        "idade = float(idade)"
      ],
      "execution_count": 18,
      "outputs": []
    },
    {
      "cell_type": "code",
      "metadata": {
        "colab": {
          "base_uri": "https://localhost:8080/"
        },
        "id": "ke7lIxMoyb_f",
        "outputId": "16be1cc9-65c0-46b4-dedd-903681c802fc"
      },
      "source": [
        "print(f'a variável idade é do tipo: {type(idade)}')\n",
        "print(f'a variável brasileiro é do tipo: {type(brasileiro)}')\n",
        "print(f'a variável nome é do tipo: {type(nome)}')"
      ],
      "execution_count": 21,
      "outputs": [
        {
          "output_type": "stream",
          "name": "stdout",
          "text": [
            "a variável idade é do tipo: <class 'float'>\n",
            "a variável brasileiro é do tipo: <class 'str'>\n",
            "a variável nome é do tipo: <class 'str'>\n"
          ]
        }
      ]
    }
  ]
}