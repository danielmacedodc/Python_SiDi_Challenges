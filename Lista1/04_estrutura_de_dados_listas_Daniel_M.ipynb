{
  "nbformat": 4,
  "nbformat_minor": 0,
  "metadata": {
    "kernelspec": {
      "display_name": "Python 3",
      "language": "python",
      "name": "python3"
    },
    "language_info": {
      "codemirror_mode": {
        "name": "ipython",
        "version": 3
      },
      "file_extension": ".py",
      "mimetype": "text/x-python",
      "name": "python",
      "nbconvert_exporter": "python",
      "pygments_lexer": "ipython3",
      "version": "3.8.11"
    },
    "colab": {
      "name": "04_estrutura_de_dados_listas - Daniel M.ipynb",
      "provenance": [],
      "collapsed_sections": []
    }
  },
  "cells": [
    {
      "cell_type": "markdown",
      "metadata": {
        "id": "o_HaNG6V4pUY"
      },
      "source": [
        "# Curso de Python Básico\n",
        "\n",
        "Este é um curso básico de python que tem o objetivo de apresentar a linguagem python de uma **maneira rápida e objetiva**. Vamos direto ao ponto nos conceitos básicos da programação e python com muita mão na massa! \n",
        "\n",
        "Neste curso, vamos trabalhar no **modo iterativo** do python. Porém, entenda que você pode trabalhar no modo script com várias linhas de código usando um arquivo no formato .py.\n",
        "\n",
        "Ao final desse Curso, espero que você se aprenda python e se motive cada vez mais em utilizar a linguagem para diversas tarefas e problemas do mundo real.\n",
        "\n",
        "Este notebook vai apenas passar pelos tópicos básicos em ordem:\n",
        "\n",
        "* 2. Estrutura de dados\n",
        "    * 2.1 Listas\n",
        "    * 2.2 Dicionários\n",
        "    * 2.3 Tuplas\n",
        "    * 2.4 Sets"
      ]
    },
    {
      "cell_type": "markdown",
      "metadata": {
        "id": "Z9T82Dl24pUc"
      },
      "source": [
        "## 2. Estrutura de Dados\n",
        "- Listas\n",
        "- Dicionários\n",
        "- Tuplas\n",
        "- Conjuntos\n",
        "\n",
        "#### 2.1 Listas \n",
        "Estrutura de dados utilizada para armazenar sequências de valores de forma organizada a partir de um índice que representa a posição na coletação (o índice iniciando em zero)\n",
        "\n",
        "#### 2.1.1 Definição de Listas"
      ]
    },
    {
      "cell_type": "code",
      "metadata": {
        "id": "Gdn27n-34pUd"
      },
      "source": [
        "minha_lista = [1,2,3]"
      ],
      "execution_count": null,
      "outputs": []
    },
    {
      "cell_type": "code",
      "metadata": {
        "id": "WjeQBH2i4pUf"
      },
      "source": [
        "# lista vazia\n",
        "minha_lista = []"
      ],
      "execution_count": 3,
      "outputs": []
    },
    {
      "cell_type": "code",
      "metadata": {
        "ExecuteTime": {
          "end_time": "2021-08-27T13:57:23.497503Z",
          "start_time": "2021-08-27T13:57:23.481505Z"
        },
        "id": "Qs23m5c44pUg"
      },
      "source": [
        "# valores em listas\n",
        "minha_lista = ['hi',1.0,[1,2], True]"
      ],
      "execution_count": 1,
      "outputs": []
    },
    {
      "cell_type": "code",
      "metadata": {
        "id": "XrSH3b5T4pUh",
        "colab": {
          "base_uri": "https://localhost:8080/"
        },
        "outputId": "c78bd235-e7d4-4c25-f2d5-48c339cd23ef"
      },
      "source": [
        "minha_lista[2]"
      ],
      "execution_count": 2,
      "outputs": [
        {
          "output_type": "execute_result",
          "data": {
            "text/plain": [
              "[1, 2]"
            ]
          },
          "metadata": {},
          "execution_count": 2
        }
      ]
    },
    {
      "cell_type": "code",
      "metadata": {
        "id": "5eYabWds4pUh"
      },
      "source": [
        "minha_lista = ['a','b','c']"
      ],
      "execution_count": 4,
      "outputs": []
    },
    {
      "cell_type": "code",
      "metadata": {
        "id": "2cJp6qK_4pUi"
      },
      "source": [
        "minha_lista.append('d')"
      ],
      "execution_count": 5,
      "outputs": []
    },
    {
      "cell_type": "code",
      "metadata": {
        "id": "XmR2MCIZ4pUi",
        "colab": {
          "base_uri": "https://localhost:8080/"
        },
        "outputId": "ac7aa2af-c762-4b2a-d760-1721ed9ad386"
      },
      "source": [
        "minha_lista"
      ],
      "execution_count": 6,
      "outputs": [
        {
          "output_type": "execute_result",
          "data": {
            "text/plain": [
              "['a', 'b', 'c', 'd']"
            ]
          },
          "metadata": {},
          "execution_count": 6
        }
      ]
    },
    {
      "cell_type": "markdown",
      "metadata": {
        "id": "Wil3P8Bu4pUj"
      },
      "source": [
        "##### 2.1.2 Acessando listas"
      ]
    },
    {
      "cell_type": "code",
      "metadata": {
        "id": "GRj2Ped64pUk",
        "colab": {
          "base_uri": "https://localhost:8080/",
          "height": 36
        },
        "outputId": "1f0d0f12-54a1-48f1-b926-812f5b09fb20"
      },
      "source": [
        "[a, b, c, d]\n",
        "[0, 1, 2, 3]\n",
        "[-4, -3, -2, -1]"
      ],
      "execution_count": 57,
      "outputs": [
        {
          "output_type": "execute_result",
          "data": {
            "application/vnd.google.colaboratory.intrinsic+json": {
              "type": "string"
            },
            "text/plain": [
              "'[a, b, c, d]\\n[0, 1, 2, 3]\\n[-4, -3, -2, -1]'"
            ]
          },
          "metadata": {},
          "execution_count": 57
        }
      ]
    },
    {
      "cell_type": "code",
      "metadata": {
        "id": "MwG924Uc4pUl",
        "colab": {
          "base_uri": "https://localhost:8080/",
          "height": 36
        },
        "outputId": "bde0b61d-dad7-40c4-dd7e-4e24ad1c4ce7"
      },
      "source": [
        "minha_lista[-1]"
      ],
      "execution_count": 8,
      "outputs": [
        {
          "output_type": "execute_result",
          "data": {
            "application/vnd.google.colaboratory.intrinsic+json": {
              "type": "string"
            },
            "text/plain": [
              "'d'"
            ]
          },
          "metadata": {},
          "execution_count": 8
        }
      ]
    },
    {
      "cell_type": "code",
      "metadata": {
        "id": "wDjez96Y4pUl",
        "colab": {
          "base_uri": "https://localhost:8080/",
          "height": 36
        },
        "outputId": "d9be62b4-aa00-4055-d740-17e7e94cf6b2"
      },
      "source": [
        "minha_lista[0]"
      ],
      "execution_count": 9,
      "outputs": [
        {
          "output_type": "execute_result",
          "data": {
            "application/vnd.google.colaboratory.intrinsic+json": {
              "type": "string"
            },
            "text/plain": [
              "'a'"
            ]
          },
          "metadata": {},
          "execution_count": 9
        }
      ]
    },
    {
      "cell_type": "code",
      "metadata": {
        "id": "M4eNOqe24pUm",
        "colab": {
          "base_uri": "https://localhost:8080/",
          "height": 36
        },
        "outputId": "6e58b4df-6e16-4bbd-a3d5-0adb4bdfdcaa"
      },
      "source": [
        "minha_lista[-1]"
      ],
      "execution_count": 10,
      "outputs": [
        {
          "output_type": "execute_result",
          "data": {
            "application/vnd.google.colaboratory.intrinsic+json": {
              "type": "string"
            },
            "text/plain": [
              "'d'"
            ]
          },
          "metadata": {},
          "execution_count": 10
        }
      ]
    },
    {
      "cell_type": "code",
      "metadata": {
        "id": "fGWs79e34pUm",
        "colab": {
          "base_uri": "https://localhost:8080/"
        },
        "outputId": "cd4a5a13-0bd9-4586-c95a-b3c7e8a08acc"
      },
      "source": [
        "minha_lista"
      ],
      "execution_count": 11,
      "outputs": [
        {
          "output_type": "execute_result",
          "data": {
            "text/plain": [
              "['a', 'b', 'c', 'd']"
            ]
          },
          "metadata": {},
          "execution_count": 11
        }
      ]
    },
    {
      "cell_type": "code",
      "metadata": {
        "id": "Q3Sb8RlD4pUn"
      },
      "source": [
        "minha_lista[0] = 'A'"
      ],
      "execution_count": 12,
      "outputs": []
    },
    {
      "cell_type": "code",
      "metadata": {
        "id": "qUX7VeYQ4pUn",
        "colab": {
          "base_uri": "https://localhost:8080/"
        },
        "outputId": "ac764ab1-343c-470f-b2cf-4755cdf78989"
      },
      "source": [
        "minha_lista"
      ],
      "execution_count": 13,
      "outputs": [
        {
          "output_type": "execute_result",
          "data": {
            "text/plain": [
              "['A', 'b', 'c', 'd']"
            ]
          },
          "metadata": {},
          "execution_count": 13
        }
      ]
    },
    {
      "cell_type": "code",
      "metadata": {
        "id": "yW2pmRx_4pUn"
      },
      "source": [
        "nest = [1,2,3,[4,5,['target']]]"
      ],
      "execution_count": 14,
      "outputs": []
    },
    {
      "cell_type": "code",
      "metadata": {
        "id": "48TRXwx54pUo",
        "colab": {
          "base_uri": "https://localhost:8080/",
          "height": 36
        },
        "outputId": "b9a090b0-9486-4ccd-9cec-1c81da87ea50"
      },
      "source": [
        "nest[3][2][0]"
      ],
      "execution_count": 15,
      "outputs": [
        {
          "output_type": "execute_result",
          "data": {
            "application/vnd.google.colaboratory.intrinsic+json": {
              "type": "string"
            },
            "text/plain": [
              "'target'"
            ]
          },
          "metadata": {},
          "execution_count": 15
        }
      ]
    },
    {
      "cell_type": "code",
      "metadata": {
        "ExecuteTime": {
          "end_time": "2021-08-27T13:31:45.345940Z",
          "start_time": "2021-08-27T13:31:45.336941Z"
        },
        "id": "PixTbQqi4pUo"
      },
      "source": [
        "minha_lista = ['a', 'b', 'c', 'd']"
      ],
      "execution_count": 16,
      "outputs": []
    },
    {
      "cell_type": "code",
      "metadata": {
        "ExecuteTime": {
          "end_time": "2021-08-27T13:32:08.991847Z",
          "start_time": "2021-08-27T13:32:08.983849Z"
        },
        "id": "Vfv4sJWO4pUo",
        "colab": {
          "base_uri": "https://localhost:8080/"
        },
        "outputId": "7407a2a3-4b3a-4393-a742-828f8264335c"
      },
      "source": [
        "# retorne uma sublista\n",
        "minha_lista[2:4]"
      ],
      "execution_count": 17,
      "outputs": [
        {
          "output_type": "execute_result",
          "data": {
            "text/plain": [
              "['c', 'd']"
            ]
          },
          "metadata": {},
          "execution_count": 17
        }
      ]
    },
    {
      "cell_type": "markdown",
      "metadata": {
        "id": "OVqAuwWb4pUo"
      },
      "source": [
        "##### 2.1.3 Adicionando elementos"
      ]
    },
    {
      "cell_type": "code",
      "metadata": {
        "ExecuteTime": {
          "end_time": "2021-08-27T13:22:54.147340Z",
          "start_time": "2021-08-27T13:22:54.141344Z"
        },
        "id": "y9lmG8c64pUp"
      },
      "source": [
        "minha_lista = []"
      ],
      "execution_count": 18,
      "outputs": []
    },
    {
      "cell_type": "code",
      "metadata": {
        "ExecuteTime": {
          "end_time": "2021-08-27T13:22:54.349586Z",
          "start_time": "2021-08-27T13:22:54.337586Z"
        },
        "id": "DP9NP0ex4pUp"
      },
      "source": [
        "# Inserir elemento em listas\n",
        "minha_lista.append('Novo elemento')"
      ],
      "execution_count": 19,
      "outputs": []
    },
    {
      "cell_type": "code",
      "metadata": {
        "ExecuteTime": {
          "end_time": "2021-08-27T13:23:04.171174Z",
          "start_time": "2021-08-27T13:23:04.157174Z"
        },
        "id": "6FCnMtbc4pUp"
      },
      "source": [
        "# Inserir elemento usando o index\n",
        "minha_lista.insert(0, 'primeiro elemento')"
      ],
      "execution_count": 20,
      "outputs": []
    },
    {
      "cell_type": "code",
      "metadata": {
        "ExecuteTime": {
          "end_time": "2021-08-27T13:23:42.526142Z",
          "start_time": "2021-08-27T13:23:42.515144Z"
        },
        "id": "iaFy0sH-4pUp"
      },
      "source": [
        "minha_lista[1] = 'Alterando'"
      ],
      "execution_count": 21,
      "outputs": []
    },
    {
      "cell_type": "code",
      "metadata": {
        "ExecuteTime": {
          "end_time": "2021-08-27T13:23:44.252146Z",
          "start_time": "2021-08-27T13:23:44.234149Z"
        },
        "id": "I8QcENcw4pUq",
        "colab": {
          "base_uri": "https://localhost:8080/"
        },
        "outputId": "4051153f-9612-429c-d737-4cd6c8dce1cd"
      },
      "source": [
        "minha_lista"
      ],
      "execution_count": 22,
      "outputs": [
        {
          "output_type": "execute_result",
          "data": {
            "text/plain": [
              "['primeiro elemento', 'Alterando']"
            ]
          },
          "metadata": {},
          "execution_count": 22
        }
      ]
    },
    {
      "cell_type": "markdown",
      "metadata": {
        "id": "1WIBXY7J4pUq"
      },
      "source": [
        "##### 2.1.4 Removendo Elementos"
      ]
    },
    {
      "cell_type": "code",
      "metadata": {
        "ExecuteTime": {
          "end_time": "2021-08-27T13:28:26.144884Z",
          "start_time": "2021-08-27T13:28:26.136885Z"
        },
        "id": "8eeK0HQF4pUq"
      },
      "source": [
        "minha_lista = ['A', 'B', 'C', 'D']"
      ],
      "execution_count": 23,
      "outputs": []
    },
    {
      "cell_type": "code",
      "metadata": {
        "ExecuteTime": {
          "end_time": "2021-08-27T13:28:37.337802Z",
          "start_time": "2021-08-27T13:28:37.323802Z"
        },
        "id": "myFCrQaU4pUq"
      },
      "source": [
        "minha_lista.remove('B')"
      ],
      "execution_count": 24,
      "outputs": []
    },
    {
      "cell_type": "code",
      "metadata": {
        "ExecuteTime": {
          "end_time": "2021-08-27T13:28:53.274734Z",
          "start_time": "2021-08-27T13:28:53.256747Z"
        },
        "id": "dOhBwGW64pUr",
        "colab": {
          "base_uri": "https://localhost:8080/"
        },
        "outputId": "2f6d6854-f8d7-4924-f25c-d2d5243a0e04"
      },
      "source": [
        "minha_lista"
      ],
      "execution_count": 25,
      "outputs": [
        {
          "output_type": "execute_result",
          "data": {
            "text/plain": [
              "['A', 'C', 'D']"
            ]
          },
          "metadata": {},
          "execution_count": 25
        }
      ]
    },
    {
      "cell_type": "code",
      "metadata": {
        "ExecuteTime": {
          "end_time": "2021-08-27T13:29:07.970645Z",
          "start_time": "2021-08-27T13:29:07.960646Z"
        },
        "id": "6ZEUFjTv4pUr"
      },
      "source": [
        "del minha_lista[0]"
      ],
      "execution_count": 26,
      "outputs": []
    },
    {
      "cell_type": "code",
      "metadata": {
        "ExecuteTime": {
          "end_time": "2021-08-27T13:29:12.576635Z",
          "start_time": "2021-08-27T13:29:12.561637Z"
        },
        "id": "luFbE6VP4pUr",
        "colab": {
          "base_uri": "https://localhost:8080/"
        },
        "outputId": "2e0fd9d7-ec02-41b0-e059-a24a040d3a01"
      },
      "source": [
        "minha_lista"
      ],
      "execution_count": 27,
      "outputs": [
        {
          "output_type": "execute_result",
          "data": {
            "text/plain": [
              "['C', 'D']"
            ]
          },
          "metadata": {},
          "execution_count": 27
        }
      ]
    },
    {
      "cell_type": "markdown",
      "metadata": {
        "ExecuteTime": {
          "end_time": "2021-08-27T13:13:38.436915Z",
          "start_time": "2021-08-27T13:13:38.426915Z"
        },
        "id": "cWJdoEZw4pUr"
      },
      "source": [
        "##### 2.1.5 Concatenando listas"
      ]
    },
    {
      "cell_type": "code",
      "metadata": {
        "ExecuteTime": {
          "end_time": "2021-08-27T13:25:40.095612Z",
          "start_time": "2021-08-27T13:25:40.082616Z"
        },
        "id": "t0xqpVU64pUr"
      },
      "source": [
        "minha_lista = ['Z'] + minha_lista "
      ],
      "execution_count": 28,
      "outputs": []
    },
    {
      "cell_type": "code",
      "metadata": {
        "ExecuteTime": {
          "end_time": "2021-08-27T13:25:40.221811Z",
          "start_time": "2021-08-27T13:25:40.216810Z"
        },
        "id": "Y3yXRJt34pUs",
        "colab": {
          "base_uri": "https://localhost:8080/"
        },
        "outputId": "0d4009d6-dbb8-44bb-b372-cc3c76fe9d62"
      },
      "source": [
        "minha_lista"
      ],
      "execution_count": 29,
      "outputs": [
        {
          "output_type": "execute_result",
          "data": {
            "text/plain": [
              "['Z', 'C', 'D']"
            ]
          },
          "metadata": {},
          "execution_count": 29
        }
      ]
    },
    {
      "cell_type": "code",
      "metadata": {
        "ExecuteTime": {
          "end_time": "2021-08-27T13:25:40.377726Z",
          "start_time": "2021-08-27T13:25:40.360722Z"
        },
        "id": "PkC8rxib4pUs"
      },
      "source": [
        "minha_lista = ['farinha de trigo', 'ovo', 'leite', 'manteiga']"
      ],
      "execution_count": 30,
      "outputs": []
    },
    {
      "cell_type": "code",
      "metadata": {
        "ExecuteTime": {
          "end_time": "2021-08-27T13:25:40.487221Z",
          "start_time": "2021-08-27T13:25:40.480221Z"
        },
        "id": "qSgeTs6T4pUs"
      },
      "source": [
        "minha_lista.extend(['açucar', 'fermento'])"
      ],
      "execution_count": 31,
      "outputs": []
    },
    {
      "cell_type": "code",
      "metadata": {
        "ExecuteTime": {
          "end_time": "2021-08-27T13:25:40.642602Z",
          "start_time": "2021-08-27T13:25:40.624606Z"
        },
        "id": "Sh5Rm_Hj4pUs",
        "colab": {
          "base_uri": "https://localhost:8080/"
        },
        "outputId": "5fb8b872-1a39-4fde-c405-7be9d1bc2bdf"
      },
      "source": [
        "minha_lista"
      ],
      "execution_count": 32,
      "outputs": [
        {
          "output_type": "execute_result",
          "data": {
            "text/plain": [
              "['farinha de trigo', 'ovo', 'leite', 'manteiga', 'açucar', 'fermento']"
            ]
          },
          "metadata": {},
          "execution_count": 32
        }
      ]
    },
    {
      "cell_type": "markdown",
      "metadata": {
        "id": "iEnKpnl44pUs"
      },
      "source": [
        "##### 2.1.6 Ordenação de listas"
      ]
    },
    {
      "cell_type": "code",
      "metadata": {
        "ExecuteTime": {
          "end_time": "2021-08-27T13:24:13.085474Z",
          "start_time": "2021-08-27T13:24:13.082484Z"
        },
        "id": "_ONqDzwu4pUt"
      },
      "source": [
        "minha_lista = [1,5,2,3,4]"
      ],
      "execution_count": 33,
      "outputs": []
    },
    {
      "cell_type": "code",
      "metadata": {
        "ExecuteTime": {
          "end_time": "2021-08-27T13:24:32.008461Z",
          "start_time": "2021-08-27T13:24:31.996449Z"
        },
        "id": "aCVU5W814pUt"
      },
      "source": [
        "minha_lista.sort(reverse=False)"
      ],
      "execution_count": 34,
      "outputs": []
    },
    {
      "cell_type": "code",
      "metadata": {
        "ExecuteTime": {
          "end_time": "2021-08-27T13:24:32.256912Z",
          "start_time": "2021-08-27T13:24:32.240913Z"
        },
        "id": "JreON3-X4pUt",
        "colab": {
          "base_uri": "https://localhost:8080/"
        },
        "outputId": "5506adc8-2f6d-4129-d958-953b17069a76"
      },
      "source": [
        "minha_lista"
      ],
      "execution_count": 35,
      "outputs": [
        {
          "output_type": "execute_result",
          "data": {
            "text/plain": [
              "[1, 2, 3, 4, 5]"
            ]
          },
          "metadata": {},
          "execution_count": 35
        }
      ]
    },
    {
      "cell_type": "markdown",
      "metadata": {
        "id": "xHpf6psM4pUt"
      },
      "source": [
        "##### 2.1.7 Comprimento de listas"
      ]
    },
    {
      "cell_type": "code",
      "metadata": {
        "ExecuteTime": {
          "end_time": "2021-08-27T13:34:46.039340Z",
          "start_time": "2021-08-27T13:34:46.032333Z"
        },
        "id": "-gf3iQll4pUu",
        "colab": {
          "base_uri": "https://localhost:8080/"
        },
        "outputId": "b399e906-bac2-47f2-de06-6473a6348576"
      },
      "source": [
        "len(minha_lista)"
      ],
      "execution_count": 36,
      "outputs": [
        {
          "output_type": "execute_result",
          "data": {
            "text/plain": [
              "5"
            ]
          },
          "metadata": {},
          "execution_count": 36
        }
      ]
    },
    {
      "cell_type": "markdown",
      "metadata": {
        "id": "_MSe_Cac4pUu"
      },
      "source": [
        "##### 2.1.8 Convertendo lista para string"
      ]
    },
    {
      "cell_type": "code",
      "metadata": {
        "ExecuteTime": {
          "end_time": "2021-08-27T13:30:41.450232Z",
          "start_time": "2021-08-27T13:30:41.434233Z"
        },
        "id": "F3JmNzt04pUu"
      },
      "source": [
        "minha_lista = ['1', '2', '3', '4', '5']"
      ],
      "execution_count": 37,
      "outputs": []
    },
    {
      "cell_type": "code",
      "metadata": {
        "ExecuteTime": {
          "end_time": "2021-08-27T13:30:41.731230Z",
          "start_time": "2021-08-27T13:30:41.727231Z"
        },
        "id": "997A-K2_4pUu",
        "colab": {
          "base_uri": "https://localhost:8080/",
          "height": 36
        },
        "outputId": "c67a6040-dee0-499a-bc4a-82973ca9a149"
      },
      "source": [
        "''.join(minha_lista)"
      ],
      "execution_count": 38,
      "outputs": [
        {
          "output_type": "execute_result",
          "data": {
            "application/vnd.google.colaboratory.intrinsic+json": {
              "type": "string"
            },
            "text/plain": [
              "'12345'"
            ]
          },
          "metadata": {},
          "execution_count": 38
        }
      ]
    },
    {
      "cell_type": "code",
      "metadata": {
        "id": "yJExwZyp4pUu"
      },
      "source": [
        ""
      ],
      "execution_count": null,
      "outputs": []
    },
    {
      "cell_type": "markdown",
      "metadata": {
        "id": "aLXL57EE4pUu"
      },
      "source": [
        "## Agora é sua vez!"
      ]
    },
    {
      "cell_type": "markdown",
      "metadata": {
        "id": "qgvKfdbe4pUv"
      },
      "source": [
        "**1) Crie uma lista \"familia\" com o nome dos membros da sua família (pais, filhos, avôs e irmãos)**"
      ]
    },
    {
      "cell_type": "code",
      "metadata": {
        "id": "p-cmafHL4pUv"
      },
      "source": [
        "familia = ['pai', 'mãe', 'filho', 'filha', 'avô', 'avó', 'irmãos']"
      ],
      "execution_count": 46,
      "outputs": []
    },
    {
      "cell_type": "markdown",
      "metadata": {
        "id": "NVvO6Q2C4pUv"
      },
      "source": [
        "**2) Adicione nesta lista os nomes dos seus animais de estimação que você já teve ou tem**"
      ]
    },
    {
      "cell_type": "code",
      "metadata": {
        "id": "9Csaf1r24pUv"
      },
      "source": [
        "familia.extend(['peixe', 'coelho'])"
      ],
      "execution_count": 47,
      "outputs": []
    },
    {
      "cell_type": "code",
      "metadata": {
        "colab": {
          "base_uri": "https://localhost:8080/"
        },
        "id": "VNF1fHD96eLQ",
        "outputId": "8d7dd612-ae8f-49a9-beca-29b8c0555f6e"
      },
      "source": [
        "familia"
      ],
      "execution_count": 48,
      "outputs": [
        {
          "output_type": "execute_result",
          "data": {
            "text/plain": [
              "['pai', 'mãe', 'filho', 'filha', 'avô', 'avó', 'irmãos', 'peixe', 'coelho']"
            ]
          },
          "metadata": {},
          "execution_count": 48
        }
      ]
    },
    {
      "cell_type": "markdown",
      "metadata": {
        "id": "UEFNS8Js4pUw"
      },
      "source": [
        "**3) Remova os animais de estimação que você não tem mais**"
      ]
    },
    {
      "cell_type": "code",
      "metadata": {
        "id": "IreBONYe4pUw"
      },
      "source": [
        "familia.remove('peixe')\n",
        "familia.remove('coelho')"
      ],
      "execution_count": 49,
      "outputs": []
    },
    {
      "cell_type": "markdown",
      "metadata": {
        "id": "Kt9mGK5r4pUw"
      },
      "source": [
        "**4) Crie uma nova lista com nome Amigos e adicione seus principais amigos nesta lista**"
      ]
    },
    {
      "cell_type": "code",
      "metadata": {
        "id": "3cuHg2Uo4pUw"
      },
      "source": [
        "amigos = ['amigo','amiga','amigos','amigas']"
      ],
      "execution_count": 50,
      "outputs": []
    },
    {
      "cell_type": "markdown",
      "metadata": {
        "id": "Lo14riJP4pUw"
      },
      "source": [
        "**5) Concatene as listas Familia e Amigos em uma nova lista chamada Networking**"
      ]
    },
    {
      "cell_type": "code",
      "metadata": {
        "id": "xzy0IGE54pUx"
      },
      "source": [
        "networking = familia + amigos"
      ],
      "execution_count": 51,
      "outputs": []
    },
    {
      "cell_type": "markdown",
      "metadata": {
        "id": "OVxSHQrI4pUx"
      },
      "source": [
        "**6) Delete as listas Familia e Amigos**"
      ]
    },
    {
      "cell_type": "code",
      "metadata": {
        "id": "lNOApl954pUx"
      },
      "source": [
        "del familia\n",
        "del amigos"
      ],
      "execution_count": 52,
      "outputs": []
    },
    {
      "cell_type": "markdown",
      "metadata": {
        "id": "MZeuQffM4pUx"
      },
      "source": [
        "**8) Ordene a lista Networking por ordem alfabetica a-z**"
      ]
    },
    {
      "cell_type": "code",
      "metadata": {
        "id": "0TyB8KfE4pUx"
      },
      "source": [
        "networking.sort(reverse=False)"
      ],
      "execution_count": 53,
      "outputs": []
    },
    {
      "cell_type": "code",
      "metadata": {
        "colab": {
          "base_uri": "https://localhost:8080/"
        },
        "id": "8nZD4nzi7Giw",
        "outputId": "b7b82e2e-45ca-4d50-8ff0-50acf66a81f2"
      },
      "source": [
        "networking"
      ],
      "execution_count": 54,
      "outputs": [
        {
          "output_type": "execute_result",
          "data": {
            "text/plain": [
              "['amiga',\n",
              " 'amigas',\n",
              " 'amigo',\n",
              " 'amigos',\n",
              " 'avó',\n",
              " 'avô',\n",
              " 'filha',\n",
              " 'filho',\n",
              " 'irmãos',\n",
              " 'mãe',\n",
              " 'pai']"
            ]
          },
          "metadata": {},
          "execution_count": 54
        }
      ]
    },
    {
      "cell_type": "markdown",
      "metadata": {
        "id": "13Y4PATV4pUx"
      },
      "source": [
        "**9) Verifique o tamanho da lista networking**"
      ]
    },
    {
      "cell_type": "code",
      "metadata": {
        "id": "l6ch4l1m4pUx",
        "colab": {
          "base_uri": "https://localhost:8080/"
        },
        "outputId": "c7601554-1302-4461-e687-1790e107dbfc"
      },
      "source": [
        "len(networking)"
      ],
      "execution_count": 55,
      "outputs": [
        {
          "output_type": "execute_result",
          "data": {
            "text/plain": [
              "11"
            ]
          },
          "metadata": {},
          "execution_count": 55
        }
      ]
    },
    {
      "cell_type": "markdown",
      "metadata": {
        "id": "gGsKCtGs4pUy"
      },
      "source": [
        "**10) Converta todos os itens da lista para string usando o separador '|'**"
      ]
    },
    {
      "cell_type": "code",
      "metadata": {
        "id": "ij7j5iF64pUy",
        "colab": {
          "base_uri": "https://localhost:8080/",
          "height": 36
        },
        "outputId": "f8eaf8d7-680f-4a1e-96fa-042f56955adf"
      },
      "source": [
        "'|'.join(networking)"
      ],
      "execution_count": 56,
      "outputs": [
        {
          "output_type": "execute_result",
          "data": {
            "application/vnd.google.colaboratory.intrinsic+json": {
              "type": "string"
            },
            "text/plain": [
              "'amiga|amigas|amigo|amigos|avó|avô|filha|filho|irmãos|mãe|pai'"
            ]
          },
          "metadata": {},
          "execution_count": 56
        }
      ]
    }
  ]
}