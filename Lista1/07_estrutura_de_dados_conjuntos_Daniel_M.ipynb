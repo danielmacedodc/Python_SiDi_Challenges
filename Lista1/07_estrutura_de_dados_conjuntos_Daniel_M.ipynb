{
  "nbformat": 4,
  "nbformat_minor": 0,
  "metadata": {
    "kernelspec": {
      "display_name": "Python 3",
      "language": "python",
      "name": "python3"
    },
    "language_info": {
      "codemirror_mode": {
        "name": "ipython",
        "version": 3
      },
      "file_extension": ".py",
      "mimetype": "text/x-python",
      "name": "python",
      "nbconvert_exporter": "python",
      "pygments_lexer": "ipython3",
      "version": "3.8.11"
    },
    "colab": {
      "name": "07_estrutura_de_dados_conjuntos - Daniel M.ipynb",
      "provenance": [],
      "collapsed_sections": []
    }
  },
  "cells": [
    {
      "cell_type": "markdown",
      "metadata": {
        "id": "Lg68t730Kszx"
      },
      "source": [
        "# Curso de Python Básico\n",
        "\n",
        "Este é um curso básico de python que tem o objetivo de apresentar a linguagem python de uma **maneira rápida e objetiva**. Vamos direto ao ponto nos conceitos básicos da programação e python com muita mão na massa! \n",
        "\n",
        "Neste curso, vamos trabalhar no **modo iterativo** do python. Porém, entenda que você pode trabalhar no modo script com várias linhas de código usando um arquivo no formato .py.\n",
        "\n",
        "Ao final desse Curso, espero que você se aprenda python e se motive cada vez mais em utilizar a linguagem para diversas tarefas e problemas do mundo real.\n",
        "\n",
        "Este notebook vai apenas passar pelos tópicos básicos em ordem:\n",
        "\n",
        "* 2. Estrutura de dados\n",
        "    * 2.4 Sets"
      ]
    },
    {
      "cell_type": "markdown",
      "metadata": {
        "id": "kBI9NWJ6Ksz3"
      },
      "source": [
        "## 2. Estrutura de Dados\n",
        "- Listas\n",
        "- Dicionários\n",
        "- Tuplas\n",
        "- Conjuntos"
      ]
    },
    {
      "cell_type": "markdown",
      "metadata": {
        "id": "x13OMuKNKsz4"
      },
      "source": [
        "#### 2.4 Conjuntos\n",
        "- É uma estrutura de dados utilizada para armazenar valores únicos (distintos)\n",
        "\n",
        "##### 2.4.1 Criando conjuntos"
      ]
    },
    {
      "cell_type": "code",
      "metadata": {
        "ExecuteTime": {
          "end_time": "2021-09-27T17:58:51.052867Z",
          "start_time": "2021-09-27T17:58:51.036800Z"
        },
        "id": "ZP_BEn2hKsz4"
      },
      "source": [
        "lista = [1,2,2,2,2,3,4,5,5,5,5,5,5]\n",
        "conjunto = set(lista)"
      ],
      "execution_count": 1,
      "outputs": []
    },
    {
      "cell_type": "code",
      "metadata": {
        "ExecuteTime": {
          "end_time": "2021-09-27T17:58:57.049579Z",
          "start_time": "2021-09-27T17:58:57.036577Z"
        },
        "id": "lrbPj5joKsz6",
        "colab": {
          "base_uri": "https://localhost:8080/"
        },
        "outputId": "c1712e5a-cc8a-47f2-a343-e0b1050e8632"
      },
      "source": [
        "len(conjunto)"
      ],
      "execution_count": 2,
      "outputs": [
        {
          "output_type": "execute_result",
          "data": {
            "text/plain": [
              "5"
            ]
          },
          "metadata": {},
          "execution_count": 2
        }
      ]
    },
    {
      "cell_type": "code",
      "metadata": {
        "ExecuteTime": {
          "end_time": "2021-09-27T17:59:32.075631Z",
          "start_time": "2021-09-27T17:59:32.068629Z"
        },
        "id": "rVHsaDfEKsz8"
      },
      "source": [
        "# conjunto vazio\n",
        "conjunto = {}"
      ],
      "execution_count": 3,
      "outputs": []
    },
    {
      "cell_type": "code",
      "metadata": {
        "ExecuteTime": {
          "end_time": "2021-09-27T17:59:48.520402Z",
          "start_time": "2021-09-27T17:59:48.516403Z"
        },
        "id": "vIqxUD2VKsz8",
        "colab": {
          "base_uri": "https://localhost:8080/"
        },
        "outputId": "239df80f-d446-437e-fc7d-7e3338e77c0a"
      },
      "source": [
        "# criando a partir de listas\n",
        "lista = [1,2,3,6]\n",
        "set1 = set(lista)\n",
        "set1"
      ],
      "execution_count": 4,
      "outputs": [
        {
          "output_type": "execute_result",
          "data": {
            "text/plain": [
              "{1, 2, 3, 6}"
            ]
          },
          "metadata": {},
          "execution_count": 4
        }
      ]
    },
    {
      "cell_type": "markdown",
      "metadata": {
        "ExecuteTime": {
          "end_time": "2021-08-27T14:04:02.192781Z",
          "start_time": "2021-08-27T14:04:02.175782Z"
        },
        "id": "dtSrbdw_Ksz8"
      },
      "source": [
        "##### 2.4.2 Operações entre conjuntos"
      ]
    },
    {
      "cell_type": "code",
      "metadata": {
        "ExecuteTime": {
          "end_time": "2021-09-27T18:02:19.123286Z",
          "start_time": "2021-09-27T18:02:19.116282Z"
        },
        "id": "JLJ60ZnKKsz9"
      },
      "source": [
        "dic = {'a':1, 'b':2}"
      ],
      "execution_count": 5,
      "outputs": []
    },
    {
      "cell_type": "code",
      "metadata": {
        "ExecuteTime": {
          "end_time": "2021-09-27T18:02:33.806851Z",
          "start_time": "2021-09-27T18:02:33.787850Z"
        },
        "id": "9PH3oAMfKsz9",
        "colab": {
          "base_uri": "https://localhost:8080/"
        },
        "outputId": "7b0e8567-9225-48dc-ddb6-dc460385008d"
      },
      "source": [
        "list(dic.keys())"
      ],
      "execution_count": 6,
      "outputs": [
        {
          "output_type": "execute_result",
          "data": {
            "text/plain": [
              "['a', 'b']"
            ]
          },
          "metadata": {},
          "execution_count": 6
        }
      ]
    },
    {
      "cell_type": "code",
      "metadata": {
        "ExecuteTime": {
          "end_time": "2021-09-27T18:03:01.304767Z",
          "start_time": "2021-09-27T18:03:01.291498Z"
        },
        "id": "GYakK0xmKsz_"
      },
      "source": [
        "set1 = set({1,2,3,4,5,6,7,8,9,10,11,12,13,14,15})\n",
        "set2 = set({2,4,6,8,10,20})"
      ],
      "execution_count": 7,
      "outputs": []
    },
    {
      "cell_type": "code",
      "metadata": {
        "ExecuteTime": {
          "end_time": "2021-09-27T18:05:29.067898Z",
          "start_time": "2021-09-27T18:05:29.050513Z"
        },
        "id": "X-CRO4dqKsz_",
        "colab": {
          "base_uri": "https://localhost:8080/"
        },
        "outputId": "2eb9d258-282b-4374-cda8-41cbb43f72a7"
      },
      "source": [
        "set1.intersection(set2)"
      ],
      "execution_count": 8,
      "outputs": [
        {
          "output_type": "execute_result",
          "data": {
            "text/plain": [
              "{2, 4, 6, 8, 10}"
            ]
          },
          "metadata": {},
          "execution_count": 8
        }
      ]
    },
    {
      "cell_type": "code",
      "metadata": {
        "ExecuteTime": {
          "end_time": "2021-09-27T18:03:01.705988Z",
          "start_time": "2021-09-27T18:03:01.698988Z"
        },
        "id": "LIcFOJ2GKs0A",
        "colab": {
          "base_uri": "https://localhost:8080/"
        },
        "outputId": "36408c22-1e29-4640-b828-ad42bcc32187"
      },
      "source": [
        "set1.difference(set2)"
      ],
      "execution_count": 9,
      "outputs": [
        {
          "output_type": "execute_result",
          "data": {
            "text/plain": [
              "{1, 3, 5, 7, 9, 11, 12, 13, 14, 15}"
            ]
          },
          "metadata": {},
          "execution_count": 9
        }
      ]
    },
    {
      "cell_type": "code",
      "metadata": {
        "ExecuteTime": {
          "end_time": "2021-09-27T18:03:01.986030Z",
          "start_time": "2021-09-27T18:03:01.979032Z"
        },
        "id": "Rw07trMaKs0A",
        "colab": {
          "base_uri": "https://localhost:8080/"
        },
        "outputId": "b8b7d65a-8555-4cb0-baa5-ff462190e647"
      },
      "source": [
        "set1.union(set2)"
      ],
      "execution_count": 10,
      "outputs": [
        {
          "output_type": "execute_result",
          "data": {
            "text/plain": [
              "{1, 2, 3, 4, 5, 6, 7, 8, 9, 10, 11, 12, 13, 14, 15, 20}"
            ]
          },
          "metadata": {},
          "execution_count": 10
        }
      ]
    },
    {
      "cell_type": "markdown",
      "metadata": {
        "id": "N1APeskqKs0B"
      },
      "source": [
        "##### 2.4.2 Removendo elemento em conjuntos"
      ]
    },
    {
      "cell_type": "code",
      "metadata": {
        "ExecuteTime": {
          "end_time": "2021-09-27T18:06:42.556407Z",
          "start_time": "2021-09-27T18:06:42.546407Z"
        },
        "id": "BFuigjUTKs0B",
        "colab": {
          "base_uri": "https://localhost:8080/"
        },
        "outputId": "8ee8ce39-8f9a-4cd9-9fc1-af8d3b0a244a"
      },
      "source": [
        "set1"
      ],
      "execution_count": 11,
      "outputs": [
        {
          "output_type": "execute_result",
          "data": {
            "text/plain": [
              "{1, 2, 3, 4, 5, 6, 7, 8, 9, 10, 11, 12, 13, 14, 15}"
            ]
          },
          "metadata": {},
          "execution_count": 11
        }
      ]
    },
    {
      "cell_type": "code",
      "metadata": {
        "ExecuteTime": {
          "end_time": "2021-09-27T18:06:44.696660Z",
          "start_time": "2021-09-27T18:06:44.682661Z"
        },
        "id": "s_DxfnzCKs0B"
      },
      "source": [
        "set1.remove(2)"
      ],
      "execution_count": 12,
      "outputs": []
    },
    {
      "cell_type": "code",
      "metadata": {
        "ExecuteTime": {
          "end_time": "2021-08-27T14:07:12.815594Z",
          "start_time": "2021-08-27T14:07:12.807591Z"
        },
        "id": "0U0l-LkhKs0B"
      },
      "source": [
        "# remove o elemento se ele existe e não faz nada caso contrário\n",
        "set1.discard(1)"
      ],
      "execution_count": 13,
      "outputs": []
    },
    {
      "cell_type": "code",
      "metadata": {
        "ExecuteTime": {
          "end_time": "2021-08-27T14:07:23.820202Z",
          "start_time": "2021-08-27T14:07:23.808202Z"
        },
        "id": "12ZjyNmtKs0B"
      },
      "source": [
        "set1.clear()"
      ],
      "execution_count": 14,
      "outputs": []
    },
    {
      "cell_type": "code",
      "metadata": {
        "ExecuteTime": {
          "end_time": "2021-08-27T14:07:26.467490Z",
          "start_time": "2021-08-27T14:07:26.455491Z"
        },
        "id": "9OHLwjEgKs0C",
        "colab": {
          "base_uri": "https://localhost:8080/"
        },
        "outputId": "e603665f-3079-4e0c-fce8-6a1d7fa70044"
      },
      "source": [
        "set1"
      ],
      "execution_count": 15,
      "outputs": [
        {
          "output_type": "execute_result",
          "data": {
            "text/plain": [
              "set()"
            ]
          },
          "metadata": {},
          "execution_count": 15
        }
      ]
    },
    {
      "cell_type": "markdown",
      "metadata": {
        "id": "cyqv5YkAKs0C"
      },
      "source": [
        "## Agora é sua vez"
      ]
    },
    {
      "cell_type": "markdown",
      "metadata": {
        "id": "i-Vzvo8YKs0C"
      },
      "source": [
        "**1) Crie um conjunto dos números inteiores até o número 10**"
      ]
    },
    {
      "cell_type": "code",
      "metadata": {
        "id": "61EKL0MzKs0C"
      },
      "source": [
        "inteiros = {1,2,3,4,5,6,7,8,9,10}"
      ],
      "execution_count": 16,
      "outputs": []
    },
    {
      "cell_type": "markdown",
      "metadata": {
        "id": "841FSUfIKs0D"
      },
      "source": [
        "**2) Crie um novo conjunto para osnúmeros inteiros pares até o número 10 (2, 4, 6, 8, 10)**"
      ]
    },
    {
      "cell_type": "code",
      "metadata": {
        "id": "1upY9EtxKs0E"
      },
      "source": [
        "pares = {2,4,6,8,10}"
      ],
      "execution_count": 17,
      "outputs": []
    },
    {
      "cell_type": "markdown",
      "metadata": {
        "id": "lbH5sJsqKs0E"
      },
      "source": [
        "**3) Mostre o resultado da intersseessão, união e diferença entre os dois conjuntos**"
      ]
    },
    {
      "cell_type": "code",
      "metadata": {
        "id": "43IN6mpUKs0E",
        "colab": {
          "base_uri": "https://localhost:8080/"
        },
        "outputId": "bdbf13ef-c21f-4aa9-bcbe-33094dc5928b"
      },
      "source": [
        "inteiros.intersection(pares)"
      ],
      "execution_count": 18,
      "outputs": [
        {
          "output_type": "execute_result",
          "data": {
            "text/plain": [
              "{2, 4, 6, 8, 10}"
            ]
          },
          "metadata": {},
          "execution_count": 18
        }
      ]
    },
    {
      "cell_type": "code",
      "metadata": {
        "colab": {
          "base_uri": "https://localhost:8080/"
        },
        "id": "6O6dPP6FLPCj",
        "outputId": "04db0d9c-e498-4b03-99ed-13e23de9a667"
      },
      "source": [
        "inteiros.union(pares)"
      ],
      "execution_count": 19,
      "outputs": [
        {
          "output_type": "execute_result",
          "data": {
            "text/plain": [
              "{1, 2, 3, 4, 5, 6, 7, 8, 9, 10}"
            ]
          },
          "metadata": {},
          "execution_count": 19
        }
      ]
    },
    {
      "cell_type": "code",
      "metadata": {
        "colab": {
          "base_uri": "https://localhost:8080/"
        },
        "id": "9d6SmUimLhiB",
        "outputId": "50a3c5b7-4986-459e-cf6c-d0b50bda4082"
      },
      "source": [
        "inteiros.difference(pares)"
      ],
      "execution_count": 20,
      "outputs": [
        {
          "output_type": "execute_result",
          "data": {
            "text/plain": [
              "{1, 3, 5, 7, 9}"
            ]
          },
          "metadata": {},
          "execution_count": 20
        }
      ]
    }
  ]
}