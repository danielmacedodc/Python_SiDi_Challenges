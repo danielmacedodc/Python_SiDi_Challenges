{
  "nbformat": 4,
  "nbformat_minor": 0,
  "metadata": {
    "kernelspec": {
      "display_name": "Python 3",
      "language": "python",
      "name": "python3"
    },
    "language_info": {
      "codemirror_mode": {
        "name": "ipython",
        "version": 3
      },
      "file_extension": ".py",
      "mimetype": "text/x-python",
      "name": "python",
      "nbconvert_exporter": "python",
      "pygments_lexer": "ipython3",
      "version": "3.8.11"
    },
    "colab": {
      "name": "06_estrutura_de_dados_tuplas - Daniel M.ipynb",
      "provenance": [],
      "collapsed_sections": []
    }
  },
  "cells": [
    {
      "cell_type": "markdown",
      "metadata": {
        "id": "3Iy7F_1ZCkDU"
      },
      "source": [
        "# Curso de Python Básico\n",
        "\n",
        "Este é um curso básico de python que tem o objetivo de apresentar a linguagem python de uma **maneira rápida e objetiva**. Vamos direto ao ponto nos conceitos básicos da programação e python com muita mão na massa! \n",
        "\n",
        "Neste curso, vamos trabalhar no **modo iterativo** do python. Porém, entenda que você pode trabalhar no modo script com várias linhas de código usando um arquivo no formato .py.\n",
        "\n",
        "Ao final desse Curso, espero que você se aprenda python e se motive cada vez mais em utilizar a linguagem para diversas tarefas e problemas do mundo real.\n",
        "\n",
        "Este notebook vai apenas passar pelos tópicos básicos em ordem:\n",
        "\n",
        "* 2. Estrutura de dados\n",
        "    * 2.3 Tuplas"
      ]
    },
    {
      "cell_type": "markdown",
      "metadata": {
        "id": "sEBFwSZPCkDZ"
      },
      "source": [
        "## 2. Estrutura de Dados\n",
        "- Listas\n",
        "- Dicionários\n",
        "- Tuplas\n",
        "- Conjuntos"
      ]
    },
    {
      "cell_type": "markdown",
      "metadata": {
        "id": "QIhlwD5TCkDa"
      },
      "source": [
        "#### 2.3 Tuplas\n",
        "- É uma lista imútavel, ou seja, você define uma vez e não pode ordenar, adicionar ou remover elementos da estrutura"
      ]
    },
    {
      "cell_type": "code",
      "metadata": {
        "ExecuteTime": {
          "end_time": "2021-09-27T17:53:09.340167Z",
          "start_time": "2021-09-27T17:53:09.327165Z"
        },
        "id": "HoH4CPczCkDa"
      },
      "source": [
        "dias_da_semana = (\"domingo\", \"segunda\", \"terça\", \"quarta\", \"quinta\", \"sexta\", \"sábado\")"
      ],
      "execution_count": 1,
      "outputs": []
    },
    {
      "cell_type": "code",
      "metadata": {
        "ExecuteTime": {
          "end_time": "2021-09-27T17:53:27.525038Z",
          "start_time": "2021-09-27T17:53:27.412871Z"
        },
        "scrolled": true,
        "id": "_BgRWNp3CkDc",
        "colab": {
          "base_uri": "https://localhost:8080/",
          "height": 172
        },
        "outputId": "344c379d-edbf-4125-9bdb-c89b00fc95e7"
      },
      "source": [
        "dias_da_semana[2] = 'terça-feira'"
      ],
      "execution_count": 2,
      "outputs": [
        {
          "output_type": "error",
          "ename": "TypeError",
          "evalue": "ignored",
          "traceback": [
            "\u001b[0;31m---------------------------------------------------------------------------\u001b[0m",
            "\u001b[0;31mTypeError\u001b[0m                                 Traceback (most recent call last)",
            "\u001b[0;32m<ipython-input-2-c8e376daf246>\u001b[0m in \u001b[0;36m<module>\u001b[0;34m()\u001b[0m\n\u001b[0;32m----> 1\u001b[0;31m \u001b[0mdias_da_semana\u001b[0m\u001b[0;34m[\u001b[0m\u001b[0;36m2\u001b[0m\u001b[0;34m]\u001b[0m \u001b[0;34m=\u001b[0m \u001b[0;34m'terça-feira'\u001b[0m\u001b[0;34m\u001b[0m\u001b[0;34m\u001b[0m\u001b[0m\n\u001b[0m",
            "\u001b[0;31mTypeError\u001b[0m: 'tuple' object does not support item assignment"
          ]
        }
      ]
    },
    {
      "cell_type": "code",
      "metadata": {
        "ExecuteTime": {
          "end_time": "2021-09-27T17:53:52.551722Z",
          "start_time": "2021-09-27T17:53:52.534723Z"
        },
        "id": "r7ymVb50CkDd",
        "colab": {
          "base_uri": "https://localhost:8080/",
          "height": 191
        },
        "outputId": "8c2091bb-8c26-4ae8-ff08-2e9a93ae97fe"
      },
      "source": [
        "# uma tupla é constante e não permite atualizações de valores.\n",
        "dias_da_semana.sort()"
      ],
      "execution_count": 3,
      "outputs": [
        {
          "output_type": "error",
          "ename": "AttributeError",
          "evalue": "ignored",
          "traceback": [
            "\u001b[0;31m---------------------------------------------------------------------------\u001b[0m",
            "\u001b[0;31mAttributeError\u001b[0m                            Traceback (most recent call last)",
            "\u001b[0;32m<ipython-input-3-17688126ac8b>\u001b[0m in \u001b[0;36m<module>\u001b[0;34m()\u001b[0m\n\u001b[1;32m      1\u001b[0m \u001b[0;31m# uma tupla é constante e não permite atualizações de valores.\u001b[0m\u001b[0;34m\u001b[0m\u001b[0;34m\u001b[0m\u001b[0;34m\u001b[0m\u001b[0m\n\u001b[0;32m----> 2\u001b[0;31m \u001b[0mdias_da_semana\u001b[0m\u001b[0;34m.\u001b[0m\u001b[0msort\u001b[0m\u001b[0;34m(\u001b[0m\u001b[0;34m)\u001b[0m\u001b[0;34m\u001b[0m\u001b[0;34m\u001b[0m\u001b[0m\n\u001b[0m",
            "\u001b[0;31mAttributeError\u001b[0m: 'tuple' object has no attribute 'sort'"
          ]
        }
      ]
    },
    {
      "cell_type": "code",
      "metadata": {
        "ExecuteTime": {
          "end_time": "2021-08-27T13:54:03.959003Z",
          "start_time": "2021-08-27T13:54:03.955002Z"
        },
        "id": "p5biM8qlCkDe"
      },
      "source": [
        "tupla = 1,2,3"
      ],
      "execution_count": 4,
      "outputs": []
    },
    {
      "cell_type": "code",
      "metadata": {
        "ExecuteTime": {
          "end_time": "2021-08-27T13:54:13.468165Z",
          "start_time": "2021-08-27T13:54:13.458166Z"
        },
        "id": "KBI0QuDGCkDf",
        "colab": {
          "base_uri": "https://localhost:8080/"
        },
        "outputId": "4a984ae2-4ff6-43f2-96aa-46f618fdb8f0"
      },
      "source": [
        "type(tupla)"
      ],
      "execution_count": 5,
      "outputs": [
        {
          "output_type": "execute_result",
          "data": {
            "text/plain": [
              "tuple"
            ]
          },
          "metadata": {},
          "execution_count": 5
        }
      ]
    },
    {
      "cell_type": "code",
      "metadata": {
        "ExecuteTime": {
          "end_time": "2021-08-27T13:54:54.639966Z",
          "start_time": "2021-08-27T13:54:54.633966Z"
        },
        "id": "MD6RFCnhCkDf",
        "colab": {
          "base_uri": "https://localhost:8080/"
        },
        "outputId": "7c870bd3-cfad-4806-cc67-9e7c0342a4bf"
      },
      "source": [
        "dias_da_semana.count('quinta')"
      ],
      "execution_count": 6,
      "outputs": [
        {
          "output_type": "execute_result",
          "data": {
            "text/plain": [
              "1"
            ]
          },
          "metadata": {},
          "execution_count": 6
        }
      ]
    },
    {
      "cell_type": "code",
      "metadata": {
        "id": "-EAy_OelCkDg"
      },
      "source": [
        ""
      ],
      "execution_count": null,
      "outputs": []
    },
    {
      "cell_type": "markdown",
      "metadata": {
        "id": "KvpsLSaWCkDg"
      },
      "source": [
        "## Agora é sua vez"
      ]
    },
    {
      "cell_type": "markdown",
      "metadata": {
        "id": "OE7v7IoICkDh"
      },
      "source": [
        "**1) Crie uma tupla três diferentes nomes**"
      ]
    },
    {
      "cell_type": "code",
      "metadata": {
        "id": "3BpZwRayCkDh"
      },
      "source": [
        "nomes = 'joao', 'maria', 'jose'"
      ],
      "execution_count": 8,
      "outputs": []
    },
    {
      "cell_type": "code",
      "metadata": {
        "colab": {
          "base_uri": "https://localhost:8080/"
        },
        "id": "pfdHgosnD4Q7",
        "outputId": "53631a6e-f7d0-4926-b192-32d6cf625ba1"
      },
      "source": [
        "nomes"
      ],
      "execution_count": 9,
      "outputs": [
        {
          "output_type": "execute_result",
          "data": {
            "text/plain": [
              "('joao', 'maria', 'jose')"
            ]
          },
          "metadata": {},
          "execution_count": 9
        }
      ]
    },
    {
      "cell_type": "markdown",
      "metadata": {
        "id": "toDgnLS5CkDi"
      },
      "source": [
        "**2) Modifique o valor o último elemento dessa tupla para zero**"
      ]
    },
    {
      "cell_type": "code",
      "metadata": {
        "id": "oglhkM4fCkDi"
      },
      "source": [
        "#só se renomear\n",
        "\n",
        "nomes = 'joao', 'maria', 0"
      ],
      "execution_count": 10,
      "outputs": []
    },
    {
      "cell_type": "code",
      "metadata": {
        "colab": {
          "base_uri": "https://localhost:8080/"
        },
        "id": "j4KL2pC8EHvC",
        "outputId": "367baac0-b41c-44d7-dbe9-a28b23cec6e8"
      },
      "source": [
        "nomes"
      ],
      "execution_count": 11,
      "outputs": [
        {
          "output_type": "execute_result",
          "data": {
            "text/plain": [
              "('joao', 'maria', 0)"
            ]
          },
          "metadata": {},
          "execution_count": 11
        }
      ]
    }
  ]
}