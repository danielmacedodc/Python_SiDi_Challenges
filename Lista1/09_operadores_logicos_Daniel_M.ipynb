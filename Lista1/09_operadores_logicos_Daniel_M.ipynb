{
  "nbformat": 4,
  "nbformat_minor": 0,
  "metadata": {
    "kernelspec": {
      "display_name": "Python 3",
      "language": "python",
      "name": "python3"
    },
    "language_info": {
      "codemirror_mode": {
        "name": "ipython",
        "version": 3
      },
      "file_extension": ".py",
      "mimetype": "text/x-python",
      "name": "python",
      "nbconvert_exporter": "python",
      "pygments_lexer": "ipython3",
      "version": "3.8.11"
    },
    "colab": {
      "name": "09_operadores_logicos - Daniel M.ipynb",
      "provenance": [],
      "collapsed_sections": []
    }
  },
  "cells": [
    {
      "cell_type": "markdown",
      "metadata": {
        "id": "9OhoIhPVNK8O"
      },
      "source": [
        "# Curso de Python Básico\n",
        "\n",
        "Este é um curso básico de python que tem o objetivo de apresentar a linguagem python de uma **maneira rápida e objetiva**. Vamos direto ao ponto nos conceitos básicos da programação e python com muita mão na massa! \n",
        "\n",
        "Neste curso, vamos trabalhar no **modo iterativo** do python. Porém, entenda que você pode trabalhar no modo script com várias linhas de código usando um arquivo no formato .py.\n",
        "\n",
        "Ao final desse Curso, espero que você se aprenda python e se motive cada vez mais em utilizar a linguagem para diversas tarefas e problemas do mundo real.\n",
        "\n",
        "Este notebook vai apenas passar pelos tópicos básicos em ordem:\n",
        "\n",
        "* 4. Operadores Lógicos\n",
        "    * 4.1 and\n",
        "    * 4.2 or"
      ]
    },
    {
      "cell_type": "markdown",
      "metadata": {
        "id": "N8E5WM7hNK8T"
      },
      "source": [
        "## 4. Operadores lógicos\n",
        "##### 4.1 and"
      ]
    },
    {
      "cell_type": "code",
      "metadata": {
        "ExecuteTime": {
          "end_time": "2021-09-27T18:54:22.186618Z",
          "start_time": "2021-09-27T18:54:22.174629Z"
        },
        "id": "pbKsokWkNK8V",
        "colab": {
          "base_uri": "https://localhost:8080/"
        },
        "outputId": "682af1c4-8625-4701-f15f-349b2e806b61"
      },
      "source": [
        "(1 > 2) and (2 < 3)"
      ],
      "execution_count": 1,
      "outputs": [
        {
          "output_type": "execute_result",
          "data": {
            "text/plain": [
              "False"
            ]
          },
          "metadata": {},
          "execution_count": 1
        }
      ]
    },
    {
      "cell_type": "markdown",
      "metadata": {
        "id": "hecFrMruNK8X"
      },
      "source": [
        "##### 4.2 or"
      ]
    },
    {
      "cell_type": "code",
      "metadata": {
        "ExecuteTime": {
          "end_time": "2021-09-27T18:54:24.175540Z",
          "start_time": "2021-09-27T18:54:24.158532Z"
        },
        "id": "N33V5rEKNK8X",
        "colab": {
          "base_uri": "https://localhost:8080/"
        },
        "outputId": "e85ce1d5-1530-4bb5-9931-7c1b7fe89e8d"
      },
      "source": [
        "(1 > 2) or (2 < 3)"
      ],
      "execution_count": 2,
      "outputs": [
        {
          "output_type": "execute_result",
          "data": {
            "text/plain": [
              "True"
            ]
          },
          "metadata": {},
          "execution_count": 2
        }
      ]
    },
    {
      "cell_type": "code",
      "metadata": {
        "id": "R6FXBFOvNK8Y",
        "colab": {
          "base_uri": "https://localhost:8080/"
        },
        "outputId": "c709c59b-a1fd-485c-f80b-a8dc921e9eea"
      },
      "source": [
        "(1 == 2) or (2 == 3) and (3==3)"
      ],
      "execution_count": 4,
      "outputs": [
        {
          "output_type": "execute_result",
          "data": {
            "text/plain": [
              "False"
            ]
          },
          "metadata": {},
          "execution_count": 4
        }
      ]
    },
    {
      "cell_type": "markdown",
      "metadata": {
        "id": "dasHGXJxNK8Z"
      },
      "source": [
        "## Agora é sua vez"
      ]
    },
    {
      "cell_type": "markdown",
      "metadata": {
        "ExecuteTime": {
          "end_time": "2021-09-27T18:55:22.735486Z",
          "start_time": "2021-09-27T18:55:22.720506Z"
        },
        "id": "jIXubhyXNK8a"
      },
      "source": [
        "**1) qual o retorno da operação: 5 é maior do que 2, 2 é menor do que 3 e 4 é menor do que 12?**"
      ]
    },
    {
      "cell_type": "code",
      "metadata": {
        "ExecuteTime": {
          "end_time": "2021-09-27T18:56:58.985977Z",
          "start_time": "2021-09-27T18:56:58.974976Z"
        },
        "id": "WZ5oOW-cNK8a",
        "colab": {
          "base_uri": "https://localhost:8080/"
        },
        "outputId": "5ff55374-934c-43a2-ada6-21d4fa72628a"
      },
      "source": [
        "(5 > 2) and (2 < 3) and (4 < 12)"
      ],
      "execution_count": 5,
      "outputs": [
        {
          "output_type": "execute_result",
          "data": {
            "text/plain": [
              "True"
            ]
          },
          "metadata": {},
          "execution_count": 5
        }
      ]
    },
    {
      "cell_type": "markdown",
      "metadata": {
        "ExecuteTime": {
          "end_time": "2021-09-27T18:56:43.159237Z",
          "start_time": "2021-09-27T18:56:43.145235Z"
        },
        "id": "a73BKVSSNK8b"
      },
      "source": [
        "**2) O que acontece se trocarmos o último and por \"or\". Verifique e explique se o resultado da expressão muda**"
      ]
    },
    {
      "cell_type": "code",
      "metadata": {
        "ExecuteTime": {
          "end_time": "2021-09-27T18:57:03.024264Z",
          "start_time": "2021-09-27T18:57:03.015263Z"
        },
        "id": "3uIhsTYPNK8b",
        "colab": {
          "base_uri": "https://localhost:8080/"
        },
        "outputId": "e494af64-f6d7-4e3c-fd2d-5fae8a73db09"
      },
      "source": [
        "(5 > 2) and (2 < 3) or (4 < 12)"
      ],
      "execution_count": 6,
      "outputs": [
        {
          "output_type": "execute_result",
          "data": {
            "text/plain": [
              "True"
            ]
          },
          "metadata": {},
          "execution_count": 6
        }
      ]
    },
    {
      "cell_type": "code",
      "metadata": {
        "id": "WyTh0dISNK8c"
      },
      "source": [
        ""
      ],
      "execution_count": null,
      "outputs": []
    }
  ]
}