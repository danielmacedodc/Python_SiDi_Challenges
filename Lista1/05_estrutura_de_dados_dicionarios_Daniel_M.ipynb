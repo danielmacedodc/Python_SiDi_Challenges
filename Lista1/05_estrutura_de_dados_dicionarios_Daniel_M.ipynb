{
  "nbformat": 4,
  "nbformat_minor": 0,
  "metadata": {
    "kernelspec": {
      "display_name": "Python 3",
      "language": "python",
      "name": "python3"
    },
    "language_info": {
      "codemirror_mode": {
        "name": "ipython",
        "version": 3
      },
      "file_extension": ".py",
      "mimetype": "text/x-python",
      "name": "python",
      "nbconvert_exporter": "python",
      "pygments_lexer": "ipython3",
      "version": "3.8.11"
    },
    "colab": {
      "name": "05_estrutura_de_dados_dicionarios - Daniel M.ipynb",
      "provenance": [],
      "collapsed_sections": []
    }
  },
  "cells": [
    {
      "cell_type": "markdown",
      "metadata": {
        "id": "GfZEWZrz7mQO"
      },
      "source": [
        "# Curso de Python Básico\n",
        "\n",
        "Este é um curso básico de python que tem o objetivo de apresentar a linguagem python de uma **maneira rápida e objetiva**. Vamos direto ao ponto nos conceitos básicos da programação e python com muita mão na massa! \n",
        "\n",
        "Neste curso, vamos trabalhar no **modo iterativo** do python. Porém, entenda que você pode trabalhar no modo script com várias linhas de código usando um arquivo no formato .py.\n",
        "\n",
        "Ao final desse Curso, espero que você se aprenda python e se motive cada vez mais em utilizar a linguagem para diversas tarefas e problemas do mundo real.\n",
        "\n",
        "Este notebook vai apenas passar pelos tópicos básicos em ordem:\n",
        "\n",
        "* 2. Estrutura de dados\n",
        "    * 2.2 Dicionários"
      ]
    },
    {
      "cell_type": "markdown",
      "metadata": {
        "id": "DGjYHk3h7mQT"
      },
      "source": [
        "## 2. Estrutura de Dados\n",
        "- Listas\n",
        "- Dicionários\n",
        "- Tuplas\n",
        "- Conjuntos"
      ]
    },
    {
      "cell_type": "markdown",
      "metadata": {
        "id": "BKhCkf9j7mQV"
      },
      "source": [
        "#### 2.2 Dicionários\n",
        "Estrutura de dados utilizada para armazenar dados no formato de **chave-valor**. A chave é o campo utilizado para tipo imutável e o valor é um objeto de dados do python\n",
        "\n",
        "##### 2.2.1 Definição de Dicionários"
      ]
    },
    {
      "cell_type": "code",
      "metadata": {
        "ExecuteTime": {
          "end_time": "2021-09-27T17:27:54.706474Z",
          "start_time": "2021-09-27T17:27:54.693968Z"
        },
        "id": "0D_OfHH27mQW"
      },
      "source": [
        "d = {'chave1':'item1',\n",
        "     'chave2':'item2'}"
      ],
      "execution_count": null,
      "outputs": []
    },
    {
      "cell_type": "code",
      "metadata": {
        "ExecuteTime": {
          "end_time": "2021-09-27T17:39:48.636340Z",
          "start_time": "2021-09-27T17:39:48.625339Z"
        },
        "id": "H3gVPzEv7mQX"
      },
      "source": [
        "json = {'Nome':'Nicksson',\n",
        "       'Idade': 50,\n",
        "       'profissão':'Motorista',\n",
        "       'telefone': ['tel1', 'tel2', 'tel3']}"
      ],
      "execution_count": 2,
      "outputs": []
    },
    {
      "cell_type": "code",
      "metadata": {
        "ExecuteTime": {
          "end_time": "2021-09-27T17:40:43.334056Z",
          "start_time": "2021-09-27T17:40:43.321036Z"
        },
        "id": "FLo9agj87mQY",
        "outputId": "d78d0eca-d4af-4efd-fe97-a6fb0962f0cd"
      },
      "source": [
        "#Retorna um novo dicionário cujas chaves são os elementos de lista e cujos valores são todos iguais a valor\n",
        "dict.fromkeys([\"Joao\",\"Maria\",\"José\"],[1,2,3])"
      ],
      "execution_count": null,
      "outputs": [
        {
          "data": {
            "text/plain": [
              "{'Joao': [1, 2, 3], 'Maria': [1, 2, 3], 'José': [1, 2, 3]}"
            ]
          },
          "execution_count": 30,
          "metadata": {},
          "output_type": "execute_result"
        }
      ]
    },
    {
      "cell_type": "markdown",
      "metadata": {
        "ExecuteTime": {
          "end_time": "2021-08-27T13:17:12.460923Z",
          "start_time": "2021-08-27T13:17:12.451926Z"
        },
        "id": "nxwSoOYi7mQZ"
      },
      "source": [
        "##### 2.2.2 Adicionando elementos em Dicionários"
      ]
    },
    {
      "cell_type": "code",
      "metadata": {
        "ExecuteTime": {
          "end_time": "2021-09-27T17:45:23.727344Z",
          "start_time": "2021-09-27T17:45:23.712343Z"
        },
        "id": "BbbHBEjr7mQa",
        "colab": {
          "base_uri": "https://localhost:8080/"
        },
        "outputId": "175cb786-1a5d-4ab2-bfae-61c4727ac694"
      },
      "source": [
        "json"
      ],
      "execution_count": 3,
      "outputs": [
        {
          "output_type": "execute_result",
          "data": {
            "text/plain": [
              "{'Idade': 50,\n",
              " 'Nome': 'Nicksson',\n",
              " 'profissão': 'Motorista',\n",
              " 'telefone': ['tel1', 'tel2', 'tel3']}"
            ]
          },
          "metadata": {},
          "execution_count": 3
        }
      ]
    },
    {
      "cell_type": "code",
      "metadata": {
        "ExecuteTime": {
          "end_time": "2021-09-27T17:44:55.837552Z",
          "start_time": "2021-09-27T17:44:55.823455Z"
        },
        "id": "KEptM4t47mQb"
      },
      "source": [
        "json['Idade'] = 50"
      ],
      "execution_count": 4,
      "outputs": []
    },
    {
      "cell_type": "code",
      "metadata": {
        "ExecuteTime": {
          "end_time": "2021-09-27T17:41:32.578326Z",
          "start_time": "2021-09-27T17:41:32.561749Z"
        },
        "id": "IxLpM6s-7mQb"
      },
      "source": [
        "json['estado civil'] = 'casado'"
      ],
      "execution_count": 5,
      "outputs": []
    },
    {
      "cell_type": "code",
      "metadata": {
        "ExecuteTime": {
          "end_time": "2021-09-27T17:42:12.663835Z",
          "start_time": "2021-09-27T17:42:12.649279Z"
        },
        "id": "V1seOeI17mQc"
      },
      "source": [
        "json['profissão'] = 'Cientista de Dados'"
      ],
      "execution_count": 6,
      "outputs": []
    },
    {
      "cell_type": "code",
      "metadata": {
        "ExecuteTime": {
          "end_time": "2021-09-27T17:42:19.586124Z",
          "start_time": "2021-09-27T17:42:19.568638Z"
        },
        "id": "ngw_sQhQ7mQd"
      },
      "source": [
        "json['Endereço'] = 'Rua AAA, n 999'"
      ],
      "execution_count": 7,
      "outputs": []
    },
    {
      "cell_type": "markdown",
      "metadata": {
        "ExecuteTime": {
          "end_time": "2021-08-27T13:33:28.035488Z",
          "start_time": "2021-08-27T13:33:28.022490Z"
        },
        "id": "qRIL-AFv7mQd"
      },
      "source": [
        "##### 2.2.3 Acessando elementos em Dicionários"
      ]
    },
    {
      "cell_type": "code",
      "metadata": {
        "ExecuteTime": {
          "end_time": "2021-09-27T17:46:41.162997Z",
          "start_time": "2021-09-27T17:46:41.143998Z"
        },
        "id": "I1QkmyoN7mQd",
        "colab": {
          "base_uri": "https://localhost:8080/"
        },
        "outputId": "df84fe6c-bf9b-4a70-e439-4dd1e625fef3"
      },
      "source": [
        "json.keys()"
      ],
      "execution_count": 8,
      "outputs": [
        {
          "output_type": "execute_result",
          "data": {
            "text/plain": [
              "dict_keys(['Nome', 'Idade', 'profissão', 'telefone', 'estado civil', 'Endereço'])"
            ]
          },
          "metadata": {},
          "execution_count": 8
        }
      ]
    },
    {
      "cell_type": "code",
      "metadata": {
        "ExecuteTime": {
          "end_time": "2021-09-27T17:46:55.358693Z",
          "start_time": "2021-09-27T17:46:55.343694Z"
        },
        "id": "gAzD_beT7mQe",
        "colab": {
          "base_uri": "https://localhost:8080/"
        },
        "outputId": "64aabc85-53e1-4615-ad8e-b24efdc23409"
      },
      "source": [
        "json.values()"
      ],
      "execution_count": 9,
      "outputs": [
        {
          "output_type": "execute_result",
          "data": {
            "text/plain": [
              "dict_values(['Nicksson', 50, 'Cientista de Dados', ['tel1', 'tel2', 'tel3'], 'casado', 'Rua AAA, n 999'])"
            ]
          },
          "metadata": {},
          "execution_count": 9
        }
      ]
    },
    {
      "cell_type": "code",
      "metadata": {
        "ExecuteTime": {
          "end_time": "2021-09-27T17:47:01.991669Z",
          "start_time": "2021-09-27T17:47:01.977323Z"
        },
        "id": "O6x8v6zi7mQe",
        "colab": {
          "base_uri": "https://localhost:8080/"
        },
        "outputId": "783622d2-3e58-41ac-ed34-e0a89cb65888"
      },
      "source": [
        "json.items()"
      ],
      "execution_count": 10,
      "outputs": [
        {
          "output_type": "execute_result",
          "data": {
            "text/plain": [
              "dict_items([('Nome', 'Nicksson'), ('Idade', 50), ('profissão', 'Cientista de Dados'), ('telefone', ['tel1', 'tel2', 'tel3']), ('estado civil', 'casado'), ('Endereço', 'Rua AAA, n 999')])"
            ]
          },
          "metadata": {},
          "execution_count": 10
        }
      ]
    },
    {
      "cell_type": "markdown",
      "metadata": {
        "ExecuteTime": {
          "end_time": "2021-08-27T13:37:13.141117Z",
          "start_time": "2021-08-27T13:37:13.137120Z"
        },
        "id": "7OhCepUP7mQf"
      },
      "source": [
        "##### 2.2.4 Removendo elementos em Dicionários"
      ]
    },
    {
      "cell_type": "code",
      "metadata": {
        "ExecuteTime": {
          "end_time": "2021-09-27T17:47:48.989342Z",
          "start_time": "2021-09-27T17:47:48.984113Z"
        },
        "id": "7sIxQWa-7mQf",
        "colab": {
          "base_uri": "https://localhost:8080/"
        },
        "outputId": "39bb86f3-a190-4e45-bbd3-4010ed35d841"
      },
      "source": [
        "json"
      ],
      "execution_count": 11,
      "outputs": [
        {
          "output_type": "execute_result",
          "data": {
            "text/plain": [
              "{'Endereço': 'Rua AAA, n 999',\n",
              " 'Idade': 50,\n",
              " 'Nome': 'Nicksson',\n",
              " 'estado civil': 'casado',\n",
              " 'profissão': 'Cientista de Dados',\n",
              " 'telefone': ['tel1', 'tel2', 'tel3']}"
            ]
          },
          "metadata": {},
          "execution_count": 11
        }
      ]
    },
    {
      "cell_type": "code",
      "metadata": {
        "ExecuteTime": {
          "end_time": "2021-09-27T17:47:47.406301Z",
          "start_time": "2021-09-27T17:47:47.399300Z"
        },
        "id": "Fb5z4Izn7mQg",
        "colab": {
          "base_uri": "https://localhost:8080/",
          "height": 36
        },
        "outputId": "8e8ee24a-8ddb-43d1-dbe5-f9c243913cac"
      },
      "source": [
        "json.pop('estado civil')"
      ],
      "execution_count": 13,
      "outputs": [
        {
          "output_type": "execute_result",
          "data": {
            "application/vnd.google.colaboratory.intrinsic+json": {
              "type": "string"
            },
            "text/plain": [
              "'casado'"
            ]
          },
          "metadata": {},
          "execution_count": 13
        }
      ]
    },
    {
      "cell_type": "code",
      "metadata": {
        "ExecuteTime": {
          "end_time": "2021-09-27T17:47:53.905786Z",
          "start_time": "2021-09-27T17:47:53.902787Z"
        },
        "id": "Fgq6B9s67mQg"
      },
      "source": [
        "del json['Idade']"
      ],
      "execution_count": 14,
      "outputs": []
    },
    {
      "cell_type": "code",
      "metadata": {
        "ExecuteTime": {
          "end_time": "2021-09-27T17:47:54.650522Z",
          "start_time": "2021-09-27T17:47:54.639522Z"
        },
        "id": "rc01EgBf7mQg",
        "colab": {
          "base_uri": "https://localhost:8080/"
        },
        "outputId": "1d7d5995-e266-462d-d81b-60336e175acd"
      },
      "source": [
        "json"
      ],
      "execution_count": 15,
      "outputs": [
        {
          "output_type": "execute_result",
          "data": {
            "text/plain": [
              "{'Endereço': 'Rua AAA, n 999',\n",
              " 'Nome': 'Nicksson',\n",
              " 'profissão': 'Cientista de Dados',\n",
              " 'telefone': ['tel1', 'tel2', 'tel3']}"
            ]
          },
          "metadata": {},
          "execution_count": 15
        }
      ]
    },
    {
      "cell_type": "code",
      "metadata": {
        "ExecuteTime": {
          "end_time": "2021-09-27T17:48:07.664697Z",
          "start_time": "2021-09-27T17:48:07.647455Z"
        },
        "id": "wE7sV2RW7mQh",
        "colab": {
          "base_uri": "https://localhost:8080/"
        },
        "outputId": "cdea05fa-44eb-419f-8d65-a407b10aa8f1"
      },
      "source": [
        "json.popitem()"
      ],
      "execution_count": 16,
      "outputs": [
        {
          "output_type": "execute_result",
          "data": {
            "text/plain": [
              "('Endereço', 'Rua AAA, n 999')"
            ]
          },
          "metadata": {},
          "execution_count": 16
        }
      ]
    },
    {
      "cell_type": "code",
      "metadata": {
        "ExecuteTime": {
          "end_time": "2021-09-27T17:48:08.006288Z",
          "start_time": "2021-09-27T17:48:07.999290Z"
        },
        "id": "iA1eenl47mQh",
        "colab": {
          "base_uri": "https://localhost:8080/"
        },
        "outputId": "6f029079-d16a-494b-db33-c6f5676be194"
      },
      "source": [
        "json"
      ],
      "execution_count": 17,
      "outputs": [
        {
          "output_type": "execute_result",
          "data": {
            "text/plain": [
              "{'Nome': 'Nicksson',\n",
              " 'profissão': 'Cientista de Dados',\n",
              " 'telefone': ['tel1', 'tel2', 'tel3']}"
            ]
          },
          "metadata": {},
          "execution_count": 17
        }
      ]
    },
    {
      "cell_type": "code",
      "metadata": {
        "ExecuteTime": {
          "end_time": "2021-09-27T17:48:20.039439Z",
          "start_time": "2021-09-27T17:48:20.031438Z"
        },
        "id": "ouHlfnfK7mQi"
      },
      "source": [
        "json.clear()"
      ],
      "execution_count": 18,
      "outputs": []
    },
    {
      "cell_type": "code",
      "metadata": {
        "ExecuteTime": {
          "end_time": "2021-09-27T17:48:20.256826Z",
          "start_time": "2021-09-27T17:48:20.239318Z"
        },
        "id": "Id9ECYFF7mQi",
        "colab": {
          "base_uri": "https://localhost:8080/"
        },
        "outputId": "e325b62b-9267-4a33-e1d1-e0d85b733851"
      },
      "source": [
        "json"
      ],
      "execution_count": 19,
      "outputs": [
        {
          "output_type": "execute_result",
          "data": {
            "text/plain": [
              "{}"
            ]
          },
          "metadata": {},
          "execution_count": 19
        }
      ]
    },
    {
      "cell_type": "markdown",
      "metadata": {
        "id": "oy7A6Iwf7mQj"
      },
      "source": [
        "##### 2.2.5 Criando dicionário a partir de duas listas"
      ]
    },
    {
      "cell_type": "code",
      "metadata": {
        "ExecuteTime": {
          "end_time": "2021-09-27T17:50:34.754682Z",
          "start_time": "2021-09-27T17:50:34.750670Z"
        },
        "id": "O9Rmdh-_7mQj"
      },
      "source": [
        "lista1 = [1, 2, 3, 4, 5]\n",
        "lista2 = [\"v1\", \"v2\", \"v3\", \"v4\", \"v5\"]"
      ],
      "execution_count": 3,
      "outputs": []
    },
    {
      "cell_type": "code",
      "metadata": {
        "ExecuteTime": {
          "end_time": "2021-09-27T17:50:34.955911Z",
          "start_time": "2021-09-27T17:50:34.949910Z"
        },
        "id": "jN0CXHak7mQj"
      },
      "source": [
        "# A função zip pode ser usada para combitar duas listas facilmente\n",
        "my_dict = dict(zip(lista1, lista2))"
      ],
      "execution_count": 4,
      "outputs": []
    },
    {
      "cell_type": "code",
      "metadata": {
        "ExecuteTime": {
          "end_time": "2021-09-27T17:50:35.156424Z",
          "start_time": "2021-09-27T17:50:35.142424Z"
        },
        "id": "xyak9gK17mQk",
        "colab": {
          "base_uri": "https://localhost:8080/",
          "height": 36
        },
        "outputId": "36a7c371-d5c4-4074-85e9-07016a639632"
      },
      "source": [
        "my_dict[2]"
      ],
      "execution_count": 5,
      "outputs": [
        {
          "output_type": "execute_result",
          "data": {
            "application/vnd.google.colaboratory.intrinsic+json": {
              "type": "string"
            },
            "text/plain": [
              "'v2'"
            ]
          },
          "metadata": {},
          "execution_count": 5
        }
      ]
    },
    {
      "cell_type": "code",
      "metadata": {
        "ExecuteTime": {
          "end_time": "2021-09-27T17:50:50.673018Z",
          "start_time": "2021-09-27T17:50:50.655021Z"
        },
        "id": "9TVea2eO7mQk"
      },
      "source": [
        "# A função unzip pode ser usada para descombinar dados\n",
        "name_and_age = [('Joe', 23),\n",
        "                  ('Earnst', 65),\n",
        "                  ('Thomas', 11),\n",
        "                  ('Martin', 36),\n",
        "                  ('Charles', 83)]"
      ],
      "execution_count": 23,
      "outputs": []
    },
    {
      "cell_type": "code",
      "metadata": {
        "id": "PQ9BfPFx7mQk"
      },
      "source": [
        "nomes, idades = zip(*name_and_age)"
      ],
      "execution_count": 25,
      "outputs": []
    },
    {
      "cell_type": "code",
      "metadata": {
        "id": "KS3uYY4b7mQl",
        "colab": {
          "base_uri": "https://localhost:8080/"
        },
        "outputId": "40168f08-6db3-4e0a-969b-b555b8308341"
      },
      "source": [
        "nomes"
      ],
      "execution_count": 26,
      "outputs": [
        {
          "output_type": "execute_result",
          "data": {
            "text/plain": [
              "('Joe', 'Earnst', 'Thomas', 'Martin', 'Charles')"
            ]
          },
          "metadata": {},
          "execution_count": 26
        }
      ]
    },
    {
      "cell_type": "code",
      "metadata": {
        "id": "n9pSbD7B7mQl",
        "colab": {
          "base_uri": "https://localhost:8080/"
        },
        "outputId": "24a6d33b-8b34-4f54-85a6-b75260575ae1"
      },
      "source": [
        "idades"
      ],
      "execution_count": 27,
      "outputs": [
        {
          "output_type": "execute_result",
          "data": {
            "text/plain": [
              "(23, 65, 11, 36, 83)"
            ]
          },
          "metadata": {},
          "execution_count": 27
        }
      ]
    },
    {
      "cell_type": "markdown",
      "metadata": {
        "id": "jD2v-n-z7mQl"
      },
      "source": [
        "## Agora é sua vez!"
      ]
    },
    {
      "cell_type": "markdown",
      "metadata": {
        "id": "uNB2gj8n7mQl"
      },
      "source": [
        "**1) Crie um dicionário com seu nome, telefone e email. Mostre agora somente as chaves desse dicionário!**"
      ]
    },
    {
      "cell_type": "code",
      "metadata": {
        "id": "5u0QazVm7mQm"
      },
      "source": [
        "dict = {'nome':'adam', 'telefone':'2345678', 'email':'user@email.com'}"
      ],
      "execution_count": 28,
      "outputs": []
    },
    {
      "cell_type": "markdown",
      "metadata": {
        "id": "EeSwfBlH7mQm"
      },
      "source": [
        "**2) Adicione o seu trabalho neste dicionário**"
      ]
    },
    {
      "cell_type": "code",
      "metadata": {
        "id": "Rno5HCpR7mQm"
      },
      "source": [
        "dict['trabalho'] = 'programador'"
      ],
      "execution_count": 30,
      "outputs": []
    },
    {
      "cell_type": "code",
      "metadata": {
        "colab": {
          "base_uri": "https://localhost:8080/"
        },
        "id": "eeMpwbDH9XRy",
        "outputId": "816adfee-5016-4c73-8e4d-841948261483"
      },
      "source": [
        "dict"
      ],
      "execution_count": 31,
      "outputs": [
        {
          "output_type": "execute_result",
          "data": {
            "text/plain": [
              "{'email': 'user@email.com',\n",
              " 'nome': 'adam',\n",
              " 'telefone': '2345678',\n",
              " 'trabalho': 'programador'}"
            ]
          },
          "metadata": {},
          "execution_count": 31
        }
      ]
    },
    {
      "cell_type": "markdown",
      "metadata": {
        "id": "6eNU7UUd7mQm"
      },
      "source": [
        "**3) Remova o dado de telefone do seu dicionário**"
      ]
    },
    {
      "cell_type": "code",
      "metadata": {
        "id": "WwOLbz9l7mQn",
        "colab": {
          "base_uri": "https://localhost:8080/",
          "height": 36
        },
        "outputId": "2f877f53-00a0-4f52-cf05-bffab31748b0"
      },
      "source": [
        "dict.pop('telefone')"
      ],
      "execution_count": 33,
      "outputs": [
        {
          "output_type": "execute_result",
          "data": {
            "application/vnd.google.colaboratory.intrinsic+json": {
              "type": "string"
            },
            "text/plain": [
              "'2345678'"
            ]
          },
          "metadata": {},
          "execution_count": 33
        }
      ]
    },
    {
      "cell_type": "markdown",
      "metadata": {
        "id": "jd3-2h039qfO"
      },
      "source": [
        "**4) Crie um lista com 5 nomes e uma lista com 5 telefones. Crie um dicionário a partir d**"
      ]
    },
    {
      "cell_type": "code",
      "metadata": {
        "colab": {
          "base_uri": "https://localhost:8080/"
        },
        "id": "2AVPOqSC9nf4",
        "outputId": "695eea81-5954-47be-b676-da93fc965689"
      },
      "source": [
        "nomes = ['zé neto', 'cristiano', 'jorge', 'mateus', 'kauan']\n",
        "telefones = ['123','321','234','432','555']\n",
        "\n",
        "dicto = dict(zip(nomes,telefones))\n",
        "dicto"
      ],
      "execution_count": 1,
      "outputs": [
        {
          "output_type": "execute_result",
          "data": {
            "text/plain": [
              "{'cristiano': '321',\n",
              " 'jorge': '234',\n",
              " 'kauan': '555',\n",
              " 'mateus': '432',\n",
              " 'zé neto': '123'}"
            ]
          },
          "metadata": {},
          "execution_count": 1
        }
      ]
    }
  ]
}