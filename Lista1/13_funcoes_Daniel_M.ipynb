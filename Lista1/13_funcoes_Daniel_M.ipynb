{
  "nbformat": 4,
  "nbformat_minor": 0,
  "metadata": {
    "kernelspec": {
      "display_name": "Python 3",
      "language": "python",
      "name": "python3"
    },
    "language_info": {
      "codemirror_mode": {
        "name": "ipython",
        "version": 3
      },
      "file_extension": ".py",
      "mimetype": "text/x-python",
      "name": "python",
      "nbconvert_exporter": "python",
      "pygments_lexer": "ipython3",
      "version": "3.8.11"
    },
    "colab": {
      "name": "13_funcoes - Daniel M.ipynb",
      "provenance": [],
      "collapsed_sections": []
    }
  },
  "cells": [
    {
      "cell_type": "markdown",
      "metadata": {
        "id": "sdzHim2wbCMW"
      },
      "source": [
        "# Curso de Python Básico\n",
        "\n",
        "Este é um curso básico de python que tem o objetivo de apresentar a linguagem python de uma **maneira rápida e objetiva**. Vamos direto ao ponto nos conceitos básicos da programação e python com muita mão na massa! \n",
        "\n",
        "Neste curso, vamos trabalhar no **modo iterativo** do python. Porém, entenda que você pode trabalhar no modo script com várias linhas de código usando um arquivo no formato .py.\n",
        "\n",
        "Ao final desse Curso, espero que você se aprenda python e se motive cada vez mais em utilizar a linguagem para diversas tarefas e problemas do mundo real.\n",
        "\n",
        "Este notebook vai apenas passar pelos tópicos básicos em ordem:\n",
        "\n",
        "* 7. funções\n",
        "    * 7.1 Funções SEM retorno\n",
        "    * 7.2 Funções COM retorno\n",
        "    * 7.3 Funções anônimas (lambda)\n",
        "    * 7.4 map e filter\n",
        "  "
      ]
    },
    {
      "cell_type": "markdown",
      "metadata": {
        "id": "WmJgPHIxbCMb"
      },
      "source": [
        "## 7. Funções\n",
        "##### 7.1 Funções SEM retorno"
      ]
    },
    {
      "cell_type": "code",
      "metadata": {
        "ExecuteTime": {
          "end_time": "2021-08-27T14:51:51.146269Z",
          "start_time": "2021-08-27T14:51:51.131270Z"
        },
        "id": "6VdLfL9QbCMc"
      },
      "source": [
        "def nome_da_funcao():\n",
        "    print('primeira funcao')"
      ],
      "execution_count": 1,
      "outputs": []
    },
    {
      "cell_type": "code",
      "metadata": {
        "ExecuteTime": {
          "end_time": "2021-08-27T14:51:52.655160Z",
          "start_time": "2021-08-27T14:51:52.644163Z"
        },
        "id": "6Q_qBJ5ubCMe",
        "colab": {
          "base_uri": "https://localhost:8080/"
        },
        "outputId": "7e836b92-35e3-4b32-c19e-aad57fde6463"
      },
      "source": [
        "nome_da_funcao()"
      ],
      "execution_count": 2,
      "outputs": [
        {
          "output_type": "stream",
          "name": "stdout",
          "text": [
            "primeira funcao\n"
          ]
        }
      ]
    },
    {
      "cell_type": "code",
      "metadata": {
        "ExecuteTime": {
          "end_time": "2021-08-27T14:55:13.139128Z",
          "start_time": "2021-08-27T14:55:13.026132Z"
        },
        "id": "V1HI74MdbCMe",
        "colab": {
          "base_uri": "https://localhost:8080/"
        },
        "outputId": "f914a1fe-2845-4694-89ee-fc67d0f4384a"
      },
      "source": [
        "print('novo parametro')"
      ],
      "execution_count": 7,
      "outputs": [
        {
          "output_type": "stream",
          "name": "stdout",
          "text": [
            "novo parametro\n"
          ]
        }
      ]
    },
    {
      "cell_type": "code",
      "metadata": {
        "ExecuteTime": {
          "end_time": "2021-08-27T14:55:13.307456Z",
          "start_time": "2021-08-27T14:55:13.289454Z"
        },
        "id": "wbYYV_qbbCMf",
        "colab": {
          "base_uri": "https://localhost:8080/",
          "height": 172
        },
        "outputId": "f8ea81a6-d2a6-4301-f1f0-6e1d5bfca3eb"
      },
      "source": [
        "print(param1='novo parametro')"
      ],
      "execution_count": 5,
      "outputs": [
        {
          "output_type": "error",
          "ename": "TypeError",
          "evalue": "ignored",
          "traceback": [
            "\u001b[0;31m---------------------------------------------------------------------------\u001b[0m",
            "\u001b[0;31mTypeError\u001b[0m                                 Traceback (most recent call last)",
            "\u001b[0;32m<ipython-input-5-dcd13358c03f>\u001b[0m in \u001b[0;36m<module>\u001b[0;34m()\u001b[0m\n\u001b[0;32m----> 1\u001b[0;31m \u001b[0mprint\u001b[0m\u001b[0;34m(\u001b[0m\u001b[0mparam1\u001b[0m\u001b[0;34m=\u001b[0m\u001b[0;34m'novo parametro'\u001b[0m\u001b[0;34m)\u001b[0m\u001b[0;34m\u001b[0m\u001b[0;34m\u001b[0m\u001b[0m\n\u001b[0m",
            "\u001b[0;31mTypeError\u001b[0m: 'param1' is an invalid keyword argument for print()"
          ]
        }
      ]
    },
    {
      "cell_type": "markdown",
      "metadata": {
        "ExecuteTime": {
          "end_time": "2021-08-27T14:56:09.337667Z",
          "start_time": "2021-08-27T14:56:09.322667Z"
        },
        "id": "K_zo7AejbCMf"
      },
      "source": [
        "##### 7.2 Funções COM retorno"
      ]
    },
    {
      "cell_type": "code",
      "metadata": {
        "ExecuteTime": {
          "end_time": "2021-08-27T14:55:22.885139Z",
          "start_time": "2021-08-27T14:55:22.876139Z"
        },
        "id": "HYYerO0abCMg"
      },
      "source": [
        "def soma(a, b):\n",
        "    return a+b"
      ],
      "execution_count": 8,
      "outputs": []
    },
    {
      "cell_type": "code",
      "metadata": {
        "ExecuteTime": {
          "end_time": "2021-08-27T14:55:28.880117Z",
          "start_time": "2021-08-27T14:55:28.874118Z"
        },
        "id": "WTXjLvFGbCMg"
      },
      "source": [
        "valor = soma(10, 5)"
      ],
      "execution_count": 9,
      "outputs": []
    },
    {
      "cell_type": "code",
      "metadata": {
        "ExecuteTime": {
          "end_time": "2021-08-27T14:55:34.357051Z",
          "start_time": "2021-08-27T14:55:34.347050Z"
        },
        "id": "cbxfSXC5bCMh"
      },
      "source": [
        "def square(x):\n",
        "    return x**0.5"
      ],
      "execution_count": 10,
      "outputs": []
    },
    {
      "cell_type": "code",
      "metadata": {
        "ExecuteTime": {
          "end_time": "2021-08-27T14:55:39.562599Z",
          "start_time": "2021-08-27T14:55:39.546610Z"
        },
        "id": "_kQnSE4JbCMh"
      },
      "source": [
        "out = square(25)"
      ],
      "execution_count": 11,
      "outputs": []
    },
    {
      "cell_type": "markdown",
      "metadata": {
        "id": "PhVUNi7xbCMi"
      },
      "source": [
        "##### 7.3 Funções anônimas (lambda)"
      ]
    },
    {
      "cell_type": "code",
      "metadata": {
        "ExecuteTime": {
          "end_time": "2021-08-27T14:56:56.017670Z",
          "start_time": "2021-08-27T14:56:56.001671Z"
        },
        "id": "cp89p6BjbCMi"
      },
      "source": [
        "def multiplique_por_dois(numero):\n",
        "    return numero*2"
      ],
      "execution_count": 12,
      "outputs": []
    },
    {
      "cell_type": "code",
      "metadata": {
        "ExecuteTime": {
          "end_time": "2021-08-27T14:57:05.685637Z",
          "start_time": "2021-08-27T14:57:05.666640Z"
        },
        "id": "cqxrr5BMbCMj",
        "colab": {
          "base_uri": "https://localhost:8080/"
        },
        "outputId": "0e83ed4c-e90e-4c6a-b0f6-d2f051fa5394"
      },
      "source": [
        "multiplique_por_dois(10)"
      ],
      "execution_count": 13,
      "outputs": [
        {
          "output_type": "execute_result",
          "data": {
            "text/plain": [
              "20"
            ]
          },
          "metadata": {},
          "execution_count": 13
        }
      ]
    },
    {
      "cell_type": "code",
      "metadata": {
        "ExecuteTime": {
          "end_time": "2021-08-27T16:53:50.260971Z",
          "start_time": "2021-08-27T16:53:50.256974Z"
        },
        "id": "HLeH5hcVbCMj"
      },
      "source": [
        "multiplique_dois = lambda x: x * 2"
      ],
      "execution_count": 14,
      "outputs": []
    },
    {
      "cell_type": "code",
      "metadata": {
        "ExecuteTime": {
          "end_time": "2021-08-27T16:53:54.606455Z",
          "start_time": "2021-08-27T16:53:54.582456Z"
        },
        "id": "4z1pqLuFbCMk",
        "colab": {
          "base_uri": "https://localhost:8080/"
        },
        "outputId": "92347d05-2d5f-466c-92c6-9365df5276dc"
      },
      "source": [
        "multiplique_dois(5)"
      ],
      "execution_count": 15,
      "outputs": [
        {
          "output_type": "execute_result",
          "data": {
            "text/plain": [
              "10"
            ]
          },
          "metadata": {},
          "execution_count": 15
        }
      ]
    },
    {
      "cell_type": "code",
      "metadata": {
        "ExecuteTime": {
          "end_time": "2021-08-27T16:54:14.989408Z",
          "start_time": "2021-08-27T16:54:14.982412Z"
        },
        "id": "h-762sqwbCMk"
      },
      "source": [
        "calcule_potencia = lambda potencia: potencia ** 2"
      ],
      "execution_count": 16,
      "outputs": []
    },
    {
      "cell_type": "code",
      "metadata": {
        "ExecuteTime": {
          "end_time": "2021-08-27T16:54:20.055806Z",
          "start_time": "2021-08-27T16:54:20.046806Z"
        },
        "id": "jKYt2n3ybCMl",
        "colab": {
          "base_uri": "https://localhost:8080/"
        },
        "outputId": "2bc09e62-021f-4ca3-b321-2914cb410f82"
      },
      "source": [
        "calcule_potencia(3)"
      ],
      "execution_count": 17,
      "outputs": [
        {
          "output_type": "execute_result",
          "data": {
            "text/plain": [
              "9"
            ]
          },
          "metadata": {},
          "execution_count": 17
        }
      ]
    },
    {
      "cell_type": "code",
      "metadata": {
        "ExecuteTime": {
          "end_time": "2021-08-27T16:54:48.391827Z",
          "start_time": "2021-08-27T16:54:48.381827Z"
        },
        "id": "Hjwv5_CobCMl"
      },
      "source": [
        "soma = lambda a, b, c : a + b + c"
      ],
      "execution_count": 18,
      "outputs": []
    },
    {
      "cell_type": "code",
      "metadata": {
        "ExecuteTime": {
          "end_time": "2021-08-27T16:54:55.306060Z",
          "start_time": "2021-08-27T16:54:55.294062Z"
        },
        "id": "PwTMBR8NbCMl",
        "colab": {
          "base_uri": "https://localhost:8080/"
        },
        "outputId": "62dfe4ba-8201-4c82-a592-ac0aaa95c438"
      },
      "source": [
        "soma(1,2,3)"
      ],
      "execution_count": 19,
      "outputs": [
        {
          "output_type": "execute_result",
          "data": {
            "text/plain": [
              "6"
            ]
          },
          "metadata": {},
          "execution_count": 19
        }
      ]
    },
    {
      "cell_type": "markdown",
      "metadata": {
        "id": "ZWZnQQLubCMl"
      },
      "source": [
        "#### 7.4 Variáveis Globais"
      ]
    },
    {
      "cell_type": "code",
      "metadata": {
        "id": "NOyazh1FbCMm",
        "colab": {
          "base_uri": "https://localhost:8080/",
          "height": 246
        },
        "outputId": "b7945264-f33d-4f60-8e86-3a11bb584700"
      },
      "source": [
        "def profile():\n",
        "    #global name\n",
        "    #global age\n",
        "    name = \"Danny\"\n",
        "    age = 30\n",
        "\n",
        "profile()\n",
        "print(name)\n",
        "# Output: Danny\n",
        "\n",
        "print(age)\n",
        "# Output: 30"
      ],
      "execution_count": 20,
      "outputs": [
        {
          "output_type": "error",
          "ename": "NameError",
          "evalue": "ignored",
          "traceback": [
            "\u001b[0;31m---------------------------------------------------------------------------\u001b[0m",
            "\u001b[0;31mNameError\u001b[0m                                 Traceback (most recent call last)",
            "\u001b[0;32m<ipython-input-20-ba331e54800f>\u001b[0m in \u001b[0;36m<module>\u001b[0;34m()\u001b[0m\n\u001b[1;32m      6\u001b[0m \u001b[0;34m\u001b[0m\u001b[0m\n\u001b[1;32m      7\u001b[0m \u001b[0mprofile\u001b[0m\u001b[0;34m(\u001b[0m\u001b[0;34m)\u001b[0m\u001b[0;34m\u001b[0m\u001b[0;34m\u001b[0m\u001b[0m\n\u001b[0;32m----> 8\u001b[0;31m \u001b[0mprint\u001b[0m\u001b[0;34m(\u001b[0m\u001b[0mname\u001b[0m\u001b[0;34m)\u001b[0m\u001b[0;34m\u001b[0m\u001b[0;34m\u001b[0m\u001b[0m\n\u001b[0m\u001b[1;32m      9\u001b[0m \u001b[0;31m# Output: Danny\u001b[0m\u001b[0;34m\u001b[0m\u001b[0;34m\u001b[0m\u001b[0;34m\u001b[0m\u001b[0m\n\u001b[1;32m     10\u001b[0m \u001b[0;34m\u001b[0m\u001b[0m\n",
            "\u001b[0;31mNameError\u001b[0m: name 'name' is not defined"
          ]
        }
      ]
    },
    {
      "cell_type": "code",
      "metadata": {
        "id": "zQ5DeSePbCMm"
      },
      "source": [
        ""
      ],
      "execution_count": null,
      "outputs": []
    },
    {
      "cell_type": "markdown",
      "metadata": {
        "id": "WMiUroZsbCMn"
      },
      "source": [
        "## Agora é sua vez"
      ]
    },
    {
      "cell_type": "markdown",
      "metadata": {
        "ExecuteTime": {
          "end_time": "2021-09-27T19:12:27.152396Z",
          "start_time": "2021-09-27T19:12:27.132411Z"
        },
        "id": "5uFGBCF5bCMn"
      },
      "source": [
        "**1) Crie uma função que irá receber 3 notas e fornecerá como saída o resultado da média dessas notas**"
      ]
    },
    {
      "cell_type": "code",
      "metadata": {
        "id": "MV0K8cvhbCMn",
        "colab": {
          "base_uri": "https://localhost:8080/"
        },
        "outputId": "39567627-5cf0-4952-a9c2-8c95dc567a47"
      },
      "source": [
        "media = lambda a, b, c : (a + b + c)/3\n",
        "\n",
        "media(8,9,10)"
      ],
      "execution_count": 21,
      "outputs": [
        {
          "output_type": "execute_result",
          "data": {
            "text/plain": [
              "9.0"
            ]
          },
          "metadata": {},
          "execution_count": 21
        }
      ]
    },
    {
      "cell_type": "markdown",
      "metadata": {
        "ExecuteTime": {
          "end_time": "2021-09-27T19:12:46.277155Z",
          "start_time": "2021-09-27T19:12:46.267155Z"
        },
        "id": "5NSAr0LEbCMn"
      },
      "source": [
        "**2) Crie uma função que irá receber um número e a saída é a sequência de fibonnaci**"
      ]
    },
    {
      "cell_type": "code",
      "metadata": {
        "id": "MgogzFbabCMn",
        "colab": {
          "base_uri": "https://localhost:8080/"
        },
        "outputId": "7f2a7fff-9edf-4fe2-c1cb-3dfc75537847"
      },
      "source": [
        "def fib(n):\n",
        "  if n == 1:\n",
        "    return 0\n",
        "  elif n == 2:\n",
        "    return 1\n",
        "  else: \n",
        "    return fib(n-1) + fib(n-2)\n",
        "\n",
        "n = int(input('Exibir ate o termo: '))\n",
        "\n",
        "for val in range(1, n+1):\n",
        "        print(fib(val), end=' ')"
      ],
      "execution_count": 23,
      "outputs": [
        {
          "output_type": "stream",
          "name": "stdout",
          "text": [
            "Exibir ate o termo: 10\n",
            "0 1 1 2 3 5 8 13 21 34 "
          ]
        }
      ]
    }
  ]
}