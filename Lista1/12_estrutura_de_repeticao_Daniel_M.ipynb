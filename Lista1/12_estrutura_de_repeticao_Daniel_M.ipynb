{
  "nbformat": 4,
  "nbformat_minor": 0,
  "metadata": {
    "colab": {
      "name": "12_estrutura_de_repeticao - Daniel M.ipynb",
      "provenance": [],
      "collapsed_sections": []
    },
    "kernelspec": {
      "display_name": "Python 3",
      "language": "python",
      "name": "python3"
    },
    "language_info": {
      "codemirror_mode": {
        "name": "ipython",
        "version": 3
      },
      "file_extension": ".py",
      "mimetype": "text/x-python",
      "name": "python",
      "nbconvert_exporter": "python",
      "pygments_lexer": "ipython3",
      "version": "3.8.11"
    }
  },
  "cells": [
    {
      "cell_type": "markdown",
      "metadata": {
        "id": "L-3fxgFs1UqT"
      },
      "source": [
        "# Curso de Python Básico\n",
        "\n",
        "Este é um curso básico de python que tem o objetivo de apresentar a linguagem python de uma **maneira rápida e objetiva**. Vamos direto ao ponto nos conceitos básicos da programação e python com muita mão na massa! \n",
        "\n",
        "Neste curso, vamos trabalhar no **modo iterativo** do python. Porém, entenda que você pode trabalhar no modo script com várias linhas de código usando um arquivo no formato .py.\n",
        "\n",
        "Ao final desse Curso, espero que você se aprenda python e se motive cada vez mais em utilizar a linguagem para diversas tarefas e problemas do mundo real.\n",
        "\n",
        "Este notebook vai apenas passar pelos tópicos básicos em ordem:\n",
        "\n",
        "* 6. Estrutura de Repetição\n",
        "    * 6.1 for \n",
        "    * 6.2 range\n",
        "    * 6.3 while \n",
        "    * 6.4 while-else\n",
        "    * 6.5 break"
      ]
    },
    {
      "cell_type": "markdown",
      "metadata": {
        "id": "PNecapUJ1UqX"
      },
      "source": [
        "## 6. Estrutura de Repetição\n",
        "- for\n",
        "- range\n",
        "- while\n",
        "- while-else"
      ]
    },
    {
      "cell_type": "markdown",
      "metadata": {
        "id": "EREGNgOz1UqX"
      },
      "source": [
        "##### 6.1 for"
      ]
    },
    {
      "cell_type": "code",
      "metadata": {
        "colab": {
          "base_uri": "https://localhost:8080/"
        },
        "id": "w2l29MgB1UqY",
        "outputId": "2075747c-67ab-44ae-a7cb-0d9a9d3db6d9"
      },
      "source": [
        "for i in [0,1,2,3,4,5]:\n",
        "    print(i)"
      ],
      "execution_count": null,
      "outputs": [
        {
          "name": "stdout",
          "output_type": "stream",
          "text": [
            "0\n",
            "1\n",
            "2\n",
            "3\n",
            "4\n",
            "5\n"
          ]
        }
      ]
    },
    {
      "cell_type": "code",
      "metadata": {
        "id": "AYdSflr-1Uqa"
      },
      "source": [
        "nomes = ['Nicksson','Paulo','Joao']"
      ],
      "execution_count": null,
      "outputs": []
    },
    {
      "cell_type": "code",
      "metadata": {
        "colab": {
          "base_uri": "https://localhost:8080/"
        },
        "id": "iPPlMjwF1Uqa",
        "outputId": "cbc27ffb-5e7e-4998-cfba-be811c02c8aa"
      },
      "source": [
        "for n in nomes:\n",
        "    print(n)"
      ],
      "execution_count": null,
      "outputs": [
        {
          "name": "stdout",
          "output_type": "stream",
          "text": [
            "Nicksson\n",
            "Paulo\n",
            "Joao\n"
          ]
        }
      ]
    },
    {
      "cell_type": "code",
      "metadata": {
        "colab": {
          "base_uri": "https://localhost:8080/"
        },
        "id": "7ibocf_x1Uqb",
        "outputId": "5607fe70-23cf-44bc-d532-bdd470fc73f9"
      },
      "source": [
        "for n in nomes:\n",
        "    print('!')"
      ],
      "execution_count": null,
      "outputs": [
        {
          "name": "stdout",
          "output_type": "stream",
          "text": [
            "!\n",
            "!\n",
            "!\n"
          ]
        }
      ]
    },
    {
      "cell_type": "code",
      "metadata": {
        "colab": {
          "base_uri": "https://localhost:8080/"
        },
        "id": "-oQUtIb11Uqb",
        "outputId": "ef97d05a-3e9b-4c81-90d4-14b0b30c5cc3"
      },
      "source": [
        "for n in nomes:\n",
        "    print(n+n)"
      ],
      "execution_count": null,
      "outputs": [
        {
          "name": "stdout",
          "output_type": "stream",
          "text": [
            "NickssonNicksson\n",
            "PauloPaulo\n",
            "JoaoJoao\n"
          ]
        }
      ]
    },
    {
      "cell_type": "markdown",
      "metadata": {
        "id": "cPus2NOv1Uqc"
      },
      "source": [
        "##### 6.2 range()\n",
        "A função **range()** retorna uma série numérica no intervalo enviado como argumento. A série retornada é um **objeto iterável** tipo range e os elementos contidos serão gerados sob demanda."
      ]
    },
    {
      "cell_type": "code",
      "metadata": {
        "colab": {
          "base_uri": "https://localhost:8080/"
        },
        "id": "i8PNFlxm1Uqd",
        "outputId": "c85fc547-5d8f-4ae8-a43a-97cbf6164274"
      },
      "source": [
        "range(5)"
      ],
      "execution_count": null,
      "outputs": [
        {
          "data": {
            "text/plain": [
              "range(0, 5)"
            ]
          },
          "execution_count": 6,
          "metadata": {},
          "output_type": "execute_result"
        }
      ]
    },
    {
      "cell_type": "code",
      "metadata": {
        "colab": {
          "base_uri": "https://localhost:8080/"
        },
        "id": "2-6HSf4h1Uqe",
        "outputId": "206b84f8-9dea-45a2-f26f-f8d3b03d1af3"
      },
      "source": [
        "list(range(5))"
      ],
      "execution_count": null,
      "outputs": [
        {
          "data": {
            "text/plain": [
              "[0, 1, 2, 3, 4]"
            ]
          },
          "execution_count": 7,
          "metadata": {},
          "output_type": "execute_result"
        }
      ]
    },
    {
      "cell_type": "code",
      "metadata": {
        "colab": {
          "base_uri": "https://localhost:8080/"
        },
        "id": "FkeQfgTP1Uqe",
        "outputId": "e61364b4-ee63-43e7-aaed-5c6ff4d77a21"
      },
      "source": [
        "list(range(0, 101, 10))"
      ],
      "execution_count": null,
      "outputs": [
        {
          "data": {
            "text/plain": [
              "[0, 10, 20, 30, 40, 50, 60, 70, 80, 90, 100]"
            ]
          },
          "execution_count": 8,
          "metadata": {},
          "output_type": "execute_result"
        }
      ]
    },
    {
      "cell_type": "code",
      "metadata": {
        "colab": {
          "base_uri": "https://localhost:8080/"
        },
        "id": "kuAE0ECe1Uqf",
        "outputId": "83857aaa-23a6-4c01-b325-3d0693580ab3"
      },
      "source": [
        "for i in range(0, 101, 10):\n",
        "    print(i)"
      ],
      "execution_count": null,
      "outputs": [
        {
          "name": "stdout",
          "output_type": "stream",
          "text": [
            "0\n",
            "10\n",
            "20\n",
            "30\n",
            "40\n",
            "50\n",
            "60\n",
            "70\n",
            "80\n",
            "90\n",
            "100\n"
          ]
        }
      ]
    },
    {
      "cell_type": "markdown",
      "metadata": {
        "id": "zhtOV8-Z1Uqf"
      },
      "source": [
        "##### 6.3 while"
      ]
    },
    {
      "cell_type": "code",
      "metadata": {
        "colab": {
          "base_uri": "https://localhost:8080/"
        },
        "id": "RoQctIzq1Uqg",
        "outputId": "ea448414-2351-4b03-8bfc-03184a014bc3"
      },
      "source": [
        "i = 1\n",
        "while i <= 5:\n",
        "    print('i is: {}'.format(i))\n",
        "    i = i+1"
      ],
      "execution_count": null,
      "outputs": [
        {
          "name": "stdout",
          "output_type": "stream",
          "text": [
            "i is: 1\n",
            "i is: 2\n",
            "i is: 3\n",
            "i is: 4\n",
            "i is: 5\n"
          ]
        }
      ]
    },
    {
      "cell_type": "markdown",
      "metadata": {
        "id": "j42cmna51Uqg"
      },
      "source": [
        "##### 6.4 while-else"
      ]
    },
    {
      "cell_type": "code",
      "metadata": {
        "colab": {
          "base_uri": "https://localhost:8080/"
        },
        "id": "r_ktfQuy1Uqg",
        "outputId": "e4c9f953-1180-4776-9be8-af0cb044f530"
      },
      "source": [
        "\n",
        "i = 1\n",
        "while i <= 5:\n",
        "    print('i is: {}'.format(i))\n",
        "    i = i+1\n",
        "else:\n",
        "    print('Loop Encerrado')"
      ],
      "execution_count": null,
      "outputs": [
        {
          "name": "stdout",
          "output_type": "stream",
          "text": [
            "i is: 1\n",
            "i is: 2\n",
            "i is: 3\n",
            "i is: 4\n",
            "i is: 5\n",
            "Loop Encerrado\n"
          ]
        }
      ]
    },
    {
      "cell_type": "markdown",
      "metadata": {
        "id": "CStO36jl1Uqg"
      },
      "source": [
        "##### 6.5 break\n",
        "\n",
        "utilizado quando não se sabe o momento certo de parar a iteração"
      ]
    },
    {
      "cell_type": "code",
      "metadata": {
        "colab": {
          "base_uri": "https://localhost:8080/"
        },
        "id": "XJKKMdl81Uqg",
        "outputId": "4e833448-2cc2-4876-d67e-62711c129b65"
      },
      "source": [
        "x = 10\n",
        "while True:\n",
        "    print(x)\n",
        "    if x < 1:\n",
        "        break\n",
        "    x = x/2"
      ],
      "execution_count": null,
      "outputs": [
        {
          "name": "stdout",
          "output_type": "stream",
          "text": [
            "10\n",
            "5.0\n",
            "2.5\n",
            "1.25\n",
            "0.625\n"
          ]
        }
      ]
    },
    {
      "cell_type": "code",
      "metadata": {
        "id": "Pa3ruwk01Uqh"
      },
      "source": [
        ""
      ],
      "execution_count": null,
      "outputs": []
    },
    {
      "cell_type": "markdown",
      "metadata": {
        "id": "G7TaY-Ig1Uqi"
      },
      "source": [
        "## Agora é sua vez"
      ]
    },
    {
      "cell_type": "markdown",
      "metadata": {
        "id": "ac9CidIu1Uqi"
      },
      "source": [
        "**1) Faça um programa que peça uma nota, entre zero e dez. Mostre uma mensagem caso o valor seja inválido e continue pedindo até que o usuário informe um valor válido.** Use \"input\" para receber o dado no seu programa"
      ]
    },
    {
      "cell_type": "code",
      "metadata": {
        "colab": {
          "base_uri": "https://localhost:8080/"
        },
        "id": "xsBzL4t41Uqi",
        "outputId": "e95c698d-d4dd-4492-fc0d-8f1597abf550"
      },
      "source": [
        "nota = int(input('Digite uma nota: '))\n",
        "while 0 > nota or nota > 10:\n",
        "  nota = int(input('Digite uma nota: '))\n",
        "print(f'{nota}')"
      ],
      "execution_count": null,
      "outputs": [
        {
          "name": "stdout",
          "output_type": "stream",
          "text": [
            "Digite uma nota: 55\n",
            "Digite uma nota: -5\n",
            "Digite uma nota: 2\n",
            "2\n"
          ]
        }
      ]
    },
    {
      "cell_type": "markdown",
      "metadata": {
        "id": "bO_gIlze1Uqi"
      },
      "source": [
        "**2) Faça um programa que leia 5 números e informe o maior número.** "
      ]
    },
    {
      "cell_type": "code",
      "metadata": {
        "colab": {
          "base_uri": "https://localhost:8080/"
        },
        "id": "CmLJEEgS1Uqi",
        "outputId": "87265f55-2606-40f0-f9ce-2b59d62c5bd4"
      },
      "source": [
        "maior = 0\n",
        "\n",
        "numero = float(input('Digite um número: '))\n",
        "for i in range(4):\n",
        "  if numero > maior:\n",
        "    maior = numero\n",
        "  numero = float(input('Digite um número: '))\n",
        "\n",
        "print(f'O maior número é: {maior}')"
      ],
      "execution_count": null,
      "outputs": [
        {
          "name": "stdout",
          "output_type": "stream",
          "text": [
            "Digite um número: 2\n",
            "Digite um número: 15\n",
            "Digite um número: 10\n",
            "Digite um número: -5\n",
            "Digite um número: 3\n",
            "O maior número é: 15.0\n"
          ]
        }
      ]
    },
    {
      "cell_type": "markdown",
      "metadata": {
        "id": "pHofT5PQ1Uqi"
      },
      "source": [
        "**3) Faça um programa que imprima na tela apenas os números ímpares entre 1 e 50**"
      ]
    },
    {
      "cell_type": "code",
      "metadata": {
        "colab": {
          "base_uri": "https://localhost:8080/"
        },
        "id": "jMw7Ur5t1Uqj",
        "outputId": "64952e89-87b7-48ea-b408-e7b2946d1e92"
      },
      "source": [
        "for i in range(1, 51):\n",
        "  if i%2 == 0:\n",
        "    print(i, end= ' ')"
      ],
      "execution_count": null,
      "outputs": [
        {
          "name": "stdout",
          "output_type": "stream",
          "text": [
            "2 4 6 8 10 12 14 16 18 20 22 24 26 28 30 32 34 36 38 40 42 44 46 48 50 "
          ]
        }
      ]
    },
    {
      "cell_type": "markdown",
      "metadata": {
        "id": "hBZ7F81j1Uqj"
      },
      "source": [
        "**4) Faça um programa que imprima a sequência de fibonacci a partir do  n−ésimo termo da sequência**"
      ]
    },
    {
      "cell_type": "code",
      "metadata": {
        "colab": {
          "base_uri": "https://localhost:8080/"
        },
        "id": "KLRGH-ED1Uqj",
        "outputId": "b3a58d54-0fb4-4c99-8a46-11b2e8dd30db"
      },
      "source": [
        "novo = 0\n",
        "i = 1\n",
        "j = 0\n",
        "count = 0\n",
        "\n",
        "numero = int(input('Digite o termo da sequência: '))\n",
        "\n",
        "while count < numero:\n",
        "  if count == 0:\n",
        "    print(j,end=' ')\n",
        "  elif count == 1:\n",
        "    print(i,end=' ')\n",
        "  else:\n",
        "    novo = i + j\n",
        "    print(novo, end=' ')\n",
        "    j = i\n",
        "    i = novo\n",
        "  count += 1"
      ],
      "execution_count": 28,
      "outputs": [
        {
          "output_type": "stream",
          "name": "stdout",
          "text": [
            "Digite o termo da sequência: 10\n",
            "0 1 1 2 3 5 8 13 21 34 "
          ]
        }
      ]
    },
    {
      "cell_type": "markdown",
      "metadata": {
        "id": "FxbLwYoo1Uqj"
      },
      "source": [
        "**5) Faça um programa que peça para n pessoas a sua idade, ao final o programa devera verificar se a média de idade da turma varia entre 0 e 25,26 e 60 e maior que 60; e então, dizer se a turma é jovem, adulta ou idosa, conforme a média calculada**"
      ]
    },
    {
      "cell_type": "code",
      "metadata": {
        "id": "fhDcaZZp1Uqk",
        "colab": {
          "base_uri": "https://localhost:8080/"
        },
        "outputId": "30dc2044-93fb-4b68-db45-21eab526417c"
      },
      "source": [
        "cont = 0\n",
        "soma = 0\n",
        "pessoas = int(input('Digite a quantidade de pessoas: '))\n",
        "\n",
        "while cont < pessoas:\n",
        "  idade = int(input('Digite a idade: '))\n",
        "  soma = soma + idade\n",
        "  cont += 1\n",
        "\n",
        "media = soma/cont\n",
        "if 0 <= media <= 25:\n",
        "  print('Turma Jovem')\n",
        "elif 26 <= media <= 60:\n",
        "  print('Turma Adulta')\n",
        "else:\n",
        "  print('Turma Idosa')"
      ],
      "execution_count": 29,
      "outputs": [
        {
          "output_type": "stream",
          "name": "stdout",
          "text": [
            "Digite a quantidade de pessoas: 3\n",
            "Digite a idade: 26\n",
            "Digite a idade: 55\n",
            "Digite a idade: 72\n",
            "Turma Adulta\n"
          ]
        }
      ]
    }
  ]
}