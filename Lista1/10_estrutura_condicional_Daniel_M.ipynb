{
  "nbformat": 4,
  "nbformat_minor": 0,
  "metadata": {
    "kernelspec": {
      "display_name": "Python 3",
      "language": "python",
      "name": "python3"
    },
    "language_info": {
      "codemirror_mode": {
        "name": "ipython",
        "version": 3
      },
      "file_extension": ".py",
      "mimetype": "text/x-python",
      "name": "python",
      "nbconvert_exporter": "python",
      "pygments_lexer": "ipython3",
      "version": "3.8.11"
    },
    "colab": {
      "name": "10_estrutura_condicional - Daniel M.ipynb",
      "provenance": [],
      "collapsed_sections": []
    }
  },
  "cells": [
    {
      "cell_type": "markdown",
      "metadata": {
        "id": "tTMBzT9mN5n5"
      },
      "source": [
        "# Curso de Python Básico\n",
        "\n",
        "Este é um curso básico de python que tem o objetivo de apresentar a linguagem python de uma **maneira rápida e objetiva**. Vamos direto ao ponto nos conceitos básicos da programação e python com muita mão na massa! \n",
        "\n",
        "Neste curso, vamos trabalhar no **modo iterativo** do python. Porém, entenda que você pode trabalhar no modo script com várias linhas de código usando um arquivo no formato .py.\n",
        "\n",
        "Ao final desse Curso, espero que você se aprenda python e se motive cada vez mais em utilizar a linguagem para diversas tarefas e problemas do mundo real.\n",
        "\n",
        "Este notebook vai apenas passar pelos tópicos básicos em ordem:\n",
        "\n",
        "* 5. Estrutura condicionais\n",
        "    * 5.1 if\n",
        "    * 5.2 else\n",
        "    * 5.3 elif"
      ]
    },
    {
      "cell_type": "markdown",
      "metadata": {
        "id": "Zv4XUElfN5n9"
      },
      "source": [
        "## 5. Estrutura Condicional\n",
        "- if\n",
        "- else\n",
        "- elif\n",
        "\n",
        "**Indentação**: são espaços que deixamos no inicio da linha de código"
      ]
    },
    {
      "cell_type": "markdown",
      "metadata": {
        "ExecuteTime": {
          "end_time": "2021-08-27T14:12:37.003786Z",
          "start_time": "2021-08-27T14:12:36.997786Z"
        },
        "id": "YU8l9Q61N5n-"
      },
      "source": [
        "##### 5.1 Condicional Alternativa"
      ]
    },
    {
      "cell_type": "code",
      "metadata": {
        "id": "WsAXoqcBN5n_"
      },
      "source": [
        "if 1 > 2:\n",
        "    print('É maior')"
      ],
      "execution_count": 1,
      "outputs": []
    },
    {
      "cell_type": "code",
      "metadata": {
        "id": "PrPqUdINN5oA"
      },
      "source": [
        ""
      ],
      "execution_count": null,
      "outputs": []
    },
    {
      "cell_type": "markdown",
      "metadata": {
        "id": "Shj5bC7vN5oB"
      },
      "source": [
        "##### 5.2 Condicional Endadeada"
      ]
    },
    {
      "cell_type": "code",
      "metadata": {
        "id": "5BE-JmhuN5oB",
        "colab": {
          "base_uri": "https://localhost:8080/"
        },
        "outputId": "85d585f9-f83c-46ab-c361-ee5f20572de6"
      },
      "source": [
        "if 1 < 2:\n",
        "    print('Primeiro')\n",
        "else:\n",
        "    print('Último')"
      ],
      "execution_count": 2,
      "outputs": [
        {
          "output_type": "stream",
          "name": "stdout",
          "text": [
            "Primeiro\n"
          ]
        }
      ]
    },
    {
      "cell_type": "code",
      "metadata": {
        "id": "F-bxJTLSN5oC",
        "colab": {
          "base_uri": "https://localhost:8080/"
        },
        "outputId": "e1e32916-eb7b-4fb3-c79d-3b8310d5f637"
      },
      "source": [
        "if 1 == 2:\n",
        "    print('Primeiro')\n",
        "elif 3 == 3:\n",
        "    print('Meio')\n",
        "else:\n",
        "    print('Último')"
      ],
      "execution_count": 3,
      "outputs": [
        {
          "output_type": "stream",
          "name": "stdout",
          "text": [
            "Meio\n"
          ]
        }
      ]
    },
    {
      "cell_type": "markdown",
      "metadata": {
        "id": "7DVnpaTNN5oC"
      },
      "source": [
        "##### 5.3 Condicional Aninhadas"
      ]
    },
    {
      "cell_type": "code",
      "metadata": {
        "ExecuteTime": {
          "end_time": "2021-08-27T14:13:38.617570Z",
          "start_time": "2021-08-27T14:13:38.608572Z"
        },
        "id": "lMY15LjLN5oD",
        "colab": {
          "base_uri": "https://localhost:8080/"
        },
        "outputId": "4c91fc7f-f7dc-4d5a-b76c-a0a28a8637c5"
      },
      "source": [
        "if 1 < 0:\n",
        "    print(\"é menor\")\n",
        "elif 0 > 0:\n",
        "    print(\"é maior\")\n",
        "else:\n",
        "    if 1 < 0:\n",
        "        print(\"é menor\")\n",
        "    elif 1 > 0:\n",
        "        print(\"é maior\") "
      ],
      "execution_count": 4,
      "outputs": [
        {
          "output_type": "stream",
          "name": "stdout",
          "text": [
            "é maior\n"
          ]
        }
      ]
    },
    {
      "cell_type": "code",
      "metadata": {
        "id": "K_s9V7HoN5oE"
      },
      "source": [
        ""
      ],
      "execution_count": null,
      "outputs": []
    },
    {
      "cell_type": "markdown",
      "metadata": {
        "id": "wjLR5uDuN5oE"
      },
      "source": [
        "## Agora é sua vez"
      ]
    },
    {
      "cell_type": "markdown",
      "metadata": {
        "ExecuteTime": {
          "end_time": "2021-09-27T19:00:37.575517Z",
          "start_time": "2021-09-27T19:00:37.555517Z"
        },
        "id": "LrtHAKZ1N5oF"
      },
      "source": [
        "**1) Crie um programa que irá receber uma variável e irá fornecer uma saída. Imprima impar se a variável for impar e par se a variável for par.**"
      ]
    },
    {
      "cell_type": "code",
      "metadata": {
        "id": "V6C17rXBN5oF",
        "colab": {
          "base_uri": "https://localhost:8080/"
        },
        "outputId": "24f9bd28-bb31-476f-bfd6-2b2cc3c06b8b"
      },
      "source": [
        "var = 2\n",
        "\n",
        "if var%2 == 0:\n",
        "  print('é par')\n",
        "else:\n",
        "  print('é ímpar')"
      ],
      "execution_count": 5,
      "outputs": [
        {
          "output_type": "stream",
          "name": "stdout",
          "text": [
            "é par\n"
          ]
        }
      ]
    },
    {
      "cell_type": "markdown",
      "metadata": {
        "id": "NDOaTE21N5oF"
      },
      "source": [
        "**2) Crie um programa que irá receber uma idade e irá fornecer uma saída. Se a idade for menor do que 12, imprima \"criança\", se a idade for menor do que 18 e maior do que 12, imprima \"adolescente\", se aidade for maior do que 18 e menor do que 60, imprima \"adulto\", senão imprima \"idoso\"**"
      ]
    },
    {
      "cell_type": "code",
      "metadata": {
        "id": "9ezKBpleN5oG",
        "colab": {
          "base_uri": "https://localhost:8080/"
        },
        "outputId": "11c8f96f-7a46-48c7-ac93-5a063019c29d"
      },
      "source": [
        "idade = 17\n",
        "\n",
        "if idade < 12:\n",
        "  print ('criança')\n",
        "elif idade < 18:\n",
        "  print('adolescente')\n",
        "elif idade < 60:\n",
        "  print('adulto')\n",
        "else:\n",
        "  print('idade')"
      ],
      "execution_count": 6,
      "outputs": [
        {
          "output_type": "stream",
          "name": "stdout",
          "text": [
            "adolescente\n"
          ]
        }
      ]
    }
  ]
}