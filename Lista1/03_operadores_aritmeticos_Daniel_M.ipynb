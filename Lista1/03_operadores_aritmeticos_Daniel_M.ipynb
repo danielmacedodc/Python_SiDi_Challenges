{
  "nbformat": 4,
  "nbformat_minor": 0,
  "metadata": {
    "kernelspec": {
      "display_name": "Python 3",
      "language": "python",
      "name": "python3"
    },
    "language_info": {
      "codemirror_mode": {
        "name": "ipython",
        "version": 3
      },
      "file_extension": ".py",
      "mimetype": "text/x-python",
      "name": "python",
      "nbconvert_exporter": "python",
      "pygments_lexer": "ipython3",
      "version": "3.8.11"
    },
    "colab": {
      "name": "03_operadores_aritmeticos - Daniel M.ipynb",
      "provenance": [],
      "collapsed_sections": []
    }
  },
  "cells": [
    {
      "cell_type": "markdown",
      "metadata": {
        "id": "St5vzanezfg1"
      },
      "source": [
        "# Curso de Python Básico\n",
        "\n",
        "Este é um curso básico de python que tem o objetivo de apresentar a linguagem python de uma **maneira rápida e objetiva**. Vamos direto ao ponto nos conceitos básicos da programação e python com muita mão na massa! \n",
        "\n",
        "Neste curso, vamos trabalhar no **modo iterativo** do python. Porém, entenda que você pode trabalhar no modo script com várias linhas de código usando um arquivo no formato .py.\n",
        "\n",
        "Ao final desse Curso, espero que você se aprenda python e se motive cada vez mais em utilizar a linguagem para diversas tarefas e problemas do mundo real.\n",
        "\n",
        "Este notebook vai apenas passar pelos tópicos básicos em ordem:\n",
        "\n",
        "* 1. Conceitos Básicos\n",
        "    * 1.7 Operadores Aritméticos"
      ]
    },
    {
      "cell_type": "markdown",
      "metadata": {
        "id": "wkuA3xxyzfg7"
      },
      "source": [
        "##  1. Conceitos Básicos"
      ]
    },
    {
      "cell_type": "markdown",
      "metadata": {
        "ExecuteTime": {
          "end_time": "2021-08-27T12:58:36.352675Z",
          "start_time": "2021-08-27T12:58:36.344676Z"
        },
        "id": "FcOLI_-ozfg8"
      },
      "source": [
        "#### 1.7 Operadores Aritiméticos\n",
        "- Adição\n",
        "- Subtração\n",
        "- Multiplicação\n",
        "- Divisão\n",
        "- Expondenciação\n",
        "- Resto da divisão"
      ]
    },
    {
      "cell_type": "code",
      "metadata": {
        "id": "R-97TkdCzfg9",
        "outputId": "5087c948-ef9f-4842-e6dc-f3bde835967e"
      },
      "source": [
        "# adição\n",
        "1 + 1"
      ],
      "execution_count": null,
      "outputs": [
        {
          "data": {
            "text/plain": [
              "2"
            ]
          },
          "execution_count": 1,
          "metadata": {},
          "output_type": "execute_result"
        }
      ]
    },
    {
      "cell_type": "code",
      "metadata": {
        "id": "ZJkjtNPczfhA",
        "outputId": "cc6a5d8c-6e02-48ab-ecab-0acfc1193b7f"
      },
      "source": [
        "# multiplicação\n",
        "1 * 3"
      ],
      "execution_count": null,
      "outputs": [
        {
          "data": {
            "text/plain": [
              "3"
            ]
          },
          "execution_count": 2,
          "metadata": {},
          "output_type": "execute_result"
        }
      ]
    },
    {
      "cell_type": "code",
      "metadata": {
        "id": "ezaXvwW5zfhB",
        "outputId": "e732e91b-8f6f-49b6-ca90-da39cbc6accc"
      },
      "source": [
        "# Divisão (float)\n",
        "1 / 2"
      ],
      "execution_count": null,
      "outputs": [
        {
          "data": {
            "text/plain": [
              "0.5"
            ]
          },
          "execution_count": 3,
          "metadata": {},
          "output_type": "execute_result"
        }
      ]
    },
    {
      "cell_type": "code",
      "metadata": {
        "id": "C0n2AjbCzfhB",
        "outputId": "05019078-6c58-4b0d-ffcd-52d49b515dd5"
      },
      "source": [
        "# Expondenciação\n",
        "2 ** 4"
      ],
      "execution_count": null,
      "outputs": [
        {
          "data": {
            "text/plain": [
              "16"
            ]
          },
          "execution_count": 4,
          "metadata": {},
          "output_type": "execute_result"
        }
      ]
    },
    {
      "cell_type": "code",
      "metadata": {
        "id": "vr-QkCZEzfhC",
        "outputId": "47d60448-dbac-45ca-d623-725caf2deb28"
      },
      "source": [
        "# Resto da divisão\n",
        "4 % 2"
      ],
      "execution_count": null,
      "outputs": [
        {
          "data": {
            "text/plain": [
              "0"
            ]
          },
          "execution_count": 5,
          "metadata": {},
          "output_type": "execute_result"
        }
      ]
    },
    {
      "cell_type": "code",
      "metadata": {
        "id": "0i49rLZ5zfhD",
        "outputId": "e455d3fa-dbc5-4636-d130-488585e07f70"
      },
      "source": [
        "(2 + 3) * (5 + 5) "
      ],
      "execution_count": null,
      "outputs": [
        {
          "data": {
            "text/plain": [
              "50"
            ]
          },
          "execution_count": 6,
          "metadata": {},
          "output_type": "execute_result"
        }
      ]
    },
    {
      "cell_type": "markdown",
      "metadata": {
        "ExecuteTime": {
          "end_time": "2021-08-27T13:02:00.190683Z",
          "start_time": "2021-08-27T13:02:00.173684Z"
        },
        "id": "-pac5t_wzfhE"
      },
      "source": [
        "##### 1.7.1 Ordem das operações\n",
        "\n",
        "Quando uma expressão contém mais de um operador, a ordem da avaliação depende da ordem das operações. Para operadores matemáticos o python segue a conversão matemática. O acrônimo **PEMDAS** pode ser útil para lembrar das regras \n",
        "- P: Parenteses\n",
        "- E: Exponenciação\n",
        "- M: Multiplicação\n",
        "- D: Divisão\n",
        "- A: Adição\n",
        "- S: Subtração:\n",
        "\n",
        "**Parenteses** tem a precedência mais alta e pode ser usado para força a ordem de uma expressão. A **Exponenciação** tem a próxima precedência mais alta. A **Multiplicação e a Divisão** tem a precedência mais alta do que a **adição e subtração**.Operadores com a mesma precedência são avaliados da esquerda para direita.\n",
        "        "
      ]
    },
    {
      "cell_type": "code",
      "metadata": {
        "ExecuteTime": {
          "end_time": "2021-08-27T13:03:55.098550Z",
          "start_time": "2021-08-27T13:03:55.080551Z"
        },
        "id": "hS2Dr_QpzfhF",
        "outputId": "19b4a7dd-3d1b-49e3-9408-2f6a57e97e72"
      },
      "source": [
        "(1 + 2) * 4"
      ],
      "execution_count": null,
      "outputs": [
        {
          "data": {
            "text/plain": [
              "12"
            ]
          },
          "execution_count": 7,
          "metadata": {},
          "output_type": "execute_result"
        }
      ]
    },
    {
      "cell_type": "code",
      "metadata": {
        "ExecuteTime": {
          "end_time": "2021-08-27T13:04:14.731243Z",
          "start_time": "2021-08-27T13:04:14.727245Z"
        },
        "id": "Z-4eYwYxzfhF",
        "outputId": "4f133077-7bf1-4ab5-c181-4139fbfc8ea1"
      },
      "source": [
        "2 * 2 ** 3 "
      ],
      "execution_count": null,
      "outputs": [
        {
          "data": {
            "text/plain": [
              "16"
            ]
          },
          "execution_count": 8,
          "metadata": {},
          "output_type": "execute_result"
        }
      ]
    },
    {
      "cell_type": "code",
      "metadata": {
        "ExecuteTime": {
          "end_time": "2021-08-27T13:04:38.852360Z",
          "start_time": "2021-08-27T13:04:38.847363Z"
        },
        "id": "hUWfCcOTzfhG",
        "outputId": "a39dd48d-8aeb-4100-cdac-a255180f49ac"
      },
      "source": [
        "2 + 5 * 2"
      ],
      "execution_count": null,
      "outputs": [
        {
          "data": {
            "text/plain": [
              "12"
            ]
          },
          "execution_count": 9,
          "metadata": {},
          "output_type": "execute_result"
        }
      ]
    },
    {
      "cell_type": "code",
      "metadata": {
        "ExecuteTime": {
          "end_time": "2021-08-27T13:04:54.907281Z",
          "start_time": "2021-08-27T13:04:54.902283Z"
        },
        "id": "CYXmZKO9zfhG",
        "outputId": "acf74f56-b91c-4d6d-8da2-3edaefe57880"
      },
      "source": [
        "2 + 10 / 2"
      ],
      "execution_count": null,
      "outputs": [
        {
          "data": {
            "text/plain": [
              "7.0"
            ]
          },
          "execution_count": 10,
          "metadata": {},
          "output_type": "execute_result"
        }
      ]
    },
    {
      "cell_type": "code",
      "metadata": {
        "ExecuteTime": {
          "end_time": "2021-08-27T13:06:06.669559Z",
          "start_time": "2021-08-27T13:06:06.664558Z"
        },
        "id": "rkVVKRkIzfhH"
      },
      "source": [
        "(1 + 2) ** 2 * 10 / 2 + 11 - 1"
      ],
      "execution_count": null,
      "outputs": []
    },
    {
      "cell_type": "markdown",
      "metadata": {
        "id": "g_-gkYoCzfhH"
      },
      "source": [
        "## Agora é sua vez!"
      ]
    },
    {
      "cell_type": "markdown",
      "metadata": {
        "id": "OzC_i8tXzfhI"
      },
      "source": [
        "**1) Quanto é 7 elevado na potência 4?**"
      ]
    },
    {
      "cell_type": "code",
      "metadata": {
        "id": "Fhu9t0gzzfhI",
        "colab": {
          "base_uri": "https://localhost:8080/"
        },
        "outputId": "48988c27-51b8-448b-8008-0d2025810e1a"
      },
      "source": [
        "7**4"
      ],
      "execution_count": 1,
      "outputs": [
        {
          "output_type": "execute_result",
          "data": {
            "text/plain": [
              "2401"
            ]
          },
          "metadata": {},
          "execution_count": 1
        }
      ]
    },
    {
      "cell_type": "markdown",
      "metadata": {
        "id": "J_L7l98vzfhI"
      },
      "source": [
        "**2) Qual o resultado da seguinte expressão: (5 + 8) ** 2 * 10 / 2 + 11 - 1** Descreva a ordem que ocorre as operações!"
      ]
    },
    {
      "cell_type": "markdown",
      "metadata": {
        "id": "AAHRApqfzfhJ"
      },
      "source": [
        "###### - descreva a ordem das operações em tópicos\n",
        "    - (5+8)\n",
        "    - (13)**2\n",
        "    - 169 * 10\n",
        "    - 1690/2\n",
        "    - 845 +11 -1\n",
        "    - 855\n"
      ]
    },
    {
      "cell_type": "code",
      "metadata": {
        "colab": {
          "base_uri": "https://localhost:8080/"
        },
        "id": "fzNrwZkW4EmG",
        "outputId": "f8c61168-b9fe-4307-82b7-a6d107988978"
      },
      "source": [
        "(5 + 8) ** 2 * 10 / 2 + 11 - 1"
      ],
      "execution_count": 2,
      "outputs": [
        {
          "output_type": "execute_result",
          "data": {
            "text/plain": [
              "855.0"
            ]
          },
          "metadata": {},
          "execution_count": 2
        }
      ]
    },
    {
      "cell_type": "markdown",
      "metadata": {
        "id": "AmZaKwbgzfhJ"
      },
      "source": [
        "**3) Explique o resultado da seguinte expressão: 5 + 8 ** 2 * 10 / 2 + 11 - 1** Descreva a ordem que ocorre as operações!"
      ]
    },
    {
      "cell_type": "markdown",
      "metadata": {
        "id": "Gbd_NXis4d_s"
      },
      "source": [
        "###### - descreva a ordem das operações em tópicos\n",
        "    - (5+8)\n",
        "    - (13)**2\n",
        "    - 169 * 10\n",
        "    - 1690/2\n",
        "    - 845 +11 -1\n",
        "    - 855\n"
      ]
    },
    {
      "cell_type": "code",
      "metadata": {
        "colab": {
          "base_uri": "https://localhost:8080/"
        },
        "id": "n3c5JIwU4d_w",
        "outputId": "f8c61168-b9fe-4307-82b7-a6d107988978"
      },
      "source": [
        "(5 + 8) ** 2 * 10 / 2 + 11 - 1"
      ],
      "execution_count": null,
      "outputs": [
        {
          "output_type": "execute_result",
          "data": {
            "text/plain": [
              "855.0"
            ]
          },
          "metadata": {},
          "execution_count": 2
        }
      ]
    },
    {
      "cell_type": "markdown",
      "metadata": {
        "id": "T0eBFErazfhO"
      },
      "source": [
        "**4) Explique o resultado da seguinte expressão: 5 + 8 ** 2 * 10 / 2 + 11 - 1**. Descreva a ordem que ocorre as operações!"
      ]
    },
    {
      "cell_type": "markdown",
      "metadata": {
        "id": "kgTFLwW24f22"
      },
      "source": [
        "###### - descreva a ordem das operações em tópicos\n",
        "    - (5+8)\n",
        "    - (13)**2\n",
        "    - 169 * 10\n",
        "    - 1690/2\n",
        "    - 845 +11 -1\n",
        "    - 855\n"
      ]
    },
    {
      "cell_type": "code",
      "metadata": {
        "colab": {
          "base_uri": "https://localhost:8080/"
        },
        "id": "eZnMlwZP4f22",
        "outputId": "f8c61168-b9fe-4307-82b7-a6d107988978"
      },
      "source": [
        "(5 + 8) ** 2 * 10 / 2 + 11 - 1"
      ],
      "execution_count": null,
      "outputs": [
        {
          "output_type": "execute_result",
          "data": {
            "text/plain": [
              "855.0"
            ]
          },
          "metadata": {},
          "execution_count": 2
        }
      ]
    }
  ]
}