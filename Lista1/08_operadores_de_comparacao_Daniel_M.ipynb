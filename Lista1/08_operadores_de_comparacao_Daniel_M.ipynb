{
  "nbformat": 4,
  "nbformat_minor": 0,
  "metadata": {
    "kernelspec": {
      "display_name": "Python 3",
      "language": "python",
      "name": "python3"
    },
    "language_info": {
      "codemirror_mode": {
        "name": "ipython",
        "version": 3
      },
      "file_extension": ".py",
      "mimetype": "text/x-python",
      "name": "python",
      "nbconvert_exporter": "python",
      "pygments_lexer": "ipython3",
      "version": "3.8.11"
    },
    "colab": {
      "name": "08_operadores_de_comparacao - Daniel M.ipynb",
      "provenance": [],
      "collapsed_sections": []
    }
  },
  "cells": [
    {
      "cell_type": "markdown",
      "metadata": {
        "id": "bZmJAEQaL65f"
      },
      "source": [
        "# Curso de Python Básico\n",
        "\n",
        "Este é um curso básico de python que tem o objetivo de apresentar a linguagem python de uma **maneira rápida e objetiva**. Vamos direto ao ponto nos conceitos básicos da programação e python com muita mão na massa! \n",
        "\n",
        "Neste curso, vamos trabalhar no **modo iterativo** do python. Porém, entenda que você pode trabalhar no modo script com várias linhas de código usando um arquivo no formato .py.\n",
        "\n",
        "Ao final desse Curso, espero que você se aprenda python e se motive cada vez mais em utilizar a linguagem para diversas tarefas e problemas do mundo real.\n",
        "\n",
        "Este notebook vai apenas passar pelos tópicos básicos em ordem:\n",
        "\n",
        "* 3. Operadores de comparação\n",
        "    * 3.1 Maior que\n",
        "    * 3.2 Menor que\n",
        "    * 3.3 Maior ou igual que\n",
        "    * 3.4 Menor ou igual que\n",
        "    * 3.5 Igual a\n",
        "    * 3.6 Diferente de\n",
        "    * 3.7 Pertence \n",
        "    * 3.8 Negação"
      ]
    },
    {
      "cell_type": "markdown",
      "metadata": {
        "id": "jw4vlgEhL65l"
      },
      "source": [
        "## 3. Operadores de comparação\n",
        "- Maior que\n",
        "- Menor que\n",
        "- Maior ou igual que\n",
        "- Menor ou igual que\n",
        "- Igual a\n",
        "- Diferente de\n",
        "- Pertence \n",
        "- Negação"
      ]
    },
    {
      "cell_type": "code",
      "metadata": {
        "ExecuteTime": {
          "end_time": "2021-09-27T18:30:36.002917Z",
          "start_time": "2021-09-27T18:30:33.155917Z"
        },
        "id": "lDNAeWqDL65l",
        "colab": {
          "base_uri": "https://localhost:8080/"
        },
        "outputId": "90f20fe2-dbc8-4761-a58a-25b1f76e040d"
      },
      "source": [
        "%%timeit\n",
        "1 > 2"
      ],
      "execution_count": 1,
      "outputs": [
        {
          "output_type": "stream",
          "name": "stdout",
          "text": [
            "The slowest run took 36.56 times longer than the fastest. This could mean that an intermediate result is being cached.\n",
            "10000000 loops, best of 5: 41.8 ns per loop\n"
          ]
        }
      ]
    },
    {
      "cell_type": "code",
      "metadata": {
        "ExecuteTime": {
          "end_time": "2021-09-27T18:14:02.318805Z",
          "start_time": "2021-09-27T18:14:02.304812Z"
        },
        "id": "Z8WwjcEvL65o",
        "colab": {
          "base_uri": "https://localhost:8080/"
        },
        "outputId": "8316ac17-661c-43f1-e6dd-01169a97b400"
      },
      "source": [
        "# Menor\n",
        "1 < 2"
      ],
      "execution_count": 2,
      "outputs": [
        {
          "output_type": "execute_result",
          "data": {
            "text/plain": [
              "True"
            ]
          },
          "metadata": {},
          "execution_count": 2
        }
      ]
    },
    {
      "cell_type": "code",
      "metadata": {
        "ExecuteTime": {
          "end_time": "2021-09-27T18:14:13.621949Z",
          "start_time": "2021-09-27T18:14:13.608556Z"
        },
        "id": "f4D3j2juL65o",
        "colab": {
          "base_uri": "https://localhost:8080/"
        },
        "outputId": "e5daa8bb-8908-46a3-ce41-a3467a2cbe16"
      },
      "source": [
        "# Maior ou igual\n",
        "1 >= 1"
      ],
      "execution_count": 3,
      "outputs": [
        {
          "output_type": "execute_result",
          "data": {
            "text/plain": [
              "True"
            ]
          },
          "metadata": {},
          "execution_count": 3
        }
      ]
    },
    {
      "cell_type": "code",
      "metadata": {
        "ExecuteTime": {
          "end_time": "2021-09-27T18:14:17.252927Z",
          "start_time": "2021-09-27T18:14:17.248929Z"
        },
        "id": "cEqZi-RWL65p",
        "colab": {
          "base_uri": "https://localhost:8080/"
        },
        "outputId": "0f20ae6b-07ab-41f5-bd6f-4e23c61ed310"
      },
      "source": [
        "# Menor ou igual\n",
        "1 <= 4"
      ],
      "execution_count": 4,
      "outputs": [
        {
          "output_type": "execute_result",
          "data": {
            "text/plain": [
              "True"
            ]
          },
          "metadata": {},
          "execution_count": 4
        }
      ]
    },
    {
      "cell_type": "code",
      "metadata": {
        "ExecuteTime": {
          "end_time": "2021-09-27T18:14:36.809733Z",
          "start_time": "2021-09-27T18:14:36.795734Z"
        },
        "id": "E-xTPZZfL65q",
        "colab": {
          "base_uri": "https://localhost:8080/"
        },
        "outputId": "b146b5d5-dda1-4f14-a15a-fde88c2d6da7"
      },
      "source": [
        "# igual\n",
        "1 == 1"
      ],
      "execution_count": 5,
      "outputs": [
        {
          "output_type": "execute_result",
          "data": {
            "text/plain": [
              "True"
            ]
          },
          "metadata": {},
          "execution_count": 5
        }
      ]
    },
    {
      "cell_type": "code",
      "metadata": {
        "ExecuteTime": {
          "end_time": "2021-09-27T18:14:46.261599Z",
          "start_time": "2021-09-27T18:14:46.256598Z"
        },
        "id": "xr0ofePQL65r",
        "colab": {
          "base_uri": "https://localhost:8080/"
        },
        "outputId": "1c8c2fa7-dff2-4bac-c769-c43369fe1570"
      },
      "source": [
        "# Diferente\n",
        "1 != 1"
      ],
      "execution_count": 6,
      "outputs": [
        {
          "output_type": "execute_result",
          "data": {
            "text/plain": [
              "False"
            ]
          },
          "metadata": {},
          "execution_count": 6
        }
      ]
    },
    {
      "cell_type": "code",
      "metadata": {
        "ExecuteTime": {
          "end_time": "2021-09-27T18:16:13.571481Z",
          "start_time": "2021-09-27T18:16:13.553483Z"
        },
        "id": "JKZpZms_L65s",
        "colab": {
          "base_uri": "https://localhost:8080/"
        },
        "outputId": "a997c2ac-3bf8-4d23-a274-4418372c26e4"
      },
      "source": [
        "# Pertence\n",
        "'Paulo' in 'oi paulo'"
      ],
      "execution_count": 7,
      "outputs": [
        {
          "output_type": "execute_result",
          "data": {
            "text/plain": [
              "False"
            ]
          },
          "metadata": {},
          "execution_count": 7
        }
      ]
    },
    {
      "cell_type": "code",
      "metadata": {
        "ExecuteTime": {
          "end_time": "2021-09-27T18:16:47.629845Z",
          "start_time": "2021-09-27T18:16:47.615847Z"
        },
        "id": "ThZljlj5L65t",
        "colab": {
          "base_uri": "https://localhost:8080/"
        },
        "outputId": "02d4c997-9c37-4ecd-d94e-d32b779c0142"
      },
      "source": [
        "# Negação\n",
        "2 not in [1,2,3,4,5,6]"
      ],
      "execution_count": 8,
      "outputs": [
        {
          "output_type": "execute_result",
          "data": {
            "text/plain": [
              "False"
            ]
          },
          "metadata": {},
          "execution_count": 8
        }
      ]
    },
    {
      "cell_type": "code",
      "metadata": {
        "ExecuteTime": {
          "end_time": "2021-09-27T18:21:17.649318Z",
          "start_time": "2021-09-27T18:21:17.638316Z"
        },
        "id": "vBaSCMdwL65u"
      },
      "source": [
        "digt = ['0','1','2','3','4','5','6','7','8','9']"
      ],
      "execution_count": 9,
      "outputs": []
    },
    {
      "cell_type": "code",
      "metadata": {
        "ExecuteTime": {
          "end_time": "2021-09-27T18:22:44.798292Z",
          "start_time": "2021-09-27T18:22:44.790291Z"
        },
        "id": "cM92n7psL65u"
      },
      "source": [
        "sequencia = 'nome', '1', '7', '8'"
      ],
      "execution_count": 10,
      "outputs": []
    },
    {
      "cell_type": "code",
      "metadata": {
        "ExecuteTime": {
          "end_time": "2021-09-27T18:22:48.536833Z",
          "start_time": "2021-09-27T18:22:48.518832Z"
        },
        "id": "vBqrkAi9L65v",
        "colab": {
          "base_uri": "https://localhost:8080/"
        },
        "outputId": "75ed8bbd-37ed-4ef0-b9b0-95651ceab7f7"
      },
      "source": [
        "sequencia"
      ],
      "execution_count": 11,
      "outputs": [
        {
          "output_type": "execute_result",
          "data": {
            "text/plain": [
              "('nome', '1', '7', '8')"
            ]
          },
          "metadata": {},
          "execution_count": 11
        }
      ]
    },
    {
      "cell_type": "markdown",
      "metadata": {
        "id": "LzX8EUXkL65v"
      },
      "source": [
        "## Agora é sua Vez"
      ]
    },
    {
      "cell_type": "markdown",
      "metadata": {
        "ExecuteTime": {
          "start_time": "2021-09-27T18:39:48.472Z"
        },
        "id": "6SRB_EFRL65v"
      },
      "source": [
        "**1) Crie diferentes expressões de verificação usando cada um dos operadores apresentados."
      ]
    },
    {
      "cell_type": "code",
      "metadata": {
        "id": "Z_rP_BgML65w",
        "colab": {
          "base_uri": "https://localhost:8080/"
        },
        "outputId": "ee3786c8-7740-4f86-90f9-fc8af8189c24"
      },
      "source": [
        "4 >= 5"
      ],
      "execution_count": 12,
      "outputs": [
        {
          "output_type": "execute_result",
          "data": {
            "text/plain": [
              "False"
            ]
          },
          "metadata": {},
          "execution_count": 12
        }
      ]
    },
    {
      "cell_type": "code",
      "metadata": {
        "colab": {
          "base_uri": "https://localhost:8080/"
        },
        "id": "S0NG6bEGMShs",
        "outputId": "ab871887-46e8-4f96-d5de-7dc482208cc6"
      },
      "source": [
        "3 >= -5"
      ],
      "execution_count": 14,
      "outputs": [
        {
          "output_type": "execute_result",
          "data": {
            "text/plain": [
              "True"
            ]
          },
          "metadata": {},
          "execution_count": 14
        }
      ]
    },
    {
      "cell_type": "code",
      "metadata": {
        "colab": {
          "base_uri": "https://localhost:8080/"
        },
        "id": "KdZpGxf-MUWw",
        "outputId": "7b1f9153-f05a-4977-8bfd-ad5496921095"
      },
      "source": [
        "animais = ['coelho', 'peixe', 'gato']\n",
        "'Gato' in animais"
      ],
      "execution_count": 15,
      "outputs": [
        {
          "output_type": "execute_result",
          "data": {
            "text/plain": [
              "False"
            ]
          },
          "metadata": {},
          "execution_count": 15
        }
      ]
    },
    {
      "cell_type": "code",
      "metadata": {
        "colab": {
          "base_uri": "https://localhost:8080/"
        },
        "id": "3WEKY3ZHMg_D",
        "outputId": "daa64c98-8f20-4b1d-ce53-25206f6c5db4"
      },
      "source": [
        "'peixe' in animais"
      ],
      "execution_count": 16,
      "outputs": [
        {
          "output_type": "execute_result",
          "data": {
            "text/plain": [
              "True"
            ]
          },
          "metadata": {},
          "execution_count": 16
        }
      ]
    },
    {
      "cell_type": "code",
      "metadata": {
        "colab": {
          "base_uri": "https://localhost:8080/"
        },
        "id": "tv_p2_OZMjOa",
        "outputId": "b4f3b186-8400-4653-d9f7-0947c6693126"
      },
      "source": [
        "3 != 8"
      ],
      "execution_count": 17,
      "outputs": [
        {
          "output_type": "execute_result",
          "data": {
            "text/plain": [
              "True"
            ]
          },
          "metadata": {},
          "execution_count": 17
        }
      ]
    },
    {
      "cell_type": "code",
      "metadata": {
        "colab": {
          "base_uri": "https://localhost:8080/"
        },
        "id": "HeYSUcCwMliz",
        "outputId": "14b29bee-2c61-4c77-a742-ad17e224726a"
      },
      "source": [
        "3 == 4"
      ],
      "execution_count": 18,
      "outputs": [
        {
          "output_type": "execute_result",
          "data": {
            "text/plain": [
              "False"
            ]
          },
          "metadata": {},
          "execution_count": 18
        }
      ]
    },
    {
      "cell_type": "code",
      "metadata": {
        "colab": {
          "base_uri": "https://localhost:8080/"
        },
        "id": "EpkOvNwJMnI5",
        "outputId": "3710ddec-3cd5-453b-b709-f8f9a9d0a745"
      },
      "source": [
        "4 not in [5,6,2,1,3,8,9]"
      ],
      "execution_count": 19,
      "outputs": [
        {
          "output_type": "execute_result",
          "data": {
            "text/plain": [
              "True"
            ]
          },
          "metadata": {},
          "execution_count": 19
        }
      ]
    },
    {
      "cell_type": "code",
      "metadata": {
        "id": "Q1qAuScxMsm5"
      },
      "source": [
        ""
      ],
      "execution_count": null,
      "outputs": []
    },
    {
      "cell_type": "markdown",
      "metadata": {
        "ExecuteTime": {
          "start_time": "2021-09-27T18:37:20.696Z"
        },
        "id": "0OXzlsNOL65w"
      },
      "source": [
        "**2) Verifique se os números 1 e 2 fazem parte do conjunto pares (0,2,4,6,8,10)**"
      ]
    },
    {
      "cell_type": "code",
      "metadata": {
        "id": "DhnKl_2SL65x",
        "colab": {
          "base_uri": "https://localhost:8080/"
        },
        "outputId": "47947363-35d3-46d3-ad57-d24025a67ce9"
      },
      "source": [
        "1 in (0,2,4,6,8,10)"
      ],
      "execution_count": 21,
      "outputs": [
        {
          "output_type": "execute_result",
          "data": {
            "text/plain": [
              "False"
            ]
          },
          "metadata": {},
          "execution_count": 21
        }
      ]
    },
    {
      "cell_type": "code",
      "metadata": {
        "colab": {
          "base_uri": "https://localhost:8080/"
        },
        "id": "pkzbLtZUM5tK",
        "outputId": "360d8d90-a328-4a3e-8f87-876bab8056a4"
      },
      "source": [
        "2 in (0,2,4,6,8,10)"
      ],
      "execution_count": 22,
      "outputs": [
        {
          "output_type": "execute_result",
          "data": {
            "text/plain": [
              "True"
            ]
          },
          "metadata": {},
          "execution_count": 22
        }
      ]
    }
  ]
}