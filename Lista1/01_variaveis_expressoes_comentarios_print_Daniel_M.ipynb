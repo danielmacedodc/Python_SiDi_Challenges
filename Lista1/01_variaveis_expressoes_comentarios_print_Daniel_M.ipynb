{
  "nbformat": 4,
  "nbformat_minor": 0,
  "metadata": {
    "kernelspec": {
      "display_name": "Python 3",
      "language": "python",
      "name": "python3"
    },
    "language_info": {
      "codemirror_mode": {
        "name": "ipython",
        "version": 3
      },
      "file_extension": ".py",
      "mimetype": "text/x-python",
      "name": "python",
      "nbconvert_exporter": "python",
      "pygments_lexer": "ipython3",
      "version": "3.8.11"
    },
    "colab": {
      "name": "01_variaveis_expressoes_comentarios_print - Daniel M.ipynb",
      "provenance": [],
      "collapsed_sections": []
    }
  },
  "cells": [
    {
      "cell_type": "markdown",
      "metadata": {
        "id": "PbG8S0rUwfUr"
      },
      "source": [
        "# Curso de Python Básico\n",
        "\n",
        "Este é um curso básico de python que tem o objetivo de apresentar a linguagem python de uma **maneira rápida e objetiva**. Vamos direto ao ponto nos conceitos básicos da programação e python com muita mão na massa! \n",
        "\n",
        "Neste curso, vamos trabalhar no **modo iterativo** do python. Porém, entenda que você pode trabalhar no modo script com várias linhas de código usando um arquivo no formato .py.\n",
        "\n",
        "Ao final desse Curso, espero que você se aprenda python e se motive cada vez mais em utilizar a linguagem para diversas tarefas e problemas do mundo real.\n",
        "\n",
        "Este notebook vai apenas passar pelos tópicos básicos em ordem:\n",
        "\n",
        "* 1. Conceitos Básicos\n",
        "    * 1.1 Variáveis\n",
        "    * 1.2 Comentários\n",
        "    * 1.3 Expressões\n",
        "    * 1.4 Imprimindo Valores"
      ]
    },
    {
      "cell_type": "markdown",
      "metadata": {
        "id": "XdqhfYFEwfUu"
      },
      "source": [
        "##  1. Conceitos Básicos\n",
        "#### 1.1 Variáveis\n",
        "**Conceito**: Uma variável é um nome que se refere a um valor.\n",
        "\n",
        "***Regras básicas***:\n",
        "- Nomes de variáveis sempre devem começar por caractere alfabético\n",
        "- Podem conter letras e números\n",
        "- Não se pode iniciar uma variável com números ou carateres especiais (@, %, &, |, ...), \n",
        "- Não é necessário colocar o tipo da variável (Python é não tipada)\n",
        "- Não utilizar linguagem reservadas da linguagem (class, int, float, False, finally, return, lambda, else, elif, pass, assert, break, with, ...)\n",
        "- A declaração é case sensitive, ou seja, a variável \"Nome\" é diferente de \"nome\""
      ]
    },
    {
      "cell_type": "code",
      "metadata": {
        "id": "zsqpRKB6wfUw"
      },
      "source": [
        "nome_da_variavel = 2"
      ],
      "execution_count": null,
      "outputs": []
    },
    {
      "cell_type": "code",
      "metadata": {
        "id": "tbaGUO8jwfUy"
      },
      "source": [
        "mensagem = \"Esta é mais uma aula do curso de python\""
      ],
      "execution_count": null,
      "outputs": []
    },
    {
      "cell_type": "code",
      "metadata": {
        "ExecuteTime": {
          "end_time": "2021-08-27T13:06:47.853256Z",
          "start_time": "2021-08-27T13:06:47.838263Z"
        },
        "id": "-VjRpMJSwfUy",
        "outputId": "08696432-9bbb-4ce4-b79c-7cc6a4d40bd5"
      },
      "source": [
        "@_variavel_1"
      ],
      "execution_count": null,
      "outputs": [
        {
          "ename": "SyntaxError",
          "evalue": "unexpected EOF while parsing (<ipython-input-8-cc2a0452e24a>, line 1)",
          "output_type": "error",
          "traceback": [
            "\u001b[1;36m  File \u001b[1;32m\"<ipython-input-8-cc2a0452e24a>\"\u001b[1;36m, line \u001b[1;32m1\u001b[0m\n\u001b[1;33m    @_variavel_1\u001b[0m\n\u001b[1;37m                ^\u001b[0m\n\u001b[1;31mSyntaxError\u001b[0m\u001b[1;31m:\u001b[0m unexpected EOF while parsing\n"
          ]
        }
      ]
    },
    {
      "cell_type": "code",
      "metadata": {
        "ExecuteTime": {
          "end_time": "2021-08-27T12:41:34.621952Z",
          "start_time": "2021-08-27T12:41:34.616954Z"
        },
        "id": "JjFjyySjwfUz",
        "outputId": "963bbddf-0c19-410c-ad22-45433d4fa053"
      },
      "source": [
        "m@is = 2"
      ],
      "execution_count": null,
      "outputs": [
        {
          "ename": "SyntaxError",
          "evalue": "invalid syntax (<ipython-input-9-dcfc9c562f91>, line 1)",
          "output_type": "error",
          "traceback": [
            "\u001b[1;36m  File \u001b[1;32m\"<ipython-input-9-dcfc9c562f91>\"\u001b[1;36m, line \u001b[1;32m1\u001b[0m\n\u001b[1;33m    m@is = 2\u001b[0m\n\u001b[1;37m      ^\u001b[0m\n\u001b[1;31mSyntaxError\u001b[0m\u001b[1;31m:\u001b[0m invalid syntax\n"
          ]
        }
      ]
    },
    {
      "cell_type": "code",
      "metadata": {
        "ExecuteTime": {
          "end_time": "2021-08-27T12:41:40.097571Z",
          "start_time": "2021-08-27T12:41:40.085574Z"
        },
        "id": "_XlKDVCowfU0",
        "outputId": "a48ff607-e64d-4605-bfd9-8d84532079f4"
      },
      "source": [
        "class = 55"
      ],
      "execution_count": null,
      "outputs": [
        {
          "ename": "SyntaxError",
          "evalue": "invalid syntax (<ipython-input-10-57339dcf3068>, line 1)",
          "output_type": "error",
          "traceback": [
            "\u001b[1;36m  File \u001b[1;32m\"<ipython-input-10-57339dcf3068>\"\u001b[1;36m, line \u001b[1;32m1\u001b[0m\n\u001b[1;33m    class = 55\u001b[0m\n\u001b[1;37m          ^\u001b[0m\n\u001b[1;31mSyntaxError\u001b[0m\u001b[1;31m:\u001b[0m invalid syntax\n"
          ]
        }
      ]
    },
    {
      "cell_type": "markdown",
      "metadata": {
        "id": "jj6NSyq1wfU1"
      },
      "source": [
        "#### 1.2 Expressão\n",
        "**Conceito**: É uma combinação de valores, variáveis e operadores. Um valor por si só já é considerado uma expressão, portanto, nos códigos acimas temos variáveis empressões"
      ]
    },
    {
      "cell_type": "code",
      "metadata": {
        "id": "8EnP8stywfU1"
      },
      "source": [
        "x = 2\n",
        "y = 3\n",
        "z = x + y"
      ],
      "execution_count": null,
      "outputs": []
    },
    {
      "cell_type": "code",
      "metadata": {
        "id": "SvDTcR0lwfU2",
        "outputId": "4a3e7453-68e5-4d27-98e1-ecb2f6b1851c"
      },
      "source": [
        "z"
      ],
      "execution_count": null,
      "outputs": [
        {
          "data": {
            "text/plain": [
              "5"
            ]
          },
          "execution_count": 12,
          "metadata": {},
          "output_type": "execute_result"
        }
      ]
    },
    {
      "cell_type": "markdown",
      "metadata": {
        "id": "v8bA_CaZwfU3"
      },
      "source": [
        "#### 1.3 Comentários\n",
        "\n",
        "Texto que escrevemos junto com código que não é executado. Usamos comentários para indicar a função do código, operação e documentação."
      ]
    },
    {
      "cell_type": "code",
      "metadata": {
        "ExecuteTime": {
          "end_time": "2021-08-27T17:38:05.558579Z",
          "start_time": "2021-08-27T17:38:05.550577Z"
        },
        "id": "vPeovT7KwfU3"
      },
      "source": [
        "# Este é um comentários curto"
      ],
      "execution_count": null,
      "outputs": []
    },
    {
      "cell_type": "code",
      "metadata": {
        "ExecuteTime": {
          "end_time": "2021-08-27T17:39:20.709511Z",
          "start_time": "2021-08-27T17:39:20.698522Z"
        },
        "id": "3E_98TSewfU4",
        "outputId": "63171754-ba7b-432b-a338-3437cf4ecd48"
      },
      "source": [
        "\"\"\"\n",
        "Este comentário composto\n",
        "pode conter multiplas linhas\n",
        "\n",
        "\"\"\""
      ],
      "execution_count": null,
      "outputs": [
        {
          "data": {
            "text/plain": [
              "'\\nEste comentário composto\\npode conter multiplas linhas\\n\\n'"
            ]
          },
          "execution_count": 14,
          "metadata": {},
          "output_type": "execute_result"
        }
      ]
    },
    {
      "cell_type": "markdown",
      "metadata": {
        "id": "uTnf37PGwfU4"
      },
      "source": [
        "#### 1.4 Imprimindo valores"
      ]
    },
    {
      "cell_type": "code",
      "metadata": {
        "ExecuteTime": {
          "end_time": "2021-08-27T12:42:43.805690Z",
          "start_time": "2021-08-27T12:42:43.797682Z"
        },
        "id": "l6u8YtFLwfU4"
      },
      "source": [
        "nome = 'João'\n",
        "idade = 50\n",
        "salario = 50000.00"
      ],
      "execution_count": 3,
      "outputs": []
    },
    {
      "cell_type": "code",
      "metadata": {
        "id": "M3cf7MQJwfU5"
      },
      "source": [
        "verdade = False"
      ],
      "execution_count": 1,
      "outputs": []
    },
    {
      "cell_type": "code",
      "metadata": {
        "ExecuteTime": {
          "end_time": "2021-08-27T14:20:20.215916Z",
          "start_time": "2021-08-27T14:20:20.203917Z"
        },
        "id": "CU-jvb_rwfU5",
        "colab": {
          "base_uri": "https://localhost:8080/"
        },
        "outputId": "960fb33f-8fae-49b6-9dca-311a50bf0622"
      },
      "source": [
        "print(nome)"
      ],
      "execution_count": 4,
      "outputs": [
        {
          "output_type": "stream",
          "name": "stdout",
          "text": [
            "João\n"
          ]
        }
      ]
    },
    {
      "cell_type": "code",
      "metadata": {
        "ExecuteTime": {
          "end_time": "2021-08-27T14:20:26.508649Z",
          "start_time": "2021-08-27T14:20:26.499649Z"
        },
        "id": "2bfF6071wfU6",
        "colab": {
          "base_uri": "https://localhost:8080/"
        },
        "outputId": "b9334c5e-7169-4482-df62-3bc0f2fb3649"
      },
      "source": [
        "print(idade)"
      ],
      "execution_count": 5,
      "outputs": [
        {
          "output_type": "stream",
          "name": "stdout",
          "text": [
            "50\n"
          ]
        }
      ]
    },
    {
      "cell_type": "code",
      "metadata": {
        "ExecuteTime": {
          "end_time": "2021-08-27T14:21:22.928128Z",
          "start_time": "2021-08-27T14:21:22.918130Z"
        },
        "id": "nOBQyo3mwfU6",
        "colab": {
          "base_uri": "https://localhost:8080/"
        },
        "outputId": "6553e837-5ca6-40aa-911c-62c84a002afe"
      },
      "source": [
        "# Usando separador\n",
        "print('Nicksson', 'Arrais', sep='/')"
      ],
      "execution_count": 6,
      "outputs": [
        {
          "output_type": "stream",
          "name": "stdout",
          "text": [
            "Nicksson/Arrais\n"
          ]
        }
      ]
    },
    {
      "cell_type": "code",
      "metadata": {
        "ExecuteTime": {
          "end_time": "2021-08-27T14:22:55.875830Z",
          "start_time": "2021-08-27T14:22:55.865832Z"
        },
        "id": "5wkqD8hWwfU6",
        "colab": {
          "base_uri": "https://localhost:8080/"
        },
        "outputId": "d099df65-4a64-43e4-a759-b5ed041f5ff9"
      },
      "source": [
        "# Usando format\n",
        "print('Meu número é: {var1}, e minha idade é: {var2}'.format(var2=nome,var1=idade))"
      ],
      "execution_count": 7,
      "outputs": [
        {
          "output_type": "stream",
          "name": "stdout",
          "text": [
            "Meu número é: 50, e minha idade é: João\n"
          ]
        }
      ]
    },
    {
      "cell_type": "code",
      "metadata": {
        "ExecuteTime": {
          "end_time": "2021-08-27T14:22:51.764173Z",
          "start_time": "2021-08-27T14:22:51.747176Z"
        },
        "id": "x0ef6vMBwfU6",
        "colab": {
          "base_uri": "https://localhost:8080/"
        },
        "outputId": "981d43c9-9f4a-478a-b29d-07ede897a897"
      },
      "source": [
        "# Usando format\n",
        "print(f'Eu sou o {nome} e eu tenho {idade} anos')"
      ],
      "execution_count": 8,
      "outputs": [
        {
          "output_type": "stream",
          "name": "stdout",
          "text": [
            "Eu sou o João e eu tenho 50 anos\n"
          ]
        }
      ]
    },
    {
      "cell_type": "code",
      "metadata": {
        "ExecuteTime": {
          "end_time": "2021-08-27T14:21:40.642434Z",
          "start_time": "2021-08-27T14:21:40.635436Z"
        },
        "scrolled": true,
        "id": "OBtcCg08wfU7",
        "colab": {
          "base_uri": "https://localhost:8080/"
        },
        "outputId": "6d806240-22a8-48d8-ce25-1be287fd3685"
      },
      "source": [
        "print('Oi {}, {}'.format(nome, idade))"
      ],
      "execution_count": 9,
      "outputs": [
        {
          "output_type": "stream",
          "name": "stdout",
          "text": [
            "Oi João, 50\n"
          ]
        }
      ]
    },
    {
      "cell_type": "code",
      "metadata": {
        "id": "mdqdwhdXwfU7"
      },
      "source": [
        ""
      ],
      "execution_count": null,
      "outputs": []
    },
    {
      "cell_type": "markdown",
      "metadata": {
        "id": "jDktVPWcwfU7"
      },
      "source": [
        "## Agora é a sua vez!\n",
        "\n",
        "1) Crie um programa que receba seu nome, idade, telefone, salário e endereço e imprima uma saída desejada. \n",
        "\n",
        "Saída: Eu sou {NOME}, eu tenho {IDADE}, você pode me contatar no número {TELEFONE} ou me visitar no endereço {ENDERECO}. Meu salário atual circula em torno de {SALARIO}.\n"
      ]
    },
    {
      "cell_type": "code",
      "metadata": {
        "id": "H5yaWHXywfU7",
        "colab": {
          "base_uri": "https://localhost:8080/"
        },
        "outputId": "252ddd3e-8685-4b1e-caa3-5fb9a801f088"
      },
      "source": [
        "nome = 'daniel'\n",
        "idade = '55'\n",
        "telefone = 123\n",
        "salario = 10\n",
        "endereco = 'rua novaes, nº 10'\n",
        "print(f'Eu sou {nome}, eu tenho {idade} anos, você pode me contatar no número \\\n",
        "{telefone} ou me visitar no endereço {endereco}. Meu salário atual circula \\\n",
        "em torno de {salario}.')"
      ],
      "execution_count": 10,
      "outputs": [
        {
          "output_type": "stream",
          "name": "stdout",
          "text": [
            "Eu sou daniel, eu tenho 55, você pode me contatar no número 123 ou me visitar no endereço rua novaes, nº 10. Meu salário atual circula em torno de 10.\n"
          ]
        }
      ]
    }
  ]
}